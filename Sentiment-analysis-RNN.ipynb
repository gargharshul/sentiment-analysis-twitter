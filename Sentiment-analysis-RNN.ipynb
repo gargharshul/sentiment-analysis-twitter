{
 "cells": [
  {
   "cell_type": "code",
   "execution_count": 27,
   "metadata": {
    "_cell_guid": "b1076dfc-b9ad-4769-8c92-a6c4dae69d19",
    "_uuid": "8f2839f25d086af736a60e9eeb907d3b93b6e0e5",
    "execution": {
     "iopub.execute_input": "2021-05-19T15:11:36.680894Z",
     "iopub.status.busy": "2021-05-19T15:11:36.680124Z",
     "iopub.status.idle": "2021-05-19T15:11:38.481945Z",
     "shell.execute_reply": "2021-05-19T15:11:38.482539Z"
    },
    "papermill": {
     "duration": 1.826133,
     "end_time": "2021-05-19T15:11:38.482735",
     "exception": false,
     "start_time": "2021-05-19T15:11:36.656602",
     "status": "completed"
    },
    "tags": []
   },
   "outputs": [],
   "source": [
    "import numpy as np \n",
    "import pandas as pd \n",
    "from textblob import TextBlob\n",
    "import matplotlib.pyplot as plt"
   ]
  },
  {
   "cell_type": "markdown",
   "metadata": {},
   "source": [
    "# Reading CSV file"
   ]
  },
  {
   "cell_type": "code",
   "execution_count": 310,
   "metadata": {},
   "outputs": [
    {
     "name": "stdout",
     "output_type": "stream",
     "text": [
      "   Unnamed: 0    User_id                                            Message  \\\n",
      "0           0  353007388  $TSLA  SpaceX Is Launching a Rocket the Size o...   \n",
      "1           1  353007192  $TSLA has been mentioned 3 times on WallStreet...   \n",
      "2           2  353006941  Recap 7/6:\\nGreat start to the week. $SPY puts...   \n",
      "3           3  353006805  $SPY $TSLA \\n\\nhttps://mobile.twitter.com/Clar...   \n",
      "4           4  353006152  $AMC For change you have to work together.\\n-T...   \n",
      "\n",
      "         Date       Time Sentiment  \n",
      "0  2021-07-07  01:04:41Z       NaN  \n",
      "1  2021-07-07  01:03:57Z       NaN  \n",
      "2  2021-07-07  01:02:56Z       NaN  \n",
      "3  2021-07-07  01:02:26Z   Bearish  \n",
      "4  2021-07-07  00:59:51Z   Bullish  \n"
     ]
    }
   ],
   "source": [
    "file = 'D:/BAIM Academic/Summer Mod 2/ML MGMT 590/TSLAtweets5k.csv'\n",
    "df_2 = pd.read_csv(file, sep=',')\n",
    "print(df_2.head())"
   ]
  },
  {
   "cell_type": "code",
   "execution_count": 311,
   "metadata": {
    "execution": {
     "iopub.execute_input": "2021-05-19T15:11:38.519003Z",
     "iopub.status.busy": "2021-05-19T15:11:38.518265Z",
     "iopub.status.idle": "2021-05-19T15:11:38.571936Z",
     "shell.execute_reply": "2021-05-19T15:11:38.572799Z"
    },
    "papermill": {
     "duration": 0.073683,
     "end_time": "2021-05-19T15:11:38.573016",
     "exception": false,
     "start_time": "2021-05-19T15:11:38.499333",
     "status": "completed"
    },
    "scrolled": true,
    "tags": []
   },
   "outputs": [
    {
     "name": "stdout",
     "output_type": "stream",
     "text": [
      "   Unnamed: 0    User_id                                            Message  \\\n",
      "0           0  352604057             $AAPL time to take it to 150 in 1 week   \n",
      "1           1  352603862  $AAPL In the recent reporting quarter: 25.00% ...   \n",
      "2           2  352603771  $AAPL We know what a difficult time it has bee...   \n",
      "3           3  352603702  $AAPL has a Return On Assets of 22.63%. This i...   \n",
      "4           4  352603496                             $AAPL  Slowly going up   \n",
      "\n",
      "         Date       Time Sentiment  \n",
      "0  2021-07-06  08:03:11Z   Bullish  \n",
      "1  2021-07-06  08:01:29Z       NaN  \n",
      "2  2021-07-06  08:00:35Z       NaN  \n",
      "3  2021-07-06  08:00:00Z       NaN  \n",
      "4  2021-07-06  07:57:34Z   Bullish  \n"
     ]
    }
   ],
   "source": [
    "file = 'D:/BAIM Academic/Summer Mod 2/ML MGMT 590/AAPLtweets5k.csv'\n",
    "df_1 = pd.read_csv(file, sep=',')\n",
    "print(df_1.head())"
   ]
  },
  {
   "cell_type": "code",
   "execution_count": 354,
   "metadata": {},
   "outputs": [],
   "source": [
    "df_2\n",
    "df_2['Date'] = pd.to_datetime(df_2['Date'])\n",
    "pred_data = df_2[(df_2['Date'] >= '2021-06-01')]\n",
    "pred_data.head()\n",
    "pred_data.to_csv('D:/BAIM Academic/Summer Mod 2/ML MGMT 590/TSLA_to_pred_data.csv', sep = ',',index = False)"
   ]
  },
  {
   "cell_type": "code",
   "execution_count": 312,
   "metadata": {
    "scrolled": true
   },
   "outputs": [
    {
     "name": "stdout",
     "output_type": "stream",
     "text": [
      "   Unnamed: 0    User_id                                            Message  \\\n",
      "0           0  352604057             $AAPL time to take it to 150 in 1 week   \n",
      "1           1  352603862  $AAPL In the recent reporting quarter: 25.00% ...   \n",
      "2           2  352603771  $AAPL We know what a difficult time it has bee...   \n",
      "3           3  352603702  $AAPL has a Return On Assets of 22.63%. This i...   \n",
      "4           4  352603496                             $AAPL  Slowly going up   \n",
      "\n",
      "         Date       Time Sentiment  \n",
      "0  2021-07-06  08:03:11Z   Bullish  \n",
      "1  2021-07-06  08:01:29Z       NaN  \n",
      "2  2021-07-06  08:00:35Z       NaN  \n",
      "3  2021-07-06  08:00:00Z       NaN  \n",
      "4  2021-07-06  07:57:34Z   Bullish  \n"
     ]
    }
   ],
   "source": [
    "df = pd.concat([df_1, df_2], ignore_index=True)\n",
    "print(df.head())"
   ]
  },
  {
   "cell_type": "markdown",
   "metadata": {},
   "source": [
    "# Data Cleaning"
   ]
  },
  {
   "cell_type": "code",
   "execution_count": 313,
   "metadata": {},
   "outputs": [
    {
     "data": {
      "text/html": [
       "<div>\n",
       "<style scoped>\n",
       "    .dataframe tbody tr th:only-of-type {\n",
       "        vertical-align: middle;\n",
       "    }\n",
       "\n",
       "    .dataframe tbody tr th {\n",
       "        vertical-align: top;\n",
       "    }\n",
       "\n",
       "    .dataframe thead th {\n",
       "        text-align: right;\n",
       "    }\n",
       "</style>\n",
       "<table border=\"1\" class=\"dataframe\">\n",
       "  <thead>\n",
       "    <tr style=\"text-align: right;\">\n",
       "      <th></th>\n",
       "      <th>Unnamed: 0</th>\n",
       "      <th>User_id</th>\n",
       "    </tr>\n",
       "  </thead>\n",
       "  <tbody>\n",
       "    <tr>\n",
       "      <th>count</th>\n",
       "      <td>299986.000000</td>\n",
       "      <td>2.999860e+05</td>\n",
       "    </tr>\n",
       "    <tr>\n",
       "      <th>mean</th>\n",
       "      <td>74996.000030</td>\n",
       "      <td>3.315685e+08</td>\n",
       "    </tr>\n",
       "    <tr>\n",
       "      <th>std</th>\n",
       "      <td>43299.321683</td>\n",
       "      <td>1.434288e+07</td>\n",
       "    </tr>\n",
       "    <tr>\n",
       "      <th>min</th>\n",
       "      <td>0.000000</td>\n",
       "      <td>2.997594e+08</td>\n",
       "    </tr>\n",
       "    <tr>\n",
       "      <th>25%</th>\n",
       "      <td>37498.000000</td>\n",
       "      <td>3.225103e+08</td>\n",
       "    </tr>\n",
       "    <tr>\n",
       "      <th>50%</th>\n",
       "      <td>74996.000000</td>\n",
       "      <td>3.330402e+08</td>\n",
       "    </tr>\n",
       "    <tr>\n",
       "      <th>75%</th>\n",
       "      <td>112494.000000</td>\n",
       "      <td>3.429894e+08</td>\n",
       "    </tr>\n",
       "    <tr>\n",
       "      <th>max</th>\n",
       "      <td>149995.000000</td>\n",
       "      <td>3.530074e+08</td>\n",
       "    </tr>\n",
       "  </tbody>\n",
       "</table>\n",
       "</div>"
      ],
      "text/plain": [
       "          Unnamed: 0       User_id\n",
       "count  299986.000000  2.999860e+05\n",
       "mean    74996.000030  3.315685e+08\n",
       "std     43299.321683  1.434288e+07\n",
       "min         0.000000  2.997594e+08\n",
       "25%     37498.000000  3.225103e+08\n",
       "50%     74996.000000  3.330402e+08\n",
       "75%    112494.000000  3.429894e+08\n",
       "max    149995.000000  3.530074e+08"
      ]
     },
     "execution_count": 313,
     "metadata": {},
     "output_type": "execute_result"
    }
   ],
   "source": [
    "df.describe()"
   ]
  },
  {
   "cell_type": "code",
   "execution_count": 314,
   "metadata": {
    "scrolled": false
   },
   "outputs": [
    {
     "name": "stdout",
     "output_type": "stream",
     "text": [
      "Requirement already satisfied: textblob in c:\\users\\harshul\\anaconda3\\lib\\site-packages (0.15.3)Note: you may need to restart the kernel to use updated packages.\n"
     ]
    },
    {
     "name": "stderr",
     "output_type": "stream",
     "text": [
      "WARNING: Ignoring invalid distribution -rotobuf (c:\\users\\harshul\\anaconda3\\lib\\site-packages)\n",
      "WARNING: Ignoring invalid distribution -rotobuf (c:\\users\\harshul\\anaconda3\\lib\\site-packages)\n",
      "WARNING: Ignoring invalid distribution -rotobuf (c:\\users\\harshul\\anaconda3\\lib\\site-packages)\n"
     ]
    },
    {
     "name": "stdout",
     "output_type": "stream",
     "text": [
      "\n",
      "Requirement already satisfied: nltk>=3.1 in c:\\users\\harshul\\anaconda3\\lib\\site-packages (from textblob) (3.5)\n",
      "Requirement already satisfied: regex in c:\\users\\harshul\\anaconda3\\lib\\site-packages (from nltk>=3.1->textblob) (2020.10.15)\n",
      "Requirement already satisfied: tqdm in c:\\users\\harshul\\anaconda3\\lib\\site-packages (from nltk>=3.1->textblob) (4.50.2)\n",
      "Requirement already satisfied: joblib in c:\\users\\harshul\\anaconda3\\lib\\site-packages (from nltk>=3.1->textblob) (0.17.0)\n",
      "Requirement already satisfied: click in c:\\users\\harshul\\anaconda3\\lib\\site-packages (from nltk>=3.1->textblob) (7.1.2)\n"
     ]
    }
   ],
   "source": [
    "pip install textblob"
   ]
  },
  {
   "cell_type": "code",
   "execution_count": 316,
   "metadata": {
    "execution": {
     "iopub.execute_input": "2021-05-19T15:11:38.622789Z",
     "iopub.status.busy": "2021-05-19T15:11:38.622002Z",
     "iopub.status.idle": "2021-05-19T15:11:38.631484Z",
     "shell.execute_reply": "2021-05-19T15:11:38.630877Z"
    },
    "papermill": {
     "duration": 0.041662,
     "end_time": "2021-05-19T15:11:38.631626",
     "exception": false,
     "start_time": "2021-05-19T15:11:38.589964",
     "status": "completed"
    },
    "scrolled": true,
    "tags": []
   },
   "outputs": [
    {
     "data": {
      "text/html": [
       "<div>\n",
       "<style scoped>\n",
       "    .dataframe tbody tr th:only-of-type {\n",
       "        vertical-align: middle;\n",
       "    }\n",
       "\n",
       "    .dataframe tbody tr th {\n",
       "        vertical-align: top;\n",
       "    }\n",
       "\n",
       "    .dataframe thead th {\n",
       "        text-align: right;\n",
       "    }\n",
       "</style>\n",
       "<table border=\"1\" class=\"dataframe\">\n",
       "  <thead>\n",
       "    <tr style=\"text-align: right;\">\n",
       "      <th></th>\n",
       "      <th>Message</th>\n",
       "      <th>Date</th>\n",
       "      <th>Time</th>\n",
       "      <th>Sentiment</th>\n",
       "    </tr>\n",
       "  </thead>\n",
       "  <tbody>\n",
       "    <tr>\n",
       "      <th>0</th>\n",
       "      <td>$AAPL time to take it to 150 in 1 week</td>\n",
       "      <td>2021-07-06</td>\n",
       "      <td>08:03:11Z</td>\n",
       "      <td>Bullish</td>\n",
       "    </tr>\n",
       "    <tr>\n",
       "      <th>4</th>\n",
       "      <td>$AAPL  Slowly going up</td>\n",
       "      <td>2021-07-06</td>\n",
       "      <td>07:57:34Z</td>\n",
       "      <td>Bullish</td>\n",
       "    </tr>\n",
       "    <tr>\n",
       "      <th>6</th>\n",
       "      <td>$SNDL \\nSo many things\\n- about a BILLION in t...</td>\n",
       "      <td>2021-07-06</td>\n",
       "      <td>07:49:10Z</td>\n",
       "      <td>Bullish</td>\n",
       "    </tr>\n",
       "    <tr>\n",
       "      <th>7</th>\n",
       "      <td>SmartOptions® Unusual Activity Alert\\n(Delayed...</td>\n",
       "      <td>2021-07-06</td>\n",
       "      <td>07:44:42Z</td>\n",
       "      <td>Bearish</td>\n",
       "    </tr>\n",
       "    <tr>\n",
       "      <th>11</th>\n",
       "      <td>$AAPL when is  the time for covered calls? I t...</td>\n",
       "      <td>2021-07-06</td>\n",
       "      <td>07:38:41Z</td>\n",
       "      <td>Bullish</td>\n",
       "    </tr>\n",
       "  </tbody>\n",
       "</table>\n",
       "</div>"
      ],
      "text/plain": [
       "                                              Message        Date       Time  \\\n",
       "0              $AAPL time to take it to 150 in 1 week  2021-07-06  08:03:11Z   \n",
       "4                              $AAPL  Slowly going up  2021-07-06  07:57:34Z   \n",
       "6   $SNDL \\nSo many things\\n- about a BILLION in t...  2021-07-06  07:49:10Z   \n",
       "7   SmartOptions® Unusual Activity Alert\\n(Delayed...  2021-07-06  07:44:42Z   \n",
       "11  $AAPL when is  the time for covered calls? I t...  2021-07-06  07:38:41Z   \n",
       "\n",
       "   Sentiment  \n",
       "0    Bullish  \n",
       "4    Bullish  \n",
       "6    Bullish  \n",
       "7    Bearish  \n",
       "11   Bullish  "
      ]
     },
     "execution_count": 316,
     "metadata": {},
     "output_type": "execute_result"
    }
   ],
   "source": [
    "data = df.drop(['User_id','Unnamed: 0'],axis = 1)\n",
    "data.reset_index(drop=True, inplace=True)\n",
    "data.dropna(inplace=True)\n",
    "data.head()\n"
   ]
  },
  {
   "cell_type": "code",
   "execution_count": 317,
   "metadata": {},
   "outputs": [
    {
     "data": {
      "text/html": [
       "<div>\n",
       "<style scoped>\n",
       "    .dataframe tbody tr th:only-of-type {\n",
       "        vertical-align: middle;\n",
       "    }\n",
       "\n",
       "    .dataframe tbody tr th {\n",
       "        vertical-align: top;\n",
       "    }\n",
       "\n",
       "    .dataframe thead th {\n",
       "        text-align: right;\n",
       "    }\n",
       "</style>\n",
       "<table border=\"1\" class=\"dataframe\">\n",
       "  <thead>\n",
       "    <tr style=\"text-align: right;\">\n",
       "      <th></th>\n",
       "      <th>Message</th>\n",
       "      <th>Date</th>\n",
       "      <th>Time</th>\n",
       "      <th>Sentiment</th>\n",
       "    </tr>\n",
       "  </thead>\n",
       "  <tbody>\n",
       "    <tr>\n",
       "      <th>0</th>\n",
       "      <td>$AAPL time to take it to 150 in 1 week</td>\n",
       "      <td>2021-07-06</td>\n",
       "      <td>08:03:11Z</td>\n",
       "      <td>1</td>\n",
       "    </tr>\n",
       "    <tr>\n",
       "      <th>4</th>\n",
       "      <td>$AAPL  Slowly going up</td>\n",
       "      <td>2021-07-06</td>\n",
       "      <td>07:57:34Z</td>\n",
       "      <td>1</td>\n",
       "    </tr>\n",
       "    <tr>\n",
       "      <th>6</th>\n",
       "      <td>$SNDL \\nSo many things\\n- about a BILLION in t...</td>\n",
       "      <td>2021-07-06</td>\n",
       "      <td>07:49:10Z</td>\n",
       "      <td>1</td>\n",
       "    </tr>\n",
       "    <tr>\n",
       "      <th>7</th>\n",
       "      <td>SmartOptions® Unusual Activity Alert\\n(Delayed...</td>\n",
       "      <td>2021-07-06</td>\n",
       "      <td>07:44:42Z</td>\n",
       "      <td>0</td>\n",
       "    </tr>\n",
       "    <tr>\n",
       "      <th>11</th>\n",
       "      <td>$AAPL when is  the time for covered calls? I t...</td>\n",
       "      <td>2021-07-06</td>\n",
       "      <td>07:38:41Z</td>\n",
       "      <td>1</td>\n",
       "    </tr>\n",
       "  </tbody>\n",
       "</table>\n",
       "</div>"
      ],
      "text/plain": [
       "                                              Message        Date       Time  \\\n",
       "0              $AAPL time to take it to 150 in 1 week  2021-07-06  08:03:11Z   \n",
       "4                              $AAPL  Slowly going up  2021-07-06  07:57:34Z   \n",
       "6   $SNDL \\nSo many things\\n- about a BILLION in t...  2021-07-06  07:49:10Z   \n",
       "7   SmartOptions® Unusual Activity Alert\\n(Delayed...  2021-07-06  07:44:42Z   \n",
       "11  $AAPL when is  the time for covered calls? I t...  2021-07-06  07:38:41Z   \n",
       "\n",
       "   Sentiment  \n",
       "0          1  \n",
       "4          1  \n",
       "6          1  \n",
       "7          0  \n",
       "11         1  "
      ]
     },
     "execution_count": 317,
     "metadata": {},
     "output_type": "execute_result"
    }
   ],
   "source": [
    "data[\"Sentiment\"].replace({\"Bullish\": \"1\", \"Bearish\": \"0\"}, inplace=True)\n",
    "data.head()"
   ]
  },
  {
   "cell_type": "code",
   "execution_count": 318,
   "metadata": {},
   "outputs": [
    {
     "data": {
      "text/plain": [
       "Message      object\n",
       "Date         object\n",
       "Time         object\n",
       "Sentiment     int32\n",
       "dtype: object"
      ]
     },
     "execution_count": 318,
     "metadata": {},
     "output_type": "execute_result"
    }
   ],
   "source": [
    "data = data.astype({'Sentiment': 'int32'})\n",
    "data.dtypes"
   ]
  },
  {
   "cell_type": "code",
   "execution_count": 319,
   "metadata": {},
   "outputs": [
    {
     "data": {
      "text/html": [
       "<div>\n",
       "<style scoped>\n",
       "    .dataframe tbody tr th:only-of-type {\n",
       "        vertical-align: middle;\n",
       "    }\n",
       "\n",
       "    .dataframe tbody tr th {\n",
       "        vertical-align: top;\n",
       "    }\n",
       "\n",
       "    .dataframe thead th {\n",
       "        text-align: right;\n",
       "    }\n",
       "</style>\n",
       "<table border=\"1\" class=\"dataframe\">\n",
       "  <thead>\n",
       "    <tr style=\"text-align: right;\">\n",
       "      <th></th>\n",
       "      <th>Message</th>\n",
       "      <th>Date</th>\n",
       "      <th>Time</th>\n",
       "      <th>Sentiment</th>\n",
       "    </tr>\n",
       "  </thead>\n",
       "  <tbody>\n",
       "    <tr>\n",
       "      <th>0</th>\n",
       "      <td>$AAPL time to take it to 150 in 1 week</td>\n",
       "      <td>2021-07-06</td>\n",
       "      <td>08:03:11Z</td>\n",
       "      <td>1</td>\n",
       "    </tr>\n",
       "    <tr>\n",
       "      <th>4</th>\n",
       "      <td>$AAPL  Slowly going up</td>\n",
       "      <td>2021-07-06</td>\n",
       "      <td>07:57:34Z</td>\n",
       "      <td>1</td>\n",
       "    </tr>\n",
       "    <tr>\n",
       "      <th>6</th>\n",
       "      <td>$SNDL \\nSo many things\\n- about a BILLION in t...</td>\n",
       "      <td>2021-07-06</td>\n",
       "      <td>07:49:10Z</td>\n",
       "      <td>1</td>\n",
       "    </tr>\n",
       "    <tr>\n",
       "      <th>7</th>\n",
       "      <td>SmartOptions® Unusual Activity Alert\\n(Delayed...</td>\n",
       "      <td>2021-07-06</td>\n",
       "      <td>07:44:42Z</td>\n",
       "      <td>0</td>\n",
       "    </tr>\n",
       "    <tr>\n",
       "      <th>11</th>\n",
       "      <td>$AAPL when is  the time for covered calls? I t...</td>\n",
       "      <td>2021-07-06</td>\n",
       "      <td>07:38:41Z</td>\n",
       "      <td>1</td>\n",
       "    </tr>\n",
       "  </tbody>\n",
       "</table>\n",
       "</div>"
      ],
      "text/plain": [
       "                                              Message       Date       Time  \\\n",
       "0              $AAPL time to take it to 150 in 1 week 2021-07-06  08:03:11Z   \n",
       "4                              $AAPL  Slowly going up 2021-07-06  07:57:34Z   \n",
       "6   $SNDL \\nSo many things\\n- about a BILLION in t... 2021-07-06  07:49:10Z   \n",
       "7   SmartOptions® Unusual Activity Alert\\n(Delayed... 2021-07-06  07:44:42Z   \n",
       "11  $AAPL when is  the time for covered calls? I t... 2021-07-06  07:38:41Z   \n",
       "\n",
       "    Sentiment  \n",
       "0           1  \n",
       "4           1  \n",
       "6           1  \n",
       "7           0  \n",
       "11          1  "
      ]
     },
     "execution_count": 319,
     "metadata": {},
     "output_type": "execute_result"
    }
   ],
   "source": [
    "data['Date'] = pd.to_datetime(data['Date'])\n",
    "data.head()"
   ]
  },
  {
   "cell_type": "code",
   "execution_count": 320,
   "metadata": {
    "execution": {
     "iopub.execute_input": "2021-05-19T15:11:38.672752Z",
     "iopub.status.busy": "2021-05-19T15:11:38.671763Z",
     "iopub.status.idle": "2021-05-19T15:11:38.676067Z",
     "shell.execute_reply": "2021-05-19T15:11:38.675555Z"
    },
    "papermill": {
     "duration": 0.027524,
     "end_time": "2021-05-19T15:11:38.676201",
     "exception": false,
     "start_time": "2021-05-19T15:11:38.648677",
     "status": "completed"
    },
    "scrolled": true,
    "tags": []
   },
   "outputs": [
    {
     "name": "stdout",
     "output_type": "stream",
     "text": [
      "$AAPL  Slowly going up\n"
     ]
    }
   ],
   "source": [
    "tweets = data['Message']\n",
    "print(tweets[4])"
   ]
  },
  {
   "cell_type": "code",
   "execution_count": 28,
   "metadata": {
    "execution": {
     "iopub.execute_input": "2021-05-19T15:11:38.719050Z",
     "iopub.status.busy": "2021-05-19T15:11:38.718306Z",
     "iopub.status.idle": "2021-05-19T15:11:50.046716Z",
     "shell.execute_reply": "2021-05-19T15:11:50.046140Z"
    },
    "papermill": {
     "duration": 11.351199,
     "end_time": "2021-05-19T15:11:50.046842",
     "exception": false,
     "start_time": "2021-05-19T15:11:38.695643",
     "status": "completed"
    },
    "scrolled": false,
    "tags": []
   },
   "outputs": [
    {
     "name": "stdout",
     "output_type": "stream",
     "text": [
      "Collecting langdetect\n",
      "  Downloading langdetect-1.0.9.tar.gz (981 kB)\n",
      "Requirement already satisfied: six in c:\\users\\harshul\\anaconda3\\lib\\site-packages (from langdetect) (1.15.0)\n",
      "Building wheels for collected packages: langdetect\n",
      "  Building wheel for langdetect (setup.py): started\n",
      "  Building wheel for langdetect (setup.py): finished with status 'done'\n",
      "  Created wheel for langdetect: filename=langdetect-1.0.9-py3-none-any.whl size=993227 sha256=8e249feb667af40e3b3f8785c073139ce096342c33a1b8f4aaaf7203f0fe1420\n",
      "  Stored in directory: c:\\users\\harshul\\appdata\\local\\pip\\cache\\wheels\\13\\c7\\b0\\79f66658626032e78fc1a83103690ef6797d551cb22e56e734\n",
      "Successfully built langdetect\n",
      "Installing collected packages: langdetect\n",
      "Successfully installed langdetect-1.0.9\n",
      "Note: you may need to restart the kernel to use updated packages.\n"
     ]
    }
   ],
   "source": [
    "pip install langdetect"
   ]
  },
  {
   "cell_type": "code",
   "execution_count": 321,
   "metadata": {
    "execution": {
     "iopub.execute_input": "2021-05-19T15:11:50.484995Z",
     "iopub.status.busy": "2021-05-19T15:11:50.484056Z",
     "iopub.status.idle": "2021-05-19T15:11:50.756853Z",
     "shell.execute_reply": "2021-05-19T15:11:50.756252Z"
    },
    "papermill": {
     "duration": 0.312531,
     "end_time": "2021-05-19T15:11:50.756980",
     "exception": false,
     "start_time": "2021-05-19T15:11:50.444449",
     "status": "completed"
    },
    "tags": []
   },
   "outputs": [
    {
     "data": {
      "text/html": [
       "<div>\n",
       "<style scoped>\n",
       "    .dataframe tbody tr th:only-of-type {\n",
       "        vertical-align: middle;\n",
       "    }\n",
       "\n",
       "    .dataframe tbody tr th {\n",
       "        vertical-align: top;\n",
       "    }\n",
       "\n",
       "    .dataframe thead th {\n",
       "        text-align: right;\n",
       "    }\n",
       "</style>\n",
       "<table border=\"1\" class=\"dataframe\">\n",
       "  <thead>\n",
       "    <tr style=\"text-align: right;\">\n",
       "      <th></th>\n",
       "      <th>Message</th>\n",
       "      <th>Date</th>\n",
       "      <th>Time</th>\n",
       "      <th>Sentiment</th>\n",
       "    </tr>\n",
       "  </thead>\n",
       "  <tbody>\n",
       "    <tr>\n",
       "      <th>76255</th>\n",
       "      <td>told aapl</td>\n",
       "      <td>2021-04-28</td>\n",
       "      <td>20:46:21Z</td>\n",
       "      <td>1</td>\n",
       "    </tr>\n",
       "    <tr>\n",
       "      <th>147173</th>\n",
       "      <td>aapl gosh please help apple follow trend</td>\n",
       "      <td>2021-03-08</td>\n",
       "      <td>14:05:50Z</td>\n",
       "      <td>1</td>\n",
       "    </tr>\n",
       "    <tr>\n",
       "      <th>21523</th>\n",
       "      <td>gm aapl flight apple shares either way flight ...</td>\n",
       "      <td>2021-06-16</td>\n",
       "      <td>17:05:12Z</td>\n",
       "      <td>1</td>\n",
       "    </tr>\n",
       "  </tbody>\n",
       "</table>\n",
       "</div>"
      ],
      "text/plain": [
       "                                                  Message       Date  \\\n",
       "76255                                           told aapl 2021-04-28   \n",
       "147173           aapl gosh please help apple follow trend 2021-03-08   \n",
       "21523   gm aapl flight apple shares either way flight ... 2021-06-16   \n",
       "\n",
       "             Time  Sentiment  \n",
       "76255   20:46:21Z          1  \n",
       "147173  14:05:50Z          1  \n",
       "21523   17:05:12Z          1  "
      ]
     },
     "execution_count": 321,
     "metadata": {},
     "output_type": "execute_result"
    }
   ],
   "source": [
    "import nltk\n",
    "import re\n",
    "from nltk.corpus import stopwords\n",
    "\n",
    "def text_cleaning(text):\n",
    "    forbidden_words = set(stopwords.words('english'))\n",
    "    text = ' '.join(text.split('.'))\n",
    "    text = re.sub('\\/',' ',text)\n",
    "    text = text.strip('\\'\"')\n",
    "    text = re.sub(r'@([^\\s]+)',r'\\1',text)\n",
    "    text = re.sub(r'\\\\',' ',text)\n",
    "    text = text.lower()\n",
    "    text = re.sub('[\\s]+', ' ', text)\n",
    "    text = re.sub(r'#([^\\s]+)', r'\\1', text)\n",
    "    text = re.sub('((www\\.[^\\s]+)|(https?://[^\\s]+))',' ',text)\n",
    "    text = re.sub(r'((http)\\S+)','',text)\n",
    "    text = re.sub(r'\\s+', ' ', re.sub('[^A-Za-z]', ' ', text.strip().lower())).strip()\n",
    "    text = re.sub(r'\\W+', ' ', text.strip().lower()).strip()\n",
    "    text = [word for word in text.split() if word not in forbidden_words]\n",
    "    return ' '.join(text)\n",
    "\n",
    "data['Message'] = data['Message'].apply(lambda text: text_cleaning(text))\n",
    "data.sample(3)"
   ]
  },
  {
   "cell_type": "code",
   "execution_count": 325,
   "metadata": {},
   "outputs": [
    {
     "data": {
      "text/html": [
       "<div>\n",
       "<style scoped>\n",
       "    .dataframe tbody tr th:only-of-type {\n",
       "        vertical-align: middle;\n",
       "    }\n",
       "\n",
       "    .dataframe tbody tr th {\n",
       "        vertical-align: top;\n",
       "    }\n",
       "\n",
       "    .dataframe thead th {\n",
       "        text-align: right;\n",
       "    }\n",
       "</style>\n",
       "<table border=\"1\" class=\"dataframe\">\n",
       "  <thead>\n",
       "    <tr style=\"text-align: right;\">\n",
       "      <th></th>\n",
       "      <th>Message</th>\n",
       "      <th>Date</th>\n",
       "      <th>Time</th>\n",
       "      <th>Sentiment</th>\n",
       "      <th>lang</th>\n",
       "    </tr>\n",
       "  </thead>\n",
       "  <tbody>\n",
       "    <tr>\n",
       "      <th>0</th>\n",
       "      <td>aapl time take week</td>\n",
       "      <td>2021-07-06</td>\n",
       "      <td>08:03:11Z</td>\n",
       "      <td>1</td>\n",
       "      <td>af</td>\n",
       "    </tr>\n",
       "    <tr>\n",
       "      <th>4</th>\n",
       "      <td>aapl slowly going</td>\n",
       "      <td>2021-07-06</td>\n",
       "      <td>07:57:34Z</td>\n",
       "      <td>1</td>\n",
       "      <td>en</td>\n",
       "    </tr>\n",
       "    <tr>\n",
       "      <th>6</th>\n",
       "      <td>sndl many things billion bank debt free cannab...</td>\n",
       "      <td>2021-07-06</td>\n",
       "      <td>07:49:10Z</td>\n",
       "      <td>1</td>\n",
       "      <td>en</td>\n",
       "    </tr>\n",
       "    <tr>\n",
       "      <th>7</th>\n",
       "      <td>smartoptions unusual activity alert delayed aa...</td>\n",
       "      <td>2021-07-06</td>\n",
       "      <td>07:44:42Z</td>\n",
       "      <td>0</td>\n",
       "      <td>en</td>\n",
       "    </tr>\n",
       "    <tr>\n",
       "      <th>11</th>\n",
       "      <td>aapl time covered calls think reaching cautious</td>\n",
       "      <td>2021-07-06</td>\n",
       "      <td>07:38:41Z</td>\n",
       "      <td>1</td>\n",
       "      <td>en</td>\n",
       "    </tr>\n",
       "  </tbody>\n",
       "</table>\n",
       "</div>"
      ],
      "text/plain": [
       "                                              Message       Date       Time  \\\n",
       "0                                 aapl time take week 2021-07-06  08:03:11Z   \n",
       "4                                   aapl slowly going 2021-07-06  07:57:34Z   \n",
       "6   sndl many things billion bank debt free cannab... 2021-07-06  07:49:10Z   \n",
       "7   smartoptions unusual activity alert delayed aa... 2021-07-06  07:44:42Z   \n",
       "11    aapl time covered calls think reaching cautious 2021-07-06  07:38:41Z   \n",
       "\n",
       "    Sentiment lang  \n",
       "0           1   af  \n",
       "4           1   en  \n",
       "6           1   en  \n",
       "7           0   en  \n",
       "11          1   en  "
      ]
     },
     "execution_count": 325,
     "metadata": {},
     "output_type": "execute_result"
    }
   ],
   "source": [
    "from langdetect import detect, DetectorFactory\n",
    "DetectorFactory.seed = 0\n",
    "\n",
    "L=[]\n",
    "for row in data['Message']:\n",
    "    if len(row) >= 3:\n",
    "        L.append(detect(row))\n",
    "    else:\n",
    "        L.append(None)\n",
    "\n",
    "data['lang'] = L\n",
    "data.head()"
   ]
  },
  {
   "cell_type": "code",
   "execution_count": 326,
   "metadata": {
    "scrolled": false
   },
   "outputs": [
    {
     "data": {
      "text/html": [
       "<div>\n",
       "<style scoped>\n",
       "    .dataframe tbody tr th:only-of-type {\n",
       "        vertical-align: middle;\n",
       "    }\n",
       "\n",
       "    .dataframe tbody tr th {\n",
       "        vertical-align: top;\n",
       "    }\n",
       "\n",
       "    .dataframe thead th {\n",
       "        text-align: right;\n",
       "    }\n",
       "</style>\n",
       "<table border=\"1\" class=\"dataframe\">\n",
       "  <thead>\n",
       "    <tr style=\"text-align: right;\">\n",
       "      <th></th>\n",
       "      <th>Message</th>\n",
       "      <th>Date</th>\n",
       "      <th>Time</th>\n",
       "      <th>Sentiment</th>\n",
       "      <th>lang</th>\n",
       "    </tr>\n",
       "  </thead>\n",
       "  <tbody>\n",
       "    <tr>\n",
       "      <th>4</th>\n",
       "      <td>aapl slowly going</td>\n",
       "      <td>2021-07-06</td>\n",
       "      <td>07:57:34Z</td>\n",
       "      <td>1</td>\n",
       "      <td>en</td>\n",
       "    </tr>\n",
       "    <tr>\n",
       "      <th>6</th>\n",
       "      <td>sndl many things billion bank debt free cannab...</td>\n",
       "      <td>2021-07-06</td>\n",
       "      <td>07:49:10Z</td>\n",
       "      <td>1</td>\n",
       "      <td>en</td>\n",
       "    </tr>\n",
       "    <tr>\n",
       "      <th>7</th>\n",
       "      <td>smartoptions unusual activity alert delayed aa...</td>\n",
       "      <td>2021-07-06</td>\n",
       "      <td>07:44:42Z</td>\n",
       "      <td>0</td>\n",
       "      <td>en</td>\n",
       "    </tr>\n",
       "    <tr>\n",
       "      <th>11</th>\n",
       "      <td>aapl time covered calls think reaching cautious</td>\n",
       "      <td>2021-07-06</td>\n",
       "      <td>07:38:41Z</td>\n",
       "      <td>1</td>\n",
       "      <td>en</td>\n",
       "    </tr>\n",
       "    <tr>\n",
       "      <th>12</th>\n",
       "      <td>smartoptions unusual activity alert delayed aa...</td>\n",
       "      <td>2021-07-06</td>\n",
       "      <td>07:38:31Z</td>\n",
       "      <td>0</td>\n",
       "      <td>en</td>\n",
       "    </tr>\n",
       "  </tbody>\n",
       "</table>\n",
       "</div>"
      ],
      "text/plain": [
       "                                              Message       Date       Time  \\\n",
       "4                                   aapl slowly going 2021-07-06  07:57:34Z   \n",
       "6   sndl many things billion bank debt free cannab... 2021-07-06  07:49:10Z   \n",
       "7   smartoptions unusual activity alert delayed aa... 2021-07-06  07:44:42Z   \n",
       "11    aapl time covered calls think reaching cautious 2021-07-06  07:38:41Z   \n",
       "12  smartoptions unusual activity alert delayed aa... 2021-07-06  07:38:31Z   \n",
       "\n",
       "    Sentiment lang  \n",
       "4           1   en  \n",
       "6           1   en  \n",
       "7           0   en  \n",
       "11          1   en  \n",
       "12          0   en  "
      ]
     },
     "execution_count": 326,
     "metadata": {},
     "output_type": "execute_result"
    }
   ],
   "source": [
    "data = data[data[\"lang\"] == 'en']\n",
    "data.head()"
   ]
  },
  {
   "cell_type": "code",
   "execution_count": 328,
   "metadata": {},
   "outputs": [
    {
     "data": {
      "text/html": [
       "<div>\n",
       "<style scoped>\n",
       "    .dataframe tbody tr th:only-of-type {\n",
       "        vertical-align: middle;\n",
       "    }\n",
       "\n",
       "    .dataframe tbody tr th {\n",
       "        vertical-align: top;\n",
       "    }\n",
       "\n",
       "    .dataframe thead th {\n",
       "        text-align: right;\n",
       "    }\n",
       "</style>\n",
       "<table border=\"1\" class=\"dataframe\">\n",
       "  <thead>\n",
       "    <tr style=\"text-align: right;\">\n",
       "      <th></th>\n",
       "      <th>Sentiment</th>\n",
       "    </tr>\n",
       "  </thead>\n",
       "  <tbody>\n",
       "    <tr>\n",
       "      <th>count</th>\n",
       "      <td>110980.000000</td>\n",
       "    </tr>\n",
       "    <tr>\n",
       "      <th>mean</th>\n",
       "      <td>0.719724</td>\n",
       "    </tr>\n",
       "    <tr>\n",
       "      <th>std</th>\n",
       "      <td>0.449136</td>\n",
       "    </tr>\n",
       "    <tr>\n",
       "      <th>min</th>\n",
       "      <td>0.000000</td>\n",
       "    </tr>\n",
       "    <tr>\n",
       "      <th>25%</th>\n",
       "      <td>0.000000</td>\n",
       "    </tr>\n",
       "    <tr>\n",
       "      <th>50%</th>\n",
       "      <td>1.000000</td>\n",
       "    </tr>\n",
       "    <tr>\n",
       "      <th>75%</th>\n",
       "      <td>1.000000</td>\n",
       "    </tr>\n",
       "    <tr>\n",
       "      <th>max</th>\n",
       "      <td>1.000000</td>\n",
       "    </tr>\n",
       "  </tbody>\n",
       "</table>\n",
       "</div>"
      ],
      "text/plain": [
       "           Sentiment\n",
       "count  110980.000000\n",
       "mean        0.719724\n",
       "std         0.449136\n",
       "min         0.000000\n",
       "25%         0.000000\n",
       "50%         1.000000\n",
       "75%         1.000000\n",
       "max         1.000000"
      ]
     },
     "execution_count": 328,
     "metadata": {},
     "output_type": "execute_result"
    }
   ],
   "source": [
    "data.describe()"
   ]
  },
  {
   "cell_type": "code",
   "execution_count": 327,
   "metadata": {
    "execution": {
     "iopub.execute_input": "2021-05-19T15:11:50.816396Z",
     "iopub.status.busy": "2021-05-19T15:11:50.815234Z",
     "iopub.status.idle": "2021-05-19T15:11:51.125986Z",
     "shell.execute_reply": "2021-05-19T15:11:51.125358Z"
    },
    "papermill": {
     "duration": 0.343967,
     "end_time": "2021-05-19T15:11:51.126131",
     "exception": false,
     "start_time": "2021-05-19T15:11:50.782164",
     "status": "completed"
    },
    "tags": []
   },
   "outputs": [
    {
     "data": {
      "text/plain": [
       "79875"
      ]
     },
     "execution_count": 327,
     "metadata": {},
     "output_type": "execute_result"
    }
   ],
   "source": [
    "data['Sentiment'].astype('int64').sum()"
   ]
  },
  {
   "cell_type": "code",
   "execution_count": 3,
   "metadata": {
    "execution": {
     "iopub.execute_input": "2021-05-19T15:11:51.184834Z",
     "iopub.status.busy": "2021-05-19T15:11:51.183773Z",
     "iopub.status.idle": "2021-05-19T15:11:51.505749Z",
     "shell.execute_reply": "2021-05-19T15:11:51.506272Z"
    },
    "papermill": {
     "duration": 0.354438,
     "end_time": "2021-05-19T15:11:51.506448",
     "exception": false,
     "start_time": "2021-05-19T15:11:51.152010",
     "status": "completed"
    },
    "tags": []
   },
   "outputs": [
    {
     "data": {
      "text/html": [
       "<div>\n",
       "<style scoped>\n",
       "    .dataframe tbody tr th:only-of-type {\n",
       "        vertical-align: middle;\n",
       "    }\n",
       "\n",
       "    .dataframe tbody tr th {\n",
       "        vertical-align: top;\n",
       "    }\n",
       "\n",
       "    .dataframe thead th {\n",
       "        text-align: right;\n",
       "    }\n",
       "</style>\n",
       "<table border=\"1\" class=\"dataframe\">\n",
       "  <thead>\n",
       "    <tr style=\"text-align: right;\">\n",
       "      <th></th>\n",
       "      <th>Message</th>\n",
       "      <th>Date</th>\n",
       "      <th>Time</th>\n",
       "      <th>Sentiment</th>\n",
       "      <th>lang</th>\n",
       "    </tr>\n",
       "  </thead>\n",
       "  <tbody>\n",
       "    <tr>\n",
       "      <th>82460</th>\n",
       "      <td>rotflmao markets closed monday trusting short ...</td>\n",
       "      <td>2021-05-28</td>\n",
       "      <td>20:20:07Z</td>\n",
       "      <td>0</td>\n",
       "      <td>en</td>\n",
       "    </tr>\n",
       "    <tr>\n",
       "      <th>104750</th>\n",
       "      <td>tsla shit market futures running tesla slightl...</td>\n",
       "      <td>2021-05-14</td>\n",
       "      <td>17:42:15Z</td>\n",
       "      <td>1</td>\n",
       "      <td>en</td>\n",
       "    </tr>\n",
       "    <tr>\n",
       "      <th>64063</th>\n",
       "      <td>iea added russel spy qqq tsla</td>\n",
       "      <td>2021-06-21</td>\n",
       "      <td>13:39:11Z</td>\n",
       "      <td>1</td>\n",
       "      <td>en</td>\n",
       "    </tr>\n",
       "    <tr>\n",
       "      <th>96763</th>\n",
       "      <td>tsla reason bullish hey nice day trade still g...</td>\n",
       "      <td>2021-05-18</td>\n",
       "      <td>15:56:44Z</td>\n",
       "      <td>0</td>\n",
       "      <td>en</td>\n",
       "    </tr>\n",
       "    <tr>\n",
       "      <th>9053</th>\n",
       "      <td>aapl today slap ask come</td>\n",
       "      <td>2021-06-14</td>\n",
       "      <td>16:09:17Z</td>\n",
       "      <td>0</td>\n",
       "      <td>en</td>\n",
       "    </tr>\n",
       "    <tr>\n",
       "      <th>22632</th>\n",
       "      <td>bond yields thought meant green spy aapl arkk ...</td>\n",
       "      <td>2021-05-04</td>\n",
       "      <td>16:27:31Z</td>\n",
       "      <td>1</td>\n",
       "      <td>en</td>\n",
       "    </tr>\n",
       "    <tr>\n",
       "      <th>85066</th>\n",
       "      <td>tsla crash</td>\n",
       "      <td>2021-05-26</td>\n",
       "      <td>16:19:23Z</td>\n",
       "      <td>0</td>\n",
       "      <td>en</td>\n",
       "    </tr>\n",
       "    <tr>\n",
       "      <th>90495</th>\n",
       "      <td>tsla better rethink whole outlook</td>\n",
       "      <td>2021-05-21</td>\n",
       "      <td>11:18:36Z</td>\n",
       "      <td>1</td>\n",
       "      <td>en</td>\n",
       "    </tr>\n",
       "    <tr>\n",
       "      <th>23137</th>\n",
       "      <td>aapl got greedy morning staying greedy next hours</td>\n",
       "      <td>2021-05-03</td>\n",
       "      <td>22:50:26Z</td>\n",
       "      <td>1</td>\n",
       "      <td>en</td>\n",
       "    </tr>\n",
       "    <tr>\n",
       "      <th>96667</th>\n",
       "      <td>tsla still plenty time day price go</td>\n",
       "      <td>2021-05-18</td>\n",
       "      <td>16:29:07Z</td>\n",
       "      <td>1</td>\n",
       "      <td>en</td>\n",
       "    </tr>\n",
       "  </tbody>\n",
       "</table>\n",
       "</div>"
      ],
      "text/plain": [
       "                                                  Message        Date  \\\n",
       "82460   rotflmao markets closed monday trusting short ...  2021-05-28   \n",
       "104750  tsla shit market futures running tesla slightl...  2021-05-14   \n",
       "64063                       iea added russel spy qqq tsla  2021-06-21   \n",
       "96763   tsla reason bullish hey nice day trade still g...  2021-05-18   \n",
       "9053                             aapl today slap ask come  2021-06-14   \n",
       "22632   bond yields thought meant green spy aapl arkk ...  2021-05-04   \n",
       "85066                                          tsla crash  2021-05-26   \n",
       "90495                   tsla better rethink whole outlook  2021-05-21   \n",
       "23137   aapl got greedy morning staying greedy next hours  2021-05-03   \n",
       "96667                 tsla still plenty time day price go  2021-05-18   \n",
       "\n",
       "             Time  Sentiment lang  \n",
       "82460   20:20:07Z          0   en  \n",
       "104750  17:42:15Z          1   en  \n",
       "64063   13:39:11Z          1   en  \n",
       "96763   15:56:44Z          0   en  \n",
       "9053    16:09:17Z          0   en  \n",
       "22632   16:27:31Z          1   en  \n",
       "85066   16:19:23Z          0   en  \n",
       "90495   11:18:36Z          1   en  \n",
       "23137   22:50:26Z          1   en  \n",
       "96667   16:29:07Z          1   en  "
      ]
     },
     "execution_count": 3,
     "metadata": {},
     "output_type": "execute_result"
    }
   ],
   "source": [
    "data.to_csv('D:/BAIM Academic/Summer Mod 2/ML MGMT 590/my_clean_tweets.csv', sep = ',',index = False)\n",
    "\n",
    "tweets=pd.read_csv('D:/BAIM Academic/Summer Mod 2/ML MGMT 590/my_clean_tweets.csv', sep=',')\n",
    "tweets.sample(10)"
   ]
  },
  {
   "cell_type": "markdown",
   "metadata": {
    "papermill": {
     "duration": 0.026164,
     "end_time": "2021-05-19T15:11:51.559760",
     "exception": false,
     "start_time": "2021-05-19T15:11:51.533596",
     "status": "completed"
    },
    "tags": []
   },
   "source": [
    "On divise ensuite le data set data en test et train \n",
    "- train size 80%\n",
    "- test size 20%"
   ]
  },
  {
   "cell_type": "code",
   "execution_count": 4,
   "metadata": {
    "execution": {
     "iopub.execute_input": "2021-05-19T15:11:51.622308Z",
     "iopub.status.busy": "2021-05-19T15:11:51.621597Z",
     "iopub.status.idle": "2021-05-19T15:11:51.630962Z",
     "shell.execute_reply": "2021-05-19T15:11:51.630233Z"
    },
    "papermill": {
     "duration": 0.044705,
     "end_time": "2021-05-19T15:11:51.631095",
     "exception": false,
     "start_time": "2021-05-19T15:11:51.586390",
     "status": "completed"
    },
    "scrolled": true,
    "tags": []
   },
   "outputs": [
    {
     "name": "stdout",
     "output_type": "stream",
     "text": [
      "Size of training data: 88784\n",
      "Size of test data: 22196\n"
     ]
    }
   ],
   "source": [
    "from numpy.random import RandomState\n",
    "\n",
    "rng = RandomState()\n",
    "train_data = tweets.sample(frac=0.8, random_state=rng)\n",
    "test_data = tweets.loc[~tweets.index.isin(train_data.index)]\n",
    "print('Size of training data:',len(train_data))\n",
    "print('Size of test data:',len(test_data))"
   ]
  },
  {
   "cell_type": "markdown",
   "metadata": {
    "papermill": {
     "duration": 0.026775,
     "end_time": "2021-05-19T15:11:51.684964",
     "exception": false,
     "start_time": "2021-05-19T15:11:51.658189",
     "status": "completed"
    },
    "tags": []
   },
   "source": [
    "#  Model Training - RNN"
   ]
  },
  {
   "cell_type": "code",
   "execution_count": 16,
   "metadata": {
    "execution": {
     "iopub.execute_input": "2021-05-19T15:11:51.745989Z",
     "iopub.status.busy": "2021-05-19T15:11:51.745200Z",
     "iopub.status.idle": "2021-05-19T15:11:57.156013Z",
     "shell.execute_reply": "2021-05-19T15:11:57.155331Z"
    },
    "papermill": {
     "duration": 5.443825,
     "end_time": "2021-05-19T15:11:57.156155",
     "exception": false,
     "start_time": "2021-05-19T15:11:51.712330",
     "status": "completed"
    },
    "tags": []
   },
   "outputs": [],
   "source": [
    "import keras\n",
    "import tensorflow as tf\n",
    "from keras.models import Sequential\n",
    "from keras.layers import Dense,LSTM,Dropout,Activation,Embedding,Bidirectional,SimpleRNN,Flatten\n",
    "from tensorflow.keras import optimizers"
   ]
  },
  {
   "cell_type": "code",
   "execution_count": 6,
   "metadata": {
    "execution": {
     "iopub.execute_input": "2021-05-19T15:11:57.216439Z",
     "iopub.status.busy": "2021-05-19T15:11:57.215767Z",
     "iopub.status.idle": "2021-05-19T15:11:57.219008Z",
     "shell.execute_reply": "2021-05-19T15:11:57.218400Z"
    },
    "papermill": {
     "duration": 0.03517,
     "end_time": "2021-05-19T15:11:57.219149",
     "exception": false,
     "start_time": "2021-05-19T15:11:57.183979",
     "status": "completed"
    },
    "tags": []
   },
   "outputs": [],
   "source": [
    "max_features = 20000  # Only consider the top 20k words\n",
    "maxlen = 200"
   ]
  },
  {
   "cell_type": "code",
   "execution_count": 7,
   "metadata": {
    "execution": {
     "iopub.execute_input": "2021-05-19T15:11:57.296331Z",
     "iopub.status.busy": "2021-05-19T15:11:57.295611Z",
     "iopub.status.idle": "2021-05-19T15:11:57.301172Z",
     "shell.execute_reply": "2021-05-19T15:11:57.301646Z"
    },
    "papermill": {
     "duration": 0.054871,
     "end_time": "2021-05-19T15:11:57.301827",
     "exception": false,
     "start_time": "2021-05-19T15:11:57.246956",
     "status": "completed"
    },
    "scrolled": true,
    "tags": []
   },
   "outputs": [
    {
     "name": "stderr",
     "output_type": "stream",
     "text": [
      "<ipython-input-7-a9cd6a1b42ff>:2: SettingWithCopyWarning: \n",
      "A value is trying to be set on a copy of a slice from a DataFrame.\n",
      "Try using .loc[row_indexer,col_indexer] = value instead\n",
      "\n",
      "See the caveats in the documentation: https://pandas.pydata.org/pandas-docs/stable/user_guide/indexing.html#returning-a-view-versus-a-copy\n",
      "  test_data['flag'] = 'TEST'\n"
     ]
    },
    {
     "data": {
      "text/html": [
       "<div>\n",
       "<style scoped>\n",
       "    .dataframe tbody tr th:only-of-type {\n",
       "        vertical-align: middle;\n",
       "    }\n",
       "\n",
       "    .dataframe tbody tr th {\n",
       "        vertical-align: top;\n",
       "    }\n",
       "\n",
       "    .dataframe thead th {\n",
       "        text-align: right;\n",
       "    }\n",
       "</style>\n",
       "<table border=\"1\" class=\"dataframe\">\n",
       "  <thead>\n",
       "    <tr style=\"text-align: right;\">\n",
       "      <th></th>\n",
       "      <th>Message</th>\n",
       "      <th>Date</th>\n",
       "      <th>Time</th>\n",
       "      <th>Sentiment</th>\n",
       "      <th>lang</th>\n",
       "      <th>flag</th>\n",
       "    </tr>\n",
       "  </thead>\n",
       "  <tbody>\n",
       "    <tr>\n",
       "      <th>19072</th>\n",
       "      <td>cciv news tomorrow fly aapl</td>\n",
       "      <td>2021-03-17</td>\n",
       "      <td>00:14:01Z</td>\n",
       "      <td>1</td>\n",
       "      <td>en</td>\n",
       "      <td>TRAIN</td>\n",
       "    </tr>\n",
       "    <tr>\n",
       "      <th>77306</th>\n",
       "      <td>tsla dumping shares tomorrow ask well lost lot...</td>\n",
       "      <td>2021-05-17</td>\n",
       "      <td>03:49:47Z</td>\n",
       "      <td>0</td>\n",
       "      <td>en</td>\n",
       "      <td>TRAIN</td>\n",
       "    </tr>\n",
       "    <tr>\n",
       "      <th>95758</th>\n",
       "      <td>aapl follow follows shoot follow get one back</td>\n",
       "      <td>2021-04-12</td>\n",
       "      <td>00:50:29Z</td>\n",
       "      <td>1</td>\n",
       "      <td>en</td>\n",
       "      <td>TEST</td>\n",
       "    </tr>\n",
       "    <tr>\n",
       "      <th>13142</th>\n",
       "      <td>today biggest market cap gainers amazon amzn b...</td>\n",
       "      <td>2021-06-17</td>\n",
       "      <td>20:38:03Z</td>\n",
       "      <td>1</td>\n",
       "      <td>en</td>\n",
       "      <td>TRAIN</td>\n",
       "    </tr>\n",
       "    <tr>\n",
       "      <th>96055</th>\n",
       "      <td>mvis msft aapl sure three come mutually benefi...</td>\n",
       "      <td>2021-04-08</td>\n",
       "      <td>01:01:51Z</td>\n",
       "      <td>1</td>\n",
       "      <td>en</td>\n",
       "      <td>TEST</td>\n",
       "    </tr>\n",
       "    <tr>\n",
       "      <th>91795</th>\n",
       "      <td>aapl cnbc comes www cnbc com apple looking str...</td>\n",
       "      <td>2021-05-26</td>\n",
       "      <td>17:58:27Z</td>\n",
       "      <td>1</td>\n",
       "      <td>en</td>\n",
       "      <td>TEST</td>\n",
       "    </tr>\n",
       "    <tr>\n",
       "      <th>93329</th>\n",
       "      <td>aapl apple losing lawsuit fornite becareful ap...</td>\n",
       "      <td>2021-05-04</td>\n",
       "      <td>14:20:19Z</td>\n",
       "      <td>0</td>\n",
       "      <td>en</td>\n",
       "      <td>TEST</td>\n",
       "    </tr>\n",
       "    <tr>\n",
       "      <th>63962</th>\n",
       "      <td>tsla much money</td>\n",
       "      <td>2021-06-24</td>\n",
       "      <td>15:59:44Z</td>\n",
       "      <td>1</td>\n",
       "      <td>en</td>\n",
       "      <td>TRAIN</td>\n",
       "    </tr>\n",
       "    <tr>\n",
       "      <th>109071</th>\n",
       "      <td>tsla fuck every short doge x</td>\n",
       "      <td>2021-05-17</td>\n",
       "      <td>15:19:36Z</td>\n",
       "      <td>1</td>\n",
       "      <td>en</td>\n",
       "      <td>TEST</td>\n",
       "    </tr>\n",
       "    <tr>\n",
       "      <th>60309</th>\n",
       "      <td>aapl really gonna hold onto short position not...</td>\n",
       "      <td>2021-04-09</td>\n",
       "      <td>14:05:36Z</td>\n",
       "      <td>1</td>\n",
       "      <td>en</td>\n",
       "      <td>TRAIN</td>\n",
       "    </tr>\n",
       "  </tbody>\n",
       "</table>\n",
       "</div>"
      ],
      "text/plain": [
       "                                                  Message        Date  \\\n",
       "19072                         cciv news tomorrow fly aapl  2021-03-17   \n",
       "77306   tsla dumping shares tomorrow ask well lost lot...  2021-05-17   \n",
       "95758       aapl follow follows shoot follow get one back  2021-04-12   \n",
       "13142   today biggest market cap gainers amazon amzn b...  2021-06-17   \n",
       "96055   mvis msft aapl sure three come mutually benefi...  2021-04-08   \n",
       "91795   aapl cnbc comes www cnbc com apple looking str...  2021-05-26   \n",
       "93329   aapl apple losing lawsuit fornite becareful ap...  2021-05-04   \n",
       "63962                                     tsla much money  2021-06-24   \n",
       "109071                       tsla fuck every short doge x  2021-05-17   \n",
       "60309   aapl really gonna hold onto short position not...  2021-04-09   \n",
       "\n",
       "             Time  Sentiment lang   flag  \n",
       "19072   00:14:01Z          1   en  TRAIN  \n",
       "77306   03:49:47Z          0   en  TRAIN  \n",
       "95758   00:50:29Z          1   en   TEST  \n",
       "13142   20:38:03Z          1   en  TRAIN  \n",
       "96055   01:01:51Z          1   en   TEST  \n",
       "91795   17:58:27Z          1   en   TEST  \n",
       "93329   14:20:19Z          0   en   TEST  \n",
       "63962   15:59:44Z          1   en  TRAIN  \n",
       "109071  15:19:36Z          1   en   TEST  \n",
       "60309   14:05:36Z          1   en  TRAIN  "
      ]
     },
     "execution_count": 7,
     "metadata": {},
     "output_type": "execute_result"
    }
   ],
   "source": [
    "train_data['flag'] = 'TRAIN'\n",
    "test_data['flag'] = 'TEST'\n",
    "\n",
    "\n",
    "total_docs = pd.concat([train_data,test_data],axis = 0,ignore_index = True)\n",
    "phrases = total_docs['Message'].tolist()\n",
    "\n",
    "total_docs.sample(10)"
   ]
  },
  {
   "cell_type": "code",
   "execution_count": 8,
   "metadata": {
    "execution": {
     "iopub.execute_input": "2021-05-19T15:11:57.366331Z",
     "iopub.status.busy": "2021-05-19T15:11:57.365581Z",
     "iopub.status.idle": "2021-05-19T15:11:57.392903Z",
     "shell.execute_reply": "2021-05-19T15:11:57.392080Z"
    },
    "papermill": {
     "duration": 0.063101,
     "end_time": "2021-05-19T15:11:57.393037",
     "exception": false,
     "start_time": "2021-05-19T15:11:57.329936",
     "status": "completed"
    },
    "tags": []
   },
   "outputs": [],
   "source": [
    "from keras.preprocessing.text import one_hot\n",
    "vocab_size = 20000\n",
    "encoded_phrases = [one_hot(d, vocab_size) for d in phrases]\n",
    "total_docs['Phrase'] = encoded_phrases\n",
    "train_data = total_docs[total_docs['flag'] == 'TRAIN']\n",
    "test_data = total_docs[total_docs['flag'] == 'TEST']\n",
    "x_train = train_data['Phrase']\n",
    "y_train = train_data['Sentiment']\n",
    "x_val = test_data['Phrase']\n",
    "y_val = test_data['Sentiment']"
   ]
  },
  {
   "cell_type": "markdown",
   "metadata": {
    "papermill": {
     "duration": 0.02882,
     "end_time": "2021-05-19T15:11:57.451033",
     "exception": false,
     "start_time": "2021-05-19T15:11:57.422213",
     "status": "completed"
    },
    "tags": []
   },
   "source": [
    "We converted the sentence into numbers"
   ]
  },
  {
   "cell_type": "code",
   "execution_count": 9,
   "metadata": {
    "execution": {
     "iopub.execute_input": "2021-05-19T15:11:57.515009Z",
     "iopub.status.busy": "2021-05-19T15:11:57.514271Z",
     "iopub.status.idle": "2021-05-19T15:11:57.518417Z",
     "shell.execute_reply": "2021-05-19T15:11:57.517776Z"
    },
    "papermill": {
     "duration": 0.038595,
     "end_time": "2021-05-19T15:11:57.518569",
     "exception": false,
     "start_time": "2021-05-19T15:11:57.479974",
     "status": "completed"
    },
    "scrolled": true,
    "tags": []
   },
   "outputs": [
    {
     "name": "stdout",
     "output_type": "stream",
     "text": [
      "[10755, 1717, 16911, 5256, 13003, 10755, 582, 15771, 6509, 14652, 10655, 8113, 201, 538, 16695, 3950, 3802, 19003, 14650, 3802, 19003, 9471, 7402, 10160, 4292, 16204, 12973, 7840, 918, 16739, 3863, 18905, 13693, 522, 2967, 4876, 12909, 5540]\n"
     ]
    }
   ],
   "source": [
    "print(total_docs['Phrase'][23])"
   ]
  },
  {
   "cell_type": "code",
   "execution_count": 10,
   "metadata": {
    "execution": {
     "iopub.execute_input": "2021-05-19T15:11:57.583105Z",
     "iopub.status.busy": "2021-05-19T15:11:57.582454Z",
     "iopub.status.idle": "2021-05-19T15:11:57.596930Z",
     "shell.execute_reply": "2021-05-19T15:11:57.596273Z"
    },
    "papermill": {
     "duration": 0.049282,
     "end_time": "2021-05-19T15:11:57.597055",
     "exception": false,
     "start_time": "2021-05-19T15:11:57.547773",
     "status": "completed"
    },
    "tags": []
   },
   "outputs": [],
   "source": [
    "x_train = keras.preprocessing.sequence.pad_sequences(x_train, maxlen=maxlen)\n",
    "x_val = keras.preprocessing.sequence.pad_sequences(x_val, maxlen=maxlen)"
   ]
  },
  {
   "cell_type": "code",
   "execution_count": 18,
   "metadata": {
    "execution": {
     "iopub.execute_input": "2021-05-19T15:11:57.664780Z",
     "iopub.status.busy": "2021-05-19T15:11:57.663549Z",
     "iopub.status.idle": "2021-05-19T15:11:58.580561Z",
     "shell.execute_reply": "2021-05-19T15:11:58.579818Z"
    },
    "papermill": {
     "duration": 0.954031,
     "end_time": "2021-05-19T15:11:58.580680",
     "exception": false,
     "start_time": "2021-05-19T15:11:57.626649",
     "status": "completed"
    },
    "tags": []
   },
   "outputs": [
    {
     "name": "stdout",
     "output_type": "stream",
     "text": [
      "Model: \"sequential_4\"\n",
      "_________________________________________________________________\n",
      "Layer (type)                 Output Shape              Param #   \n",
      "=================================================================\n",
      "embedding_4 (Embedding)      (None, 200, 16)           320000    \n",
      "_________________________________________________________________\n",
      "simple_rnn_3 (SimpleRNN)     (None, 200, 32)           1568      \n",
      "_________________________________________________________________\n",
      "flatten_1 (Flatten)          (None, 6400)              0         \n",
      "_________________________________________________________________\n",
      "dense_1 (Dense)              (None, 1)                 6401      \n",
      "=================================================================\n",
      "Total params: 327,969\n",
      "Trainable params: 327,969\n",
      "Non-trainable params: 0\n",
      "_________________________________________________________________\n"
     ]
    }
   ],
   "source": [
    "model = keras.Sequential()\n",
    "# Embedding layer turns vectors of integers into dense real vectors of fixed size\n",
    "model.add(Embedding(max_features, 16, input_length=maxlen))\n",
    "model.add(SimpleRNN(32, return_sequences=True, dropout=0.2, recurrent_dropout=0.2))\n",
    "model.add(Flatten())\n",
    "model.add(Dense(1, activation='sigmoid'))\n",
    "\n",
    "\n",
    "model.compile(loss='binary_crossentropy',\n",
    "              optimizer='rmsprop',\n",
    "              metrics=['accuracy'])\n",
    "model.summary()"
   ]
  },
  {
   "cell_type": "code",
   "execution_count": 20,
   "metadata": {
    "execution": {
     "iopub.execute_input": "2021-05-19T15:11:58.657434Z",
     "iopub.status.busy": "2021-05-19T15:11:58.656197Z",
     "iopub.status.idle": "2021-05-19T15:12:32.053977Z",
     "shell.execute_reply": "2021-05-19T15:12:32.053379Z"
    },
    "papermill": {
     "duration": 33.443215,
     "end_time": "2021-05-19T15:12:32.054116",
     "exception": false,
     "start_time": "2021-05-19T15:11:58.610901",
     "status": "completed"
    },
    "tags": []
   },
   "outputs": [
    {
     "name": "stdout",
     "output_type": "stream",
     "text": [
      "Epoch 1/32\n",
      "694/694 [==============================] - 48s 69ms/step - loss: 0.4703 - accuracy: 0.7822 - val_loss: 0.4215 - val_accuracy: 0.8119\n",
      "Epoch 2/32\n",
      "694/694 [==============================] - 45s 65ms/step - loss: 0.4021 - accuracy: 0.8216 - val_loss: 0.4170 - val_accuracy: 0.8111\n",
      "Epoch 3/32\n",
      "694/694 [==============================] - 44s 64ms/step - loss: 0.3881 - accuracy: 0.8275 - val_loss: 0.4104 - val_accuracy: 0.8176\n",
      "Epoch 4/32\n",
      "694/694 [==============================] - 44s 63ms/step - loss: 0.3781 - accuracy: 0.8329 - val_loss: 0.4067 - val_accuracy: 0.8197\n",
      "Epoch 5/32\n",
      "694/694 [==============================] - 44s 63ms/step - loss: 0.3712 - accuracy: 0.8359 - val_loss: 0.4048 - val_accuracy: 0.8196\n",
      "Epoch 6/32\n",
      "694/694 [==============================] - 44s 64ms/step - loss: 0.3654 - accuracy: 0.8400 - val_loss: 0.4081 - val_accuracy: 0.8201\n",
      "Epoch 7/32\n",
      "694/694 [==============================] - 44s 63ms/step - loss: 0.3598 - accuracy: 0.8414 - val_loss: 0.4084 - val_accuracy: 0.8185\n"
     ]
    },
    {
     "data": {
      "text/plain": [
       "<keras.callbacks.History at 0x19ba84993d0>"
      ]
     },
     "execution_count": 20,
     "metadata": {},
     "output_type": "execute_result"
    }
   ],
   "source": [
    "EPOCHS = 32\n",
    "BATCH = 128\n",
    "\n",
    "early_stop = keras.callbacks.EarlyStopping(monitor='val_loss', patience=2)\n",
    "\n",
    "model.fit(x_train, y_train,\n",
    "          batch_size=BATCH,\n",
    "          epochs=EPOCHS,\n",
    "          validation_data=(x_val, y_val),\n",
    "          verbose = 1,\n",
    "          callbacks = [early_stop])"
   ]
  },
  {
   "cell_type": "code",
   "execution_count": 21,
   "metadata": {
    "scrolled": true
   },
   "outputs": [
    {
     "name": "stdout",
     "output_type": "stream",
     "text": [
      "[[    0     0     0 ... 16859 14894  5277]\n",
      " [    0     0     0 ... 19583   798  1717]\n",
      " [    0     0     0 ... 15327 13825 12657]\n",
      " ...\n",
      " [    0     0     0 ... 14469  8623 18656]\n",
      " [    0     0     0 ...  5521  1717  3494]\n",
      " [    0     0     0 ... 18339  3657  4897]]\n"
     ]
    },
    {
     "data": {
      "text/plain": [
       "(88784, 200)"
      ]
     },
     "execution_count": 21,
     "metadata": {},
     "output_type": "execute_result"
    }
   ],
   "source": [
    "print(x_train)\n",
    "x_train.shape"
   ]
  },
  {
   "cell_type": "code",
   "execution_count": 22,
   "metadata": {
    "scrolled": true
   },
   "outputs": [
    {
     "name": "stdout",
     "output_type": "stream",
     "text": [
      "0        1\n",
      "1        1\n",
      "2        1\n",
      "3        0\n",
      "4        0\n",
      "        ..\n",
      "88779    1\n",
      "88780    1\n",
      "88781    0\n",
      "88782    1\n",
      "88783    1\n",
      "Name: Sentiment, Length: 88784, dtype: int64\n"
     ]
    },
    {
     "data": {
      "text/plain": [
       "(88784,)"
      ]
     },
     "execution_count": 22,
     "metadata": {},
     "output_type": "execute_result"
    }
   ],
   "source": [
    "print(y_train)\n",
    "y_train.shape"
   ]
  },
  {
   "cell_type": "code",
   "execution_count": 23,
   "metadata": {
    "execution": {
     "iopub.execute_input": "2021-05-19T15:12:32.227580Z",
     "iopub.status.busy": "2021-05-19T15:12:32.226829Z",
     "iopub.status.idle": "2021-05-19T15:12:33.272716Z",
     "shell.execute_reply": "2021-05-19T15:12:33.272021Z"
    },
    "papermill": {
     "duration": 1.136194,
     "end_time": "2021-05-19T15:12:33.272852",
     "exception": false,
     "start_time": "2021-05-19T15:12:32.136658",
     "status": "completed"
    },
    "tags": []
   },
   "outputs": [
    {
     "name": "stdout",
     "output_type": "stream",
     "text": [
      "694/694 [==============================] - 4s 5ms/step - loss: 0.4084 - accuracy: 0.8185\n",
      "Test Loss: 0.40839454531669617\n",
      "Test Accuracy: 0.8184807896614075\n"
     ]
    }
   ],
   "source": [
    "from keras.preprocessing.text import one_hot\n",
    "\n",
    "test_loss, test_acc = model.evaluate(x=x_val, y=y_val)\n",
    "\n",
    "print('Test Loss: {}'.format(test_loss))\n",
    "print('Test Accuracy: {}'.format(test_acc))\n",
    "\n"
   ]
  },
  {
   "cell_type": "markdown",
   "metadata": {},
   "source": [
    "# Prediction"
   ]
  },
  {
   "cell_type": "code",
   "execution_count": 60,
   "metadata": {},
   "outputs": [
    {
     "name": "stderr",
     "output_type": "stream",
     "text": [
      "C:\\Users\\Harshul\\anaconda3\\lib\\site-packages\\IPython\\core\\interactiveshell.py:3146: DtypeWarning: Columns (2,3,4,5) have mixed types.Specify dtype option on import or set low_memory=False.\n",
      "  has_raised = await self.run_ast_nodes(code_ast.body, cell_name,\n"
     ]
    },
    {
     "data": {
      "text/html": [
       "<div>\n",
       "<style scoped>\n",
       "    .dataframe tbody tr th:only-of-type {\n",
       "        vertical-align: middle;\n",
       "    }\n",
       "\n",
       "    .dataframe tbody tr th {\n",
       "        vertical-align: top;\n",
       "    }\n",
       "\n",
       "    .dataframe thead th {\n",
       "        text-align: right;\n",
       "    }\n",
       "</style>\n",
       "<table border=\"1\" class=\"dataframe\">\n",
       "  <thead>\n",
       "    <tr style=\"text-align: right;\">\n",
       "      <th></th>\n",
       "      <th>Message</th>\n",
       "      <th>Date</th>\n",
       "      <th>Time</th>\n",
       "      <th>Sentiment</th>\n",
       "    </tr>\n",
       "  </thead>\n",
       "  <tbody>\n",
       "    <tr>\n",
       "      <th>0</th>\n",
       "      <td>$AAPL time to take it to 150 in 1 week</td>\n",
       "      <td>7/6/2021</td>\n",
       "      <td>08:03:11Z</td>\n",
       "      <td>Bullish</td>\n",
       "    </tr>\n",
       "    <tr>\n",
       "      <th>4</th>\n",
       "      <td>$AAPL  Slowly going up</td>\n",
       "      <td>7/6/2021</td>\n",
       "      <td>07:57:34Z</td>\n",
       "      <td>Bullish</td>\n",
       "    </tr>\n",
       "    <tr>\n",
       "      <th>6</th>\n",
       "      <td>$SNDL \\nSo many things\\n- about a BILLION in t...</td>\n",
       "      <td>7/6/2021</td>\n",
       "      <td>07:49:10Z</td>\n",
       "      <td>Bullish</td>\n",
       "    </tr>\n",
       "    <tr>\n",
       "      <th>7</th>\n",
       "      <td>SmartOptions® Unusual Activity Alert\\n(Delayed...</td>\n",
       "      <td>7/6/2021</td>\n",
       "      <td>07:44:42Z</td>\n",
       "      <td>Bearish</td>\n",
       "    </tr>\n",
       "    <tr>\n",
       "      <th>11</th>\n",
       "      <td>$AAPL when is  the time for covered calls? I t...</td>\n",
       "      <td>7/6/2021</td>\n",
       "      <td>07:38:41Z</td>\n",
       "      <td>Bullish</td>\n",
       "    </tr>\n",
       "  </tbody>\n",
       "</table>\n",
       "</div>"
      ],
      "text/plain": [
       "                                              Message      Date       Time  \\\n",
       "0              $AAPL time to take it to 150 in 1 week  7/6/2021  08:03:11Z   \n",
       "4                              $AAPL  Slowly going up  7/6/2021  07:57:34Z   \n",
       "6   $SNDL \\nSo many things\\n- about a BILLION in t...  7/6/2021  07:49:10Z   \n",
       "7   SmartOptions® Unusual Activity Alert\\n(Delayed...  7/6/2021  07:44:42Z   \n",
       "11  $AAPL when is  the time for covered calls? I t...  7/6/2021  07:38:41Z   \n",
       "\n",
       "   Sentiment  \n",
       "0    Bullish  \n",
       "4    Bullish  \n",
       "6    Bullish  \n",
       "7    Bearish  \n",
       "11   Bullish  "
      ]
     },
     "execution_count": 60,
     "metadata": {},
     "output_type": "execute_result"
    }
   ],
   "source": [
    "file = 'D:/BAIM Academic/Summer Mod 2/ML MGMT 590/AAPL_pred_data.csv'\n",
    "df = pd.read_csv(file, sep=',')\n",
    "data_predict = df.drop(['User_id','Unnamed: 0'],axis = 1)\n",
    "data_predict.reset_index(drop=True, inplace=True)\n",
    "data_predict.dropna(inplace=True)\n",
    "data_predict.head()"
   ]
  },
  {
   "cell_type": "code",
   "execution_count": 61,
   "metadata": {},
   "outputs": [
    {
     "data": {
      "text/html": [
       "<div>\n",
       "<style scoped>\n",
       "    .dataframe tbody tr th:only-of-type {\n",
       "        vertical-align: middle;\n",
       "    }\n",
       "\n",
       "    .dataframe tbody tr th {\n",
       "        vertical-align: top;\n",
       "    }\n",
       "\n",
       "    .dataframe thead th {\n",
       "        text-align: right;\n",
       "    }\n",
       "</style>\n",
       "<table border=\"1\" class=\"dataframe\">\n",
       "  <thead>\n",
       "    <tr style=\"text-align: right;\">\n",
       "      <th></th>\n",
       "      <th>Message</th>\n",
       "      <th>Date</th>\n",
       "      <th>Time</th>\n",
       "      <th>Sentiment</th>\n",
       "    </tr>\n",
       "  </thead>\n",
       "  <tbody>\n",
       "    <tr>\n",
       "      <th>41849</th>\n",
       "      <td>aapl found everybody mom cooks breakfast next day</td>\n",
       "      <td>5/27/2021</td>\n",
       "      <td>15:56:44Z</td>\n",
       "      <td>Bullish</td>\n",
       "    </tr>\n",
       "    <tr>\n",
       "      <th>60486</th>\n",
       "      <td>aapl qqq lets gooo timber</td>\n",
       "      <td>5/6/2021</td>\n",
       "      <td>18:29:18Z</td>\n",
       "      <td>Bearish</td>\n",
       "    </tr>\n",
       "    <tr>\n",
       "      <th>20540</th>\n",
       "      <td>aapl mill volume tomorrow would able sleep sho...</td>\n",
       "      <td>6/16/2021</td>\n",
       "      <td>19:26:58Z</td>\n",
       "      <td>Bullish</td>\n",
       "    </tr>\n",
       "  </tbody>\n",
       "</table>\n",
       "</div>"
      ],
      "text/plain": [
       "                                                 Message       Date  \\\n",
       "41849  aapl found everybody mom cooks breakfast next day  5/27/2021   \n",
       "60486                          aapl qqq lets gooo timber   5/6/2021   \n",
       "20540  aapl mill volume tomorrow would able sleep sho...  6/16/2021   \n",
       "\n",
       "            Time Sentiment  \n",
       "41849  15:56:44Z   Bullish  \n",
       "60486  18:29:18Z   Bearish  \n",
       "20540  19:26:58Z   Bullish  "
      ]
     },
     "execution_count": 61,
     "metadata": {},
     "output_type": "execute_result"
    }
   ],
   "source": [
    "import nltk\n",
    "import re\n",
    "from nltk.corpus import stopwords\n",
    "def text_cleaning(text):\n",
    "    forbidden_words = set(stopwords.words('english'))\n",
    "    text = ' '.join(text.split('.'))\n",
    "    text = re.sub('\\/',' ',text)\n",
    "    text = text.strip('\\'\"')\n",
    "    text = re.sub(r'@([^\\s]+)',r'\\1',text)\n",
    "    text = re.sub(r'\\\\',' ',text)\n",
    "    text = text.lower()\n",
    "    text = re.sub('[\\s]+', ' ', text)\n",
    "    text = re.sub(r'#([^\\s]+)', r'\\1', text)\n",
    "    text = re.sub('((www\\.[^\\s]+)|(https?://[^\\s]+))',' ',text)\n",
    "    text = re.sub(r'((http)\\S+)','',text)\n",
    "    text = re.sub(r'\\s+', ' ', re.sub('[^A-Za-z]', ' ', text.strip().lower())).strip()\n",
    "    text = re.sub(r'\\W+', ' ', text.strip().lower()).strip()\n",
    "    text = [word for word in text.split() if word not in forbidden_words]\n",
    "    return ' '.join(text)\n",
    "\n",
    "data_predict['Message'] = data_predict['Message'].apply(lambda text: text_cleaning(text))\n",
    "data_predict.dropna(inplace=True)\n",
    "data_predict.sample(3)"
   ]
  },
  {
   "cell_type": "code",
   "execution_count": 62,
   "metadata": {},
   "outputs": [
    {
     "data": {
      "text/html": [
       "<div>\n",
       "<style scoped>\n",
       "    .dataframe tbody tr th:only-of-type {\n",
       "        vertical-align: middle;\n",
       "    }\n",
       "\n",
       "    .dataframe tbody tr th {\n",
       "        vertical-align: top;\n",
       "    }\n",
       "\n",
       "    .dataframe thead th {\n",
       "        text-align: right;\n",
       "    }\n",
       "</style>\n",
       "<table border=\"1\" class=\"dataframe\">\n",
       "  <thead>\n",
       "    <tr style=\"text-align: right;\">\n",
       "      <th></th>\n",
       "      <th>Message</th>\n",
       "      <th>Date</th>\n",
       "      <th>Time</th>\n",
       "      <th>Sentiment</th>\n",
       "      <th>lang</th>\n",
       "    </tr>\n",
       "  </thead>\n",
       "  <tbody>\n",
       "    <tr>\n",
       "      <th>0</th>\n",
       "      <td>aapl time take week</td>\n",
       "      <td>7/6/2021</td>\n",
       "      <td>08:03:11Z</td>\n",
       "      <td>Bullish</td>\n",
       "      <td>af</td>\n",
       "    </tr>\n",
       "    <tr>\n",
       "      <th>4</th>\n",
       "      <td>aapl slowly going</td>\n",
       "      <td>7/6/2021</td>\n",
       "      <td>07:57:34Z</td>\n",
       "      <td>Bullish</td>\n",
       "      <td>en</td>\n",
       "    </tr>\n",
       "    <tr>\n",
       "      <th>6</th>\n",
       "      <td>sndl many things billion bank debt free cannab...</td>\n",
       "      <td>7/6/2021</td>\n",
       "      <td>07:49:10Z</td>\n",
       "      <td>Bullish</td>\n",
       "      <td>en</td>\n",
       "    </tr>\n",
       "    <tr>\n",
       "      <th>7</th>\n",
       "      <td>smartoptions unusual activity alert delayed aa...</td>\n",
       "      <td>7/6/2021</td>\n",
       "      <td>07:44:42Z</td>\n",
       "      <td>Bearish</td>\n",
       "      <td>en</td>\n",
       "    </tr>\n",
       "    <tr>\n",
       "      <th>11</th>\n",
       "      <td>aapl time covered calls think reaching cautious</td>\n",
       "      <td>7/6/2021</td>\n",
       "      <td>07:38:41Z</td>\n",
       "      <td>Bullish</td>\n",
       "      <td>en</td>\n",
       "    </tr>\n",
       "  </tbody>\n",
       "</table>\n",
       "</div>"
      ],
      "text/plain": [
       "                                              Message      Date       Time  \\\n",
       "0                                 aapl time take week  7/6/2021  08:03:11Z   \n",
       "4                                   aapl slowly going  7/6/2021  07:57:34Z   \n",
       "6   sndl many things billion bank debt free cannab...  7/6/2021  07:49:10Z   \n",
       "7   smartoptions unusual activity alert delayed aa...  7/6/2021  07:44:42Z   \n",
       "11    aapl time covered calls think reaching cautious  7/6/2021  07:38:41Z   \n",
       "\n",
       "   Sentiment lang  \n",
       "0    Bullish   af  \n",
       "4    Bullish   en  \n",
       "6    Bullish   en  \n",
       "7    Bearish   en  \n",
       "11   Bullish   en  "
      ]
     },
     "execution_count": 62,
     "metadata": {},
     "output_type": "execute_result"
    }
   ],
   "source": [
    "from langdetect import detect, DetectorFactory\n",
    "DetectorFactory.seed = 0\n",
    "\n",
    "L=[]\n",
    "for row in data_predict['Message']:\n",
    "    if len(row) >= 3:\n",
    "        L.append(detect(row))\n",
    "    else:\n",
    "        L.append(None)\n",
    "\n",
    "data_predict['lang'] = L\n",
    "data_predict.head()"
   ]
  },
  {
   "cell_type": "code",
   "execution_count": 63,
   "metadata": {},
   "outputs": [
    {
     "data": {
      "text/html": [
       "<div>\n",
       "<style scoped>\n",
       "    .dataframe tbody tr th:only-of-type {\n",
       "        vertical-align: middle;\n",
       "    }\n",
       "\n",
       "    .dataframe tbody tr th {\n",
       "        vertical-align: top;\n",
       "    }\n",
       "\n",
       "    .dataframe thead th {\n",
       "        text-align: right;\n",
       "    }\n",
       "</style>\n",
       "<table border=\"1\" class=\"dataframe\">\n",
       "  <thead>\n",
       "    <tr style=\"text-align: right;\">\n",
       "      <th></th>\n",
       "      <th>Message</th>\n",
       "      <th>Date</th>\n",
       "      <th>Time</th>\n",
       "      <th>Sentiment</th>\n",
       "      <th>lang</th>\n",
       "    </tr>\n",
       "  </thead>\n",
       "  <tbody>\n",
       "    <tr>\n",
       "      <th>4</th>\n",
       "      <td>aapl slowly going</td>\n",
       "      <td>7/6/2021</td>\n",
       "      <td>07:57:34Z</td>\n",
       "      <td>Bullish</td>\n",
       "      <td>en</td>\n",
       "    </tr>\n",
       "    <tr>\n",
       "      <th>6</th>\n",
       "      <td>sndl many things billion bank debt free cannab...</td>\n",
       "      <td>7/6/2021</td>\n",
       "      <td>07:49:10Z</td>\n",
       "      <td>Bullish</td>\n",
       "      <td>en</td>\n",
       "    </tr>\n",
       "    <tr>\n",
       "      <th>7</th>\n",
       "      <td>smartoptions unusual activity alert delayed aa...</td>\n",
       "      <td>7/6/2021</td>\n",
       "      <td>07:44:42Z</td>\n",
       "      <td>Bearish</td>\n",
       "      <td>en</td>\n",
       "    </tr>\n",
       "    <tr>\n",
       "      <th>11</th>\n",
       "      <td>aapl time covered calls think reaching cautious</td>\n",
       "      <td>7/6/2021</td>\n",
       "      <td>07:38:41Z</td>\n",
       "      <td>Bullish</td>\n",
       "      <td>en</td>\n",
       "    </tr>\n",
       "    <tr>\n",
       "      <th>12</th>\n",
       "      <td>smartoptions unusual activity alert delayed aa...</td>\n",
       "      <td>7/6/2021</td>\n",
       "      <td>07:38:31Z</td>\n",
       "      <td>Bearish</td>\n",
       "      <td>en</td>\n",
       "    </tr>\n",
       "  </tbody>\n",
       "</table>\n",
       "</div>"
      ],
      "text/plain": [
       "                                              Message      Date       Time  \\\n",
       "4                                   aapl slowly going  7/6/2021  07:57:34Z   \n",
       "6   sndl many things billion bank debt free cannab...  7/6/2021  07:49:10Z   \n",
       "7   smartoptions unusual activity alert delayed aa...  7/6/2021  07:44:42Z   \n",
       "11    aapl time covered calls think reaching cautious  7/6/2021  07:38:41Z   \n",
       "12  smartoptions unusual activity alert delayed aa...  7/6/2021  07:38:31Z   \n",
       "\n",
       "   Sentiment lang  \n",
       "4    Bullish   en  \n",
       "6    Bullish   en  \n",
       "7    Bearish   en  \n",
       "11   Bullish   en  \n",
       "12   Bearish   en  "
      ]
     },
     "execution_count": 63,
     "metadata": {},
     "output_type": "execute_result"
    }
   ],
   "source": [
    "data_predict = data_predict[data_predict[\"lang\"] == 'en']\n",
    "data_predict.head()"
   ]
  },
  {
   "cell_type": "code",
   "execution_count": 64,
   "metadata": {},
   "outputs": [],
   "source": [
    "phrases_pred = data_predict['Message'].tolist()\n",
    "vocab_size = 20000\n",
    "encoded_phrases_pred = [one_hot(d, vocab_size) for d in phrases_pred]\n",
    "data_predict['Phrase'] = encoded_phrases_pred\n",
    "#train_data = total_docs[total_docs['flag'] == 'TRAIN']\n",
    "#test_data = total_docs[total_docs['flag'] == 'TEST']\n",
    "x_pred = data_predict['Phrase']"
   ]
  },
  {
   "cell_type": "code",
   "execution_count": 65,
   "metadata": {},
   "outputs": [],
   "source": [
    "x_pred = keras.preprocessing.sequence.pad_sequences(x_pred, maxlen=maxlen)"
   ]
  },
  {
   "cell_type": "code",
   "execution_count": 66,
   "metadata": {
    "scrolled": false
   },
   "outputs": [
    {
     "data": {
      "text/html": [
       "<div>\n",
       "<style scoped>\n",
       "    .dataframe tbody tr th:only-of-type {\n",
       "        vertical-align: middle;\n",
       "    }\n",
       "\n",
       "    .dataframe tbody tr th {\n",
       "        vertical-align: top;\n",
       "    }\n",
       "\n",
       "    .dataframe thead th {\n",
       "        text-align: right;\n",
       "    }\n",
       "</style>\n",
       "<table border=\"1\" class=\"dataframe\">\n",
       "  <thead>\n",
       "    <tr style=\"text-align: right;\">\n",
       "      <th></th>\n",
       "      <th>Message</th>\n",
       "      <th>Date</th>\n",
       "      <th>Time</th>\n",
       "      <th>Sentiment</th>\n",
       "      <th>lang</th>\n",
       "      <th>Phrase</th>\n",
       "      <th>probability</th>\n",
       "    </tr>\n",
       "  </thead>\n",
       "  <tbody>\n",
       "    <tr>\n",
       "      <th>4</th>\n",
       "      <td>aapl slowly going</td>\n",
       "      <td>7/6/2021</td>\n",
       "      <td>07:57:34Z</td>\n",
       "      <td>Bullish</td>\n",
       "      <td>en</td>\n",
       "      <td>[1717, 16995, 2623]</td>\n",
       "      <td>0.728071</td>\n",
       "    </tr>\n",
       "    <tr>\n",
       "      <th>6</th>\n",
       "      <td>sndl many things billion bank debt free cannab...</td>\n",
       "      <td>7/6/2021</td>\n",
       "      <td>07:49:10Z</td>\n",
       "      <td>Bullish</td>\n",
       "      <td>en</td>\n",
       "      <td>[5862, 9197, 12714, 3166, 153, 17150, 1202, 55...</td>\n",
       "      <td>0.981046</td>\n",
       "    </tr>\n",
       "    <tr>\n",
       "      <th>7</th>\n",
       "      <td>smartoptions unusual activity alert delayed aa...</td>\n",
       "      <td>7/6/2021</td>\n",
       "      <td>07:44:42Z</td>\n",
       "      <td>Bearish</td>\n",
       "      <td>en</td>\n",
       "      <td>[8817, 13350, 5169, 240, 6048, 1717, 19183, 95...</td>\n",
       "      <td>0.051206</td>\n",
       "    </tr>\n",
       "    <tr>\n",
       "      <th>11</th>\n",
       "      <td>aapl time covered calls think reaching cautious</td>\n",
       "      <td>7/6/2021</td>\n",
       "      <td>07:38:41Z</td>\n",
       "      <td>Bullish</td>\n",
       "      <td>en</td>\n",
       "      <td>[1717, 5277, 7270, 14576, 2212, 16557, 16522]</td>\n",
       "      <td>0.936977</td>\n",
       "    </tr>\n",
       "    <tr>\n",
       "      <th>12</th>\n",
       "      <td>smartoptions unusual activity alert delayed aa...</td>\n",
       "      <td>7/6/2021</td>\n",
       "      <td>07:38:31Z</td>\n",
       "      <td>Bearish</td>\n",
       "      <td>en</td>\n",
       "      <td>[8817, 13350, 5169, 240, 6048, 1717, 19183, 95...</td>\n",
       "      <td>0.051206</td>\n",
       "    </tr>\n",
       "  </tbody>\n",
       "</table>\n",
       "</div>"
      ],
      "text/plain": [
       "                                              Message      Date       Time  \\\n",
       "4                                   aapl slowly going  7/6/2021  07:57:34Z   \n",
       "6   sndl many things billion bank debt free cannab...  7/6/2021  07:49:10Z   \n",
       "7   smartoptions unusual activity alert delayed aa...  7/6/2021  07:44:42Z   \n",
       "11    aapl time covered calls think reaching cautious  7/6/2021  07:38:41Z   \n",
       "12  smartoptions unusual activity alert delayed aa...  7/6/2021  07:38:31Z   \n",
       "\n",
       "   Sentiment lang                                             Phrase  \\\n",
       "4    Bullish   en                                [1717, 16995, 2623]   \n",
       "6    Bullish   en  [5862, 9197, 12714, 3166, 153, 17150, 1202, 55...   \n",
       "7    Bearish   en  [8817, 13350, 5169, 240, 6048, 1717, 19183, 95...   \n",
       "11   Bullish   en      [1717, 5277, 7270, 14576, 2212, 16557, 16522]   \n",
       "12   Bearish   en  [8817, 13350, 5169, 240, 6048, 1717, 19183, 95...   \n",
       "\n",
       "    probability  \n",
       "4      0.728071  \n",
       "6      0.981046  \n",
       "7      0.051206  \n",
       "11     0.936977  \n",
       "12     0.051206  "
      ]
     },
     "execution_count": 66,
     "metadata": {},
     "output_type": "execute_result"
    }
   ],
   "source": [
    "data_predict['probability'] = model.predict(x_pred)\n",
    "data_predict.head()"
   ]
  },
  {
   "cell_type": "code",
   "execution_count": 67,
   "metadata": {},
   "outputs": [],
   "source": [
    "data_predict.to_csv('D:/BAIM Academic/Summer Mod 2/ML MGMT 590/predicted_prob_RNN_AAPL.csv', sep = ',',index = False)"
   ]
  },
  {
   "cell_type": "code",
   "execution_count": 68,
   "metadata": {
    "scrolled": true
   },
   "outputs": [
    {
     "data": {
      "text/html": [
       "<div>\n",
       "<style scoped>\n",
       "    .dataframe tbody tr th:only-of-type {\n",
       "        vertical-align: middle;\n",
       "    }\n",
       "\n",
       "    .dataframe tbody tr th {\n",
       "        vertical-align: top;\n",
       "    }\n",
       "\n",
       "    .dataframe thead th {\n",
       "        text-align: right;\n",
       "    }\n",
       "</style>\n",
       "<table border=\"1\" class=\"dataframe\">\n",
       "  <thead>\n",
       "    <tr style=\"text-align: right;\">\n",
       "      <th></th>\n",
       "      <th>Date</th>\n",
       "      <th>probability</th>\n",
       "    </tr>\n",
       "  </thead>\n",
       "  <tbody>\n",
       "    <tr>\n",
       "      <th>4</th>\n",
       "      <td>7/6/2021</td>\n",
       "      <td>0.728071</td>\n",
       "    </tr>\n",
       "    <tr>\n",
       "      <th>6</th>\n",
       "      <td>7/6/2021</td>\n",
       "      <td>0.981046</td>\n",
       "    </tr>\n",
       "    <tr>\n",
       "      <th>7</th>\n",
       "      <td>7/6/2021</td>\n",
       "      <td>0.051206</td>\n",
       "    </tr>\n",
       "    <tr>\n",
       "      <th>11</th>\n",
       "      <td>7/6/2021</td>\n",
       "      <td>0.936977</td>\n",
       "    </tr>\n",
       "    <tr>\n",
       "      <th>12</th>\n",
       "      <td>7/6/2021</td>\n",
       "      <td>0.051206</td>\n",
       "    </tr>\n",
       "  </tbody>\n",
       "</table>\n",
       "</div>"
      ],
      "text/plain": [
       "        Date  probability\n",
       "4   7/6/2021     0.728071\n",
       "6   7/6/2021     0.981046\n",
       "7   7/6/2021     0.051206\n",
       "11  7/6/2021     0.936977\n",
       "12  7/6/2021     0.051206"
      ]
     },
     "execution_count": 68,
     "metadata": {},
     "output_type": "execute_result"
    }
   ],
   "source": [
    "#data_predict['probability'].min()\n",
    "data_predict_clean = data_predict.drop(['Message','Sentiment','lang','Phrase','Time'],axis = 1)\n",
    "data_predict_clean.head()"
   ]
  },
  {
   "cell_type": "code",
   "execution_count": 69,
   "metadata": {
    "scrolled": true
   },
   "outputs": [
    {
     "data": {
      "text/html": [
       "<div>\n",
       "<style scoped>\n",
       "    .dataframe tbody tr th:only-of-type {\n",
       "        vertical-align: middle;\n",
       "    }\n",
       "\n",
       "    .dataframe tbody tr th {\n",
       "        vertical-align: top;\n",
       "    }\n",
       "\n",
       "    .dataframe thead th {\n",
       "        text-align: right;\n",
       "    }\n",
       "</style>\n",
       "<table border=\"1\" class=\"dataframe\">\n",
       "  <thead>\n",
       "    <tr style=\"text-align: right;\">\n",
       "      <th></th>\n",
       "      <th>Date</th>\n",
       "      <th>probability</th>\n",
       "    </tr>\n",
       "  </thead>\n",
       "  <tbody>\n",
       "    <tr>\n",
       "      <th>0</th>\n",
       "      <td>5/1/2021</td>\n",
       "      <td>0.820330</td>\n",
       "    </tr>\n",
       "    <tr>\n",
       "      <th>1</th>\n",
       "      <td>5/10/2021</td>\n",
       "      <td>0.649200</td>\n",
       "    </tr>\n",
       "    <tr>\n",
       "      <th>2</th>\n",
       "      <td>5/11/2021</td>\n",
       "      <td>0.613557</td>\n",
       "    </tr>\n",
       "    <tr>\n",
       "      <th>3</th>\n",
       "      <td>5/12/2021</td>\n",
       "      <td>0.590898</td>\n",
       "    </tr>\n",
       "    <tr>\n",
       "      <th>4</th>\n",
       "      <td>5/13/2021</td>\n",
       "      <td>0.658957</td>\n",
       "    </tr>\n",
       "  </tbody>\n",
       "</table>\n",
       "</div>"
      ],
      "text/plain": [
       "        Date  probability\n",
       "0   5/1/2021     0.820330\n",
       "1  5/10/2021     0.649200\n",
       "2  5/11/2021     0.613557\n",
       "3  5/12/2021     0.590898\n",
       "4  5/13/2021     0.658957"
      ]
     },
     "execution_count": 69,
     "metadata": {},
     "output_type": "execute_result"
    }
   ],
   "source": [
    "data_predict_summed = data_predict_clean.groupby(['Date'], as_index = False)[['probability']].mean()\n",
    "data_predict_summed.head()"
   ]
  },
  {
   "cell_type": "code",
   "execution_count": 70,
   "metadata": {
    "scrolled": true
   },
   "outputs": [
    {
     "data": {
      "text/html": [
       "<div>\n",
       "<style scoped>\n",
       "    .dataframe tbody tr th:only-of-type {\n",
       "        vertical-align: middle;\n",
       "    }\n",
       "\n",
       "    .dataframe tbody tr th {\n",
       "        vertical-align: top;\n",
       "    }\n",
       "\n",
       "    .dataframe thead th {\n",
       "        text-align: right;\n",
       "    }\n",
       "</style>\n",
       "<table border=\"1\" class=\"dataframe\">\n",
       "  <thead>\n",
       "    <tr style=\"text-align: right;\">\n",
       "      <th></th>\n",
       "      <th>Date</th>\n",
       "      <th>probability</th>\n",
       "    </tr>\n",
       "  </thead>\n",
       "  <tbody>\n",
       "    <tr>\n",
       "      <th>0</th>\n",
       "      <td>5/1/2021</td>\n",
       "      <td>0.820330</td>\n",
       "    </tr>\n",
       "    <tr>\n",
       "      <th>1</th>\n",
       "      <td>5/10/2021</td>\n",
       "      <td>0.649200</td>\n",
       "    </tr>\n",
       "    <tr>\n",
       "      <th>2</th>\n",
       "      <td>5/11/2021</td>\n",
       "      <td>0.613557</td>\n",
       "    </tr>\n",
       "    <tr>\n",
       "      <th>3</th>\n",
       "      <td>5/12/2021</td>\n",
       "      <td>0.590898</td>\n",
       "    </tr>\n",
       "    <tr>\n",
       "      <th>4</th>\n",
       "      <td>5/13/2021</td>\n",
       "      <td>0.658957</td>\n",
       "    </tr>\n",
       "    <tr>\n",
       "      <th>...</th>\n",
       "      <td>...</td>\n",
       "      <td>...</td>\n",
       "    </tr>\n",
       "    <tr>\n",
       "      <th>62</th>\n",
       "      <td>7/2/2021</td>\n",
       "      <td>0.805551</td>\n",
       "    </tr>\n",
       "    <tr>\n",
       "      <th>63</th>\n",
       "      <td>7/3/2021</td>\n",
       "      <td>0.770363</td>\n",
       "    </tr>\n",
       "    <tr>\n",
       "      <th>64</th>\n",
       "      <td>7/4/2021</td>\n",
       "      <td>0.815919</td>\n",
       "    </tr>\n",
       "    <tr>\n",
       "      <th>65</th>\n",
       "      <td>7/5/2021</td>\n",
       "      <td>0.769952</td>\n",
       "    </tr>\n",
       "    <tr>\n",
       "      <th>66</th>\n",
       "      <td>7/6/2021</td>\n",
       "      <td>0.766284</td>\n",
       "    </tr>\n",
       "  </tbody>\n",
       "</table>\n",
       "<p>67 rows × 2 columns</p>\n",
       "</div>"
      ],
      "text/plain": [
       "         Date  probability\n",
       "0    5/1/2021     0.820330\n",
       "1   5/10/2021     0.649200\n",
       "2   5/11/2021     0.613557\n",
       "3   5/12/2021     0.590898\n",
       "4   5/13/2021     0.658957\n",
       "..        ...          ...\n",
       "62   7/2/2021     0.805551\n",
       "63   7/3/2021     0.770363\n",
       "64   7/4/2021     0.815919\n",
       "65   7/5/2021     0.769952\n",
       "66   7/6/2021     0.766284\n",
       "\n",
       "[67 rows x 2 columns]"
      ]
     },
     "execution_count": 70,
     "metadata": {},
     "output_type": "execute_result"
    }
   ],
   "source": [
    "data_predict_summed"
   ]
  },
  {
   "cell_type": "code",
   "execution_count": 52,
   "metadata": {
    "scrolled": true
   },
   "outputs": [],
   "source": [
    "data_predict_summed.to_csv('D:/BAIM Academic/Summer Mod 2/ML MGMT 590/data_predict_summed_RNN_AAPL.csv', sep = ',',index = False)"
   ]
  },
  {
   "cell_type": "code",
   "execution_count": 71,
   "metadata": {},
   "outputs": [
    {
     "data": {
      "text/html": [
       "<div>\n",
       "<style scoped>\n",
       "    .dataframe tbody tr th:only-of-type {\n",
       "        vertical-align: middle;\n",
       "    }\n",
       "\n",
       "    .dataframe tbody tr th {\n",
       "        vertical-align: top;\n",
       "    }\n",
       "\n",
       "    .dataframe thead th {\n",
       "        text-align: right;\n",
       "    }\n",
       "</style>\n",
       "<table border=\"1\" class=\"dataframe\">\n",
       "  <thead>\n",
       "    <tr style=\"text-align: right;\">\n",
       "      <th></th>\n",
       "      <th>Date</th>\n",
       "      <th>Open</th>\n",
       "      <th>Close</th>\n",
       "    </tr>\n",
       "  </thead>\n",
       "  <tbody>\n",
       "    <tr>\n",
       "      <th>0</th>\n",
       "      <td>5/3/2021</td>\n",
       "      <td>132.039993</td>\n",
       "      <td>132.539993</td>\n",
       "    </tr>\n",
       "    <tr>\n",
       "      <th>1</th>\n",
       "      <td>5/4/2021</td>\n",
       "      <td>131.190002</td>\n",
       "      <td>127.849998</td>\n",
       "    </tr>\n",
       "    <tr>\n",
       "      <th>2</th>\n",
       "      <td>5/5/2021</td>\n",
       "      <td>129.199997</td>\n",
       "      <td>128.100006</td>\n",
       "    </tr>\n",
       "    <tr>\n",
       "      <th>3</th>\n",
       "      <td>5/6/2021</td>\n",
       "      <td>127.889999</td>\n",
       "      <td>129.740005</td>\n",
       "    </tr>\n",
       "    <tr>\n",
       "      <th>4</th>\n",
       "      <td>5/7/2021</td>\n",
       "      <td>130.850006</td>\n",
       "      <td>130.210007</td>\n",
       "    </tr>\n",
       "  </tbody>\n",
       "</table>\n",
       "</div>"
      ],
      "text/plain": [
       "       Date        Open       Close\n",
       "0  5/3/2021  132.039993  132.539993\n",
       "1  5/4/2021  131.190002  127.849998\n",
       "2  5/5/2021  129.199997  128.100006\n",
       "3  5/6/2021  127.889999  129.740005\n",
       "4  5/7/2021  130.850006  130.210007"
      ]
     },
     "execution_count": 71,
     "metadata": {},
     "output_type": "execute_result"
    }
   ],
   "source": [
    "file = 'D:/BAIM Academic/Summer Mod 2/ML MGMT 590/AAPL_hist_data.csv'\n",
    "df = pd.read_csv(file, sep=',')\n",
    "data_hist = df.drop(['High','Low','Adj Close','Volume'],axis = 1)\n",
    "data_hist.reset_index(drop=True, inplace=True)\n",
    "data_hist.head()"
   ]
  },
  {
   "cell_type": "code",
   "execution_count": 72,
   "metadata": {},
   "outputs": [
    {
     "data": {
      "text/html": [
       "<div>\n",
       "<style scoped>\n",
       "    .dataframe tbody tr th:only-of-type {\n",
       "        vertical-align: middle;\n",
       "    }\n",
       "\n",
       "    .dataframe tbody tr th {\n",
       "        vertical-align: top;\n",
       "    }\n",
       "\n",
       "    .dataframe thead th {\n",
       "        text-align: right;\n",
       "    }\n",
       "</style>\n",
       "<table border=\"1\" class=\"dataframe\">\n",
       "  <thead>\n",
       "    <tr style=\"text-align: right;\">\n",
       "      <th></th>\n",
       "      <th>Date</th>\n",
       "      <th>Open</th>\n",
       "      <th>Close</th>\n",
       "      <th>probability</th>\n",
       "    </tr>\n",
       "  </thead>\n",
       "  <tbody>\n",
       "    <tr>\n",
       "      <th>0</th>\n",
       "      <td>2021-05-03</td>\n",
       "      <td>132.039993</td>\n",
       "      <td>132.539993</td>\n",
       "      <td>0.794333</td>\n",
       "    </tr>\n",
       "    <tr>\n",
       "      <th>1</th>\n",
       "      <td>2021-05-04</td>\n",
       "      <td>131.190002</td>\n",
       "      <td>127.849998</td>\n",
       "      <td>0.679523</td>\n",
       "    </tr>\n",
       "    <tr>\n",
       "      <th>2</th>\n",
       "      <td>2021-05-05</td>\n",
       "      <td>129.199997</td>\n",
       "      <td>128.100006</td>\n",
       "      <td>0.698920</td>\n",
       "    </tr>\n",
       "    <tr>\n",
       "      <th>3</th>\n",
       "      <td>2021-05-06</td>\n",
       "      <td>127.889999</td>\n",
       "      <td>129.740005</td>\n",
       "      <td>0.792637</td>\n",
       "    </tr>\n",
       "    <tr>\n",
       "      <th>4</th>\n",
       "      <td>2021-05-07</td>\n",
       "      <td>130.850006</td>\n",
       "      <td>130.210007</td>\n",
       "      <td>0.748719</td>\n",
       "    </tr>\n",
       "    <tr>\n",
       "      <th>5</th>\n",
       "      <td>2021-05-10</td>\n",
       "      <td>129.410004</td>\n",
       "      <td>126.849998</td>\n",
       "      <td>0.649200</td>\n",
       "    </tr>\n",
       "    <tr>\n",
       "      <th>6</th>\n",
       "      <td>2021-05-11</td>\n",
       "      <td>123.500000</td>\n",
       "      <td>125.910004</td>\n",
       "      <td>0.613557</td>\n",
       "    </tr>\n",
       "    <tr>\n",
       "      <th>7</th>\n",
       "      <td>2021-05-12</td>\n",
       "      <td>123.400002</td>\n",
       "      <td>122.769997</td>\n",
       "      <td>0.590898</td>\n",
       "    </tr>\n",
       "    <tr>\n",
       "      <th>8</th>\n",
       "      <td>2021-05-13</td>\n",
       "      <td>124.580002</td>\n",
       "      <td>124.970001</td>\n",
       "      <td>0.658957</td>\n",
       "    </tr>\n",
       "    <tr>\n",
       "      <th>9</th>\n",
       "      <td>2021-05-14</td>\n",
       "      <td>126.250000</td>\n",
       "      <td>127.449997</td>\n",
       "      <td>0.756385</td>\n",
       "    </tr>\n",
       "    <tr>\n",
       "      <th>10</th>\n",
       "      <td>2021-05-17</td>\n",
       "      <td>126.820000</td>\n",
       "      <td>126.269997</td>\n",
       "      <td>0.674682</td>\n",
       "    </tr>\n",
       "    <tr>\n",
       "      <th>11</th>\n",
       "      <td>2021-05-18</td>\n",
       "      <td>126.559998</td>\n",
       "      <td>124.849998</td>\n",
       "      <td>0.677468</td>\n",
       "    </tr>\n",
       "    <tr>\n",
       "      <th>12</th>\n",
       "      <td>2021-05-19</td>\n",
       "      <td>123.160004</td>\n",
       "      <td>124.690002</td>\n",
       "      <td>0.602061</td>\n",
       "    </tr>\n",
       "    <tr>\n",
       "      <th>13</th>\n",
       "      <td>2021-05-20</td>\n",
       "      <td>125.230003</td>\n",
       "      <td>127.309998</td>\n",
       "      <td>0.794529</td>\n",
       "    </tr>\n",
       "    <tr>\n",
       "      <th>14</th>\n",
       "      <td>2021-05-21</td>\n",
       "      <td>127.820000</td>\n",
       "      <td>125.430000</td>\n",
       "      <td>0.724592</td>\n",
       "    </tr>\n",
       "    <tr>\n",
       "      <th>15</th>\n",
       "      <td>2021-05-24</td>\n",
       "      <td>126.010002</td>\n",
       "      <td>127.099998</td>\n",
       "      <td>0.748635</td>\n",
       "    </tr>\n",
       "    <tr>\n",
       "      <th>16</th>\n",
       "      <td>2021-05-25</td>\n",
       "      <td>127.820000</td>\n",
       "      <td>126.900002</td>\n",
       "      <td>0.780573</td>\n",
       "    </tr>\n",
       "    <tr>\n",
       "      <th>17</th>\n",
       "      <td>2021-05-26</td>\n",
       "      <td>126.959999</td>\n",
       "      <td>126.849998</td>\n",
       "      <td>0.784554</td>\n",
       "    </tr>\n",
       "    <tr>\n",
       "      <th>18</th>\n",
       "      <td>2021-05-27</td>\n",
       "      <td>126.440002</td>\n",
       "      <td>125.279999</td>\n",
       "      <td>0.732772</td>\n",
       "    </tr>\n",
       "    <tr>\n",
       "      <th>19</th>\n",
       "      <td>2021-05-28</td>\n",
       "      <td>125.570000</td>\n",
       "      <td>124.610001</td>\n",
       "      <td>0.700396</td>\n",
       "    </tr>\n",
       "    <tr>\n",
       "      <th>20</th>\n",
       "      <td>2021-06-01</td>\n",
       "      <td>125.080002</td>\n",
       "      <td>124.279999</td>\n",
       "      <td>0.724081</td>\n",
       "    </tr>\n",
       "    <tr>\n",
       "      <th>21</th>\n",
       "      <td>2021-06-02</td>\n",
       "      <td>124.279999</td>\n",
       "      <td>125.059998</td>\n",
       "      <td>0.708625</td>\n",
       "    </tr>\n",
       "    <tr>\n",
       "      <th>22</th>\n",
       "      <td>2021-06-03</td>\n",
       "      <td>124.680000</td>\n",
       "      <td>123.540001</td>\n",
       "      <td>0.710130</td>\n",
       "    </tr>\n",
       "    <tr>\n",
       "      <th>23</th>\n",
       "      <td>2021-06-04</td>\n",
       "      <td>124.070000</td>\n",
       "      <td>125.889999</td>\n",
       "      <td>0.785122</td>\n",
       "    </tr>\n",
       "    <tr>\n",
       "      <th>24</th>\n",
       "      <td>2021-06-07</td>\n",
       "      <td>126.169998</td>\n",
       "      <td>125.900002</td>\n",
       "      <td>0.769436</td>\n",
       "    </tr>\n",
       "    <tr>\n",
       "      <th>25</th>\n",
       "      <td>2021-06-08</td>\n",
       "      <td>126.599998</td>\n",
       "      <td>126.739998</td>\n",
       "      <td>0.786650</td>\n",
       "    </tr>\n",
       "    <tr>\n",
       "      <th>26</th>\n",
       "      <td>2021-06-09</td>\n",
       "      <td>127.209999</td>\n",
       "      <td>127.129997</td>\n",
       "      <td>0.748243</td>\n",
       "    </tr>\n",
       "    <tr>\n",
       "      <th>27</th>\n",
       "      <td>2021-06-10</td>\n",
       "      <td>127.019997</td>\n",
       "      <td>126.110001</td>\n",
       "      <td>0.690683</td>\n",
       "    </tr>\n",
       "    <tr>\n",
       "      <th>28</th>\n",
       "      <td>2021-06-11</td>\n",
       "      <td>126.529999</td>\n",
       "      <td>127.349998</td>\n",
       "      <td>0.759498</td>\n",
       "    </tr>\n",
       "    <tr>\n",
       "      <th>29</th>\n",
       "      <td>2021-06-14</td>\n",
       "      <td>127.820000</td>\n",
       "      <td>130.479996</td>\n",
       "      <td>0.787173</td>\n",
       "    </tr>\n",
       "    <tr>\n",
       "      <th>30</th>\n",
       "      <td>2021-06-15</td>\n",
       "      <td>129.940002</td>\n",
       "      <td>129.639999</td>\n",
       "      <td>0.709815</td>\n",
       "    </tr>\n",
       "    <tr>\n",
       "      <th>31</th>\n",
       "      <td>2021-06-16</td>\n",
       "      <td>130.369995</td>\n",
       "      <td>130.149994</td>\n",
       "      <td>0.650444</td>\n",
       "    </tr>\n",
       "    <tr>\n",
       "      <th>32</th>\n",
       "      <td>2021-06-17</td>\n",
       "      <td>129.800003</td>\n",
       "      <td>131.789993</td>\n",
       "      <td>0.706884</td>\n",
       "    </tr>\n",
       "    <tr>\n",
       "      <th>33</th>\n",
       "      <td>2021-06-18</td>\n",
       "      <td>130.710007</td>\n",
       "      <td>130.460007</td>\n",
       "      <td>0.733773</td>\n",
       "    </tr>\n",
       "    <tr>\n",
       "      <th>34</th>\n",
       "      <td>2021-06-21</td>\n",
       "      <td>130.300003</td>\n",
       "      <td>132.300003</td>\n",
       "      <td>0.736050</td>\n",
       "    </tr>\n",
       "    <tr>\n",
       "      <th>35</th>\n",
       "      <td>2021-06-22</td>\n",
       "      <td>132.130005</td>\n",
       "      <td>133.979996</td>\n",
       "      <td>0.802433</td>\n",
       "    </tr>\n",
       "    <tr>\n",
       "      <th>36</th>\n",
       "      <td>2021-06-23</td>\n",
       "      <td>133.770004</td>\n",
       "      <td>133.699997</td>\n",
       "      <td>0.805977</td>\n",
       "    </tr>\n",
       "    <tr>\n",
       "      <th>37</th>\n",
       "      <td>2021-06-24</td>\n",
       "      <td>134.449997</td>\n",
       "      <td>133.410004</td>\n",
       "      <td>0.794940</td>\n",
       "    </tr>\n",
       "    <tr>\n",
       "      <th>38</th>\n",
       "      <td>2021-06-25</td>\n",
       "      <td>133.460007</td>\n",
       "      <td>133.110001</td>\n",
       "      <td>0.748344</td>\n",
       "    </tr>\n",
       "    <tr>\n",
       "      <th>39</th>\n",
       "      <td>2021-06-28</td>\n",
       "      <td>133.410004</td>\n",
       "      <td>134.779999</td>\n",
       "      <td>0.774818</td>\n",
       "    </tr>\n",
       "    <tr>\n",
       "      <th>40</th>\n",
       "      <td>2021-06-29</td>\n",
       "      <td>134.800003</td>\n",
       "      <td>136.330002</td>\n",
       "      <td>0.811951</td>\n",
       "    </tr>\n",
       "    <tr>\n",
       "      <th>41</th>\n",
       "      <td>2021-06-30</td>\n",
       "      <td>136.169998</td>\n",
       "      <td>136.960007</td>\n",
       "      <td>0.784535</td>\n",
       "    </tr>\n",
       "    <tr>\n",
       "      <th>42</th>\n",
       "      <td>2021-07-01</td>\n",
       "      <td>136.600006</td>\n",
       "      <td>137.270004</td>\n",
       "      <td>0.781218</td>\n",
       "    </tr>\n",
       "    <tr>\n",
       "      <th>43</th>\n",
       "      <td>2021-07-02</td>\n",
       "      <td>137.899994</td>\n",
       "      <td>139.960007</td>\n",
       "      <td>0.805551</td>\n",
       "    </tr>\n",
       "    <tr>\n",
       "      <th>44</th>\n",
       "      <td>2021-07-06</td>\n",
       "      <td>140.070007</td>\n",
       "      <td>142.020004</td>\n",
       "      <td>0.766284</td>\n",
       "    </tr>\n",
       "  </tbody>\n",
       "</table>\n",
       "</div>"
      ],
      "text/plain": [
       "         Date        Open       Close  probability\n",
       "0  2021-05-03  132.039993  132.539993     0.794333\n",
       "1  2021-05-04  131.190002  127.849998     0.679523\n",
       "2  2021-05-05  129.199997  128.100006     0.698920\n",
       "3  2021-05-06  127.889999  129.740005     0.792637\n",
       "4  2021-05-07  130.850006  130.210007     0.748719\n",
       "5  2021-05-10  129.410004  126.849998     0.649200\n",
       "6  2021-05-11  123.500000  125.910004     0.613557\n",
       "7  2021-05-12  123.400002  122.769997     0.590898\n",
       "8  2021-05-13  124.580002  124.970001     0.658957\n",
       "9  2021-05-14  126.250000  127.449997     0.756385\n",
       "10 2021-05-17  126.820000  126.269997     0.674682\n",
       "11 2021-05-18  126.559998  124.849998     0.677468\n",
       "12 2021-05-19  123.160004  124.690002     0.602061\n",
       "13 2021-05-20  125.230003  127.309998     0.794529\n",
       "14 2021-05-21  127.820000  125.430000     0.724592\n",
       "15 2021-05-24  126.010002  127.099998     0.748635\n",
       "16 2021-05-25  127.820000  126.900002     0.780573\n",
       "17 2021-05-26  126.959999  126.849998     0.784554\n",
       "18 2021-05-27  126.440002  125.279999     0.732772\n",
       "19 2021-05-28  125.570000  124.610001     0.700396\n",
       "20 2021-06-01  125.080002  124.279999     0.724081\n",
       "21 2021-06-02  124.279999  125.059998     0.708625\n",
       "22 2021-06-03  124.680000  123.540001     0.710130\n",
       "23 2021-06-04  124.070000  125.889999     0.785122\n",
       "24 2021-06-07  126.169998  125.900002     0.769436\n",
       "25 2021-06-08  126.599998  126.739998     0.786650\n",
       "26 2021-06-09  127.209999  127.129997     0.748243\n",
       "27 2021-06-10  127.019997  126.110001     0.690683\n",
       "28 2021-06-11  126.529999  127.349998     0.759498\n",
       "29 2021-06-14  127.820000  130.479996     0.787173\n",
       "30 2021-06-15  129.940002  129.639999     0.709815\n",
       "31 2021-06-16  130.369995  130.149994     0.650444\n",
       "32 2021-06-17  129.800003  131.789993     0.706884\n",
       "33 2021-06-18  130.710007  130.460007     0.733773\n",
       "34 2021-06-21  130.300003  132.300003     0.736050\n",
       "35 2021-06-22  132.130005  133.979996     0.802433\n",
       "36 2021-06-23  133.770004  133.699997     0.805977\n",
       "37 2021-06-24  134.449997  133.410004     0.794940\n",
       "38 2021-06-25  133.460007  133.110001     0.748344\n",
       "39 2021-06-28  133.410004  134.779999     0.774818\n",
       "40 2021-06-29  134.800003  136.330002     0.811951\n",
       "41 2021-06-30  136.169998  136.960007     0.784535\n",
       "42 2021-07-01  136.600006  137.270004     0.781218\n",
       "43 2021-07-02  137.899994  139.960007     0.805551\n",
       "44 2021-07-06  140.070007  142.020004     0.766284"
      ]
     },
     "execution_count": 72,
     "metadata": {},
     "output_type": "execute_result"
    }
   ],
   "source": [
    "data_predict_summed['Date'] = pd.to_datetime(data_predict_summed['Date'])\n",
    "data_hist['Date'] = pd.to_datetime(data_hist['Date'])\n",
    "data_hist = pd.merge(data_hist, data_predict_summed, how=\"left\", on=\"Date\")\n",
    "data_hist.dropna(inplace=True)\n",
    "data_hist"
   ]
  },
  {
   "cell_type": "code",
   "execution_count": 73,
   "metadata": {
    "scrolled": true
   },
   "outputs": [],
   "source": [
    "data_hist.to_csv('D:/BAIM Academic/Summer Mod 2/ML MGMT 590/data_hist_cleand_RNN_AAPL.csv', sep = ',',index = False)"
   ]
  }
 ],
 "metadata": {
  "kernelspec": {
   "display_name": "Python 3",
   "language": "python",
   "name": "python3"
  },
  "language_info": {
   "codemirror_mode": {
    "name": "ipython",
    "version": 3
   },
   "file_extension": ".py",
   "mimetype": "text/x-python",
   "name": "python",
   "nbconvert_exporter": "python",
   "pygments_lexer": "ipython3",
   "version": "3.8.5"
  },
  "papermill": {
   "duration": 61.693863,
   "end_time": "2021-05-19T15:12:33.634901",
   "environment_variables": {},
   "exception": null,
   "input_path": "__notebook__.ipynb",
   "output_path": "__notebook__.ipynb",
   "parameters": {},
   "start_time": "2021-05-19T15:11:31.941038",
   "version": "2.1.0"
  }
 },
 "nbformat": 4,
 "nbformat_minor": 4
}
