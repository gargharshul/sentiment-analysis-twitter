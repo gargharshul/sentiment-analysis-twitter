{
 "cells": [
  {
   "cell_type": "code",
   "execution_count": 2,
   "metadata": {
    "_cell_guid": "b1076dfc-b9ad-4769-8c92-a6c4dae69d19",
    "_uuid": "8f2839f25d086af736a60e9eeb907d3b93b6e0e5",
    "execution": {
     "iopub.execute_input": "2021-05-19T15:11:36.680894Z",
     "iopub.status.busy": "2021-05-19T15:11:36.680124Z",
     "iopub.status.idle": "2021-05-19T15:11:38.481945Z",
     "shell.execute_reply": "2021-05-19T15:11:38.482539Z"
    },
    "papermill": {
     "duration": 1.826133,
     "end_time": "2021-05-19T15:11:38.482735",
     "exception": false,
     "start_time": "2021-05-19T15:11:36.656602",
     "status": "completed"
    },
    "tags": []
   },
   "outputs": [],
   "source": [
    "import numpy as np \n",
    "import pandas as pd \n",
    "from textblob import TextBlob\n",
    "import matplotlib.pyplot as plt"
   ]
  },
  {
   "cell_type": "markdown",
   "metadata": {},
   "source": [
    "# Reading csv file"
   ]
  },
  {
   "cell_type": "code",
   "execution_count": 310,
   "metadata": {},
   "outputs": [
    {
     "name": "stdout",
     "output_type": "stream",
     "text": [
      "   Unnamed: 0    User_id                                            Message  \\\n",
      "0           0  353007388  $TSLA  SpaceX Is Launching a Rocket the Size o...   \n",
      "1           1  353007192  $TSLA has been mentioned 3 times on WallStreet...   \n",
      "2           2  353006941  Recap 7/6:\\nGreat start to the week. $SPY puts...   \n",
      "3           3  353006805  $SPY $TSLA \\n\\nhttps://mobile.twitter.com/Clar...   \n",
      "4           4  353006152  $AMC For change you have to work together.\\n-T...   \n",
      "\n",
      "         Date       Time Sentiment  \n",
      "0  2021-07-07  01:04:41Z       NaN  \n",
      "1  2021-07-07  01:03:57Z       NaN  \n",
      "2  2021-07-07  01:02:56Z       NaN  \n",
      "3  2021-07-07  01:02:26Z   Bearish  \n",
      "4  2021-07-07  00:59:51Z   Bullish  \n"
     ]
    }
   ],
   "source": [
    "file = 'D:/BAIM Academic/Summer Mod 2/ML MGMT 590/TSLAtweets5k.csv'\n",
    "#df = pd.read_csv(file, sep=',',nrows=10000)\n",
    "df_2 = pd.read_csv(file, sep=',')\n",
    "print(df_2.head())"
   ]
  },
  {
   "cell_type": "code",
   "execution_count": 311,
   "metadata": {
    "execution": {
     "iopub.execute_input": "2021-05-19T15:11:38.519003Z",
     "iopub.status.busy": "2021-05-19T15:11:38.518265Z",
     "iopub.status.idle": "2021-05-19T15:11:38.571936Z",
     "shell.execute_reply": "2021-05-19T15:11:38.572799Z"
    },
    "papermill": {
     "duration": 0.073683,
     "end_time": "2021-05-19T15:11:38.573016",
     "exception": false,
     "start_time": "2021-05-19T15:11:38.499333",
     "status": "completed"
    },
    "scrolled": true,
    "tags": []
   },
   "outputs": [
    {
     "name": "stdout",
     "output_type": "stream",
     "text": [
      "   Unnamed: 0    User_id                                            Message  \\\n",
      "0           0  352604057             $AAPL time to take it to 150 in 1 week   \n",
      "1           1  352603862  $AAPL In the recent reporting quarter: 25.00% ...   \n",
      "2           2  352603771  $AAPL We know what a difficult time it has bee...   \n",
      "3           3  352603702  $AAPL has a Return On Assets of 22.63%. This i...   \n",
      "4           4  352603496                             $AAPL  Slowly going up   \n",
      "\n",
      "         Date       Time Sentiment  \n",
      "0  2021-07-06  08:03:11Z   Bullish  \n",
      "1  2021-07-06  08:01:29Z       NaN  \n",
      "2  2021-07-06  08:00:35Z       NaN  \n",
      "3  2021-07-06  08:00:00Z       NaN  \n",
      "4  2021-07-06  07:57:34Z   Bullish  \n"
     ]
    }
   ],
   "source": [
    "file = 'D:/BAIM Academic/Summer Mod 2/ML MGMT 590/AAPLtweets5k.csv'\n",
    "#df = pd.read_csv(file, sep=',',nrows=10000)\n",
    "df_1 = pd.read_csv(file, sep=',')\n",
    "print(df_1.head())"
   ]
  },
  {
   "cell_type": "code",
   "execution_count": 354,
   "metadata": {},
   "outputs": [],
   "source": [
    "df_2\n",
    "df_2['Date'] = pd.to_datetime(df_2['Date'])\n",
    "pred_data = df_2[(df_2['Date'] >= '2021-06-01')]\n",
    "pred_data.head()\n",
    "pred_data.to_csv('D:/BAIM Academic/Summer Mod 2/ML MGMT 590/TSLA_to_pred_data.csv', sep = ',',index = False)"
   ]
  },
  {
   "cell_type": "code",
   "execution_count": 312,
   "metadata": {},
   "outputs": [
    {
     "name": "stdout",
     "output_type": "stream",
     "text": [
      "   Unnamed: 0    User_id                                            Message  \\\n",
      "0           0  352604057             $AAPL time to take it to 150 in 1 week   \n",
      "1           1  352603862  $AAPL In the recent reporting quarter: 25.00% ...   \n",
      "2           2  352603771  $AAPL We know what a difficult time it has bee...   \n",
      "3           3  352603702  $AAPL has a Return On Assets of 22.63%. This i...   \n",
      "4           4  352603496                             $AAPL  Slowly going up   \n",
      "\n",
      "         Date       Time Sentiment  \n",
      "0  2021-07-06  08:03:11Z   Bullish  \n",
      "1  2021-07-06  08:01:29Z       NaN  \n",
      "2  2021-07-06  08:00:35Z       NaN  \n",
      "3  2021-07-06  08:00:00Z       NaN  \n",
      "4  2021-07-06  07:57:34Z   Bullish  \n"
     ]
    }
   ],
   "source": [
    "df = pd.concat([df_1, df_2], ignore_index=True)\n",
    "print(df.head())"
   ]
  },
  {
   "cell_type": "markdown",
   "metadata": {},
   "source": [
    "# Data Cleaning"
   ]
  },
  {
   "cell_type": "code",
   "execution_count": 313,
   "metadata": {},
   "outputs": [
    {
     "data": {
      "text/html": [
       "<div>\n",
       "<style scoped>\n",
       "    .dataframe tbody tr th:only-of-type {\n",
       "        vertical-align: middle;\n",
       "    }\n",
       "\n",
       "    .dataframe tbody tr th {\n",
       "        vertical-align: top;\n",
       "    }\n",
       "\n",
       "    .dataframe thead th {\n",
       "        text-align: right;\n",
       "    }\n",
       "</style>\n",
       "<table border=\"1\" class=\"dataframe\">\n",
       "  <thead>\n",
       "    <tr style=\"text-align: right;\">\n",
       "      <th></th>\n",
       "      <th>Unnamed: 0</th>\n",
       "      <th>User_id</th>\n",
       "    </tr>\n",
       "  </thead>\n",
       "  <tbody>\n",
       "    <tr>\n",
       "      <th>count</th>\n",
       "      <td>299986.000000</td>\n",
       "      <td>2.999860e+05</td>\n",
       "    </tr>\n",
       "    <tr>\n",
       "      <th>mean</th>\n",
       "      <td>74996.000030</td>\n",
       "      <td>3.315685e+08</td>\n",
       "    </tr>\n",
       "    <tr>\n",
       "      <th>std</th>\n",
       "      <td>43299.321683</td>\n",
       "      <td>1.434288e+07</td>\n",
       "    </tr>\n",
       "    <tr>\n",
       "      <th>min</th>\n",
       "      <td>0.000000</td>\n",
       "      <td>2.997594e+08</td>\n",
       "    </tr>\n",
       "    <tr>\n",
       "      <th>25%</th>\n",
       "      <td>37498.000000</td>\n",
       "      <td>3.225103e+08</td>\n",
       "    </tr>\n",
       "    <tr>\n",
       "      <th>50%</th>\n",
       "      <td>74996.000000</td>\n",
       "      <td>3.330402e+08</td>\n",
       "    </tr>\n",
       "    <tr>\n",
       "      <th>75%</th>\n",
       "      <td>112494.000000</td>\n",
       "      <td>3.429894e+08</td>\n",
       "    </tr>\n",
       "    <tr>\n",
       "      <th>max</th>\n",
       "      <td>149995.000000</td>\n",
       "      <td>3.530074e+08</td>\n",
       "    </tr>\n",
       "  </tbody>\n",
       "</table>\n",
       "</div>"
      ],
      "text/plain": [
       "          Unnamed: 0       User_id\n",
       "count  299986.000000  2.999860e+05\n",
       "mean    74996.000030  3.315685e+08\n",
       "std     43299.321683  1.434288e+07\n",
       "min         0.000000  2.997594e+08\n",
       "25%     37498.000000  3.225103e+08\n",
       "50%     74996.000000  3.330402e+08\n",
       "75%    112494.000000  3.429894e+08\n",
       "max    149995.000000  3.530074e+08"
      ]
     },
     "execution_count": 313,
     "metadata": {},
     "output_type": "execute_result"
    }
   ],
   "source": [
    "df.describe()"
   ]
  },
  {
   "cell_type": "code",
   "execution_count": 314,
   "metadata": {
    "scrolled": true
   },
   "outputs": [
    {
     "name": "stdout",
     "output_type": "stream",
     "text": [
      "Requirement already satisfied: textblob in c:\\users\\harshul\\anaconda3\\lib\\site-packages (0.15.3)Note: you may need to restart the kernel to use updated packages.\n"
     ]
    },
    {
     "name": "stderr",
     "output_type": "stream",
     "text": [
      "WARNING: Ignoring invalid distribution -rotobuf (c:\\users\\harshul\\anaconda3\\lib\\site-packages)\n",
      "WARNING: Ignoring invalid distribution -rotobuf (c:\\users\\harshul\\anaconda3\\lib\\site-packages)\n",
      "WARNING: Ignoring invalid distribution -rotobuf (c:\\users\\harshul\\anaconda3\\lib\\site-packages)\n"
     ]
    },
    {
     "name": "stdout",
     "output_type": "stream",
     "text": [
      "\n",
      "Requirement already satisfied: nltk>=3.1 in c:\\users\\harshul\\anaconda3\\lib\\site-packages (from textblob) (3.5)\n",
      "Requirement already satisfied: regex in c:\\users\\harshul\\anaconda3\\lib\\site-packages (from nltk>=3.1->textblob) (2020.10.15)\n",
      "Requirement already satisfied: tqdm in c:\\users\\harshul\\anaconda3\\lib\\site-packages (from nltk>=3.1->textblob) (4.50.2)\n",
      "Requirement already satisfied: joblib in c:\\users\\harshul\\anaconda3\\lib\\site-packages (from nltk>=3.1->textblob) (0.17.0)\n",
      "Requirement already satisfied: click in c:\\users\\harshul\\anaconda3\\lib\\site-packages (from nltk>=3.1->textblob) (7.1.2)\n"
     ]
    }
   ],
   "source": [
    "pip install textblob"
   ]
  },
  {
   "cell_type": "code",
   "execution_count": 316,
   "metadata": {
    "execution": {
     "iopub.execute_input": "2021-05-19T15:11:38.622789Z",
     "iopub.status.busy": "2021-05-19T15:11:38.622002Z",
     "iopub.status.idle": "2021-05-19T15:11:38.631484Z",
     "shell.execute_reply": "2021-05-19T15:11:38.630877Z"
    },
    "papermill": {
     "duration": 0.041662,
     "end_time": "2021-05-19T15:11:38.631626",
     "exception": false,
     "start_time": "2021-05-19T15:11:38.589964",
     "status": "completed"
    },
    "scrolled": true,
    "tags": []
   },
   "outputs": [
    {
     "data": {
      "text/html": [
       "<div>\n",
       "<style scoped>\n",
       "    .dataframe tbody tr th:only-of-type {\n",
       "        vertical-align: middle;\n",
       "    }\n",
       "\n",
       "    .dataframe tbody tr th {\n",
       "        vertical-align: top;\n",
       "    }\n",
       "\n",
       "    .dataframe thead th {\n",
       "        text-align: right;\n",
       "    }\n",
       "</style>\n",
       "<table border=\"1\" class=\"dataframe\">\n",
       "  <thead>\n",
       "    <tr style=\"text-align: right;\">\n",
       "      <th></th>\n",
       "      <th>Message</th>\n",
       "      <th>Date</th>\n",
       "      <th>Time</th>\n",
       "      <th>Sentiment</th>\n",
       "    </tr>\n",
       "  </thead>\n",
       "  <tbody>\n",
       "    <tr>\n",
       "      <th>0</th>\n",
       "      <td>$AAPL time to take it to 150 in 1 week</td>\n",
       "      <td>2021-07-06</td>\n",
       "      <td>08:03:11Z</td>\n",
       "      <td>Bullish</td>\n",
       "    </tr>\n",
       "    <tr>\n",
       "      <th>4</th>\n",
       "      <td>$AAPL  Slowly going up</td>\n",
       "      <td>2021-07-06</td>\n",
       "      <td>07:57:34Z</td>\n",
       "      <td>Bullish</td>\n",
       "    </tr>\n",
       "    <tr>\n",
       "      <th>6</th>\n",
       "      <td>$SNDL \\nSo many things\\n- about a BILLION in t...</td>\n",
       "      <td>2021-07-06</td>\n",
       "      <td>07:49:10Z</td>\n",
       "      <td>Bullish</td>\n",
       "    </tr>\n",
       "    <tr>\n",
       "      <th>7</th>\n",
       "      <td>SmartOptions® Unusual Activity Alert\\n(Delayed...</td>\n",
       "      <td>2021-07-06</td>\n",
       "      <td>07:44:42Z</td>\n",
       "      <td>Bearish</td>\n",
       "    </tr>\n",
       "    <tr>\n",
       "      <th>11</th>\n",
       "      <td>$AAPL when is  the time for covered calls? I t...</td>\n",
       "      <td>2021-07-06</td>\n",
       "      <td>07:38:41Z</td>\n",
       "      <td>Bullish</td>\n",
       "    </tr>\n",
       "  </tbody>\n",
       "</table>\n",
       "</div>"
      ],
      "text/plain": [
       "                                              Message        Date       Time  \\\n",
       "0              $AAPL time to take it to 150 in 1 week  2021-07-06  08:03:11Z   \n",
       "4                              $AAPL  Slowly going up  2021-07-06  07:57:34Z   \n",
       "6   $SNDL \\nSo many things\\n- about a BILLION in t...  2021-07-06  07:49:10Z   \n",
       "7   SmartOptions® Unusual Activity Alert\\n(Delayed...  2021-07-06  07:44:42Z   \n",
       "11  $AAPL when is  the time for covered calls? I t...  2021-07-06  07:38:41Z   \n",
       "\n",
       "   Sentiment  \n",
       "0    Bullish  \n",
       "4    Bullish  \n",
       "6    Bullish  \n",
       "7    Bearish  \n",
       "11   Bullish  "
      ]
     },
     "execution_count": 316,
     "metadata": {},
     "output_type": "execute_result"
    }
   ],
   "source": [
    "data = df.drop(['User_id','Unnamed: 0'],axis = 1)\n",
    "data.reset_index(drop=True, inplace=True)\n",
    "data.dropna(inplace=True)\n",
    "data.head()\n"
   ]
  },
  {
   "cell_type": "code",
   "execution_count": 317,
   "metadata": {},
   "outputs": [
    {
     "data": {
      "text/html": [
       "<div>\n",
       "<style scoped>\n",
       "    .dataframe tbody tr th:only-of-type {\n",
       "        vertical-align: middle;\n",
       "    }\n",
       "\n",
       "    .dataframe tbody tr th {\n",
       "        vertical-align: top;\n",
       "    }\n",
       "\n",
       "    .dataframe thead th {\n",
       "        text-align: right;\n",
       "    }\n",
       "</style>\n",
       "<table border=\"1\" class=\"dataframe\">\n",
       "  <thead>\n",
       "    <tr style=\"text-align: right;\">\n",
       "      <th></th>\n",
       "      <th>Message</th>\n",
       "      <th>Date</th>\n",
       "      <th>Time</th>\n",
       "      <th>Sentiment</th>\n",
       "    </tr>\n",
       "  </thead>\n",
       "  <tbody>\n",
       "    <tr>\n",
       "      <th>0</th>\n",
       "      <td>$AAPL time to take it to 150 in 1 week</td>\n",
       "      <td>2021-07-06</td>\n",
       "      <td>08:03:11Z</td>\n",
       "      <td>1</td>\n",
       "    </tr>\n",
       "    <tr>\n",
       "      <th>4</th>\n",
       "      <td>$AAPL  Slowly going up</td>\n",
       "      <td>2021-07-06</td>\n",
       "      <td>07:57:34Z</td>\n",
       "      <td>1</td>\n",
       "    </tr>\n",
       "    <tr>\n",
       "      <th>6</th>\n",
       "      <td>$SNDL \\nSo many things\\n- about a BILLION in t...</td>\n",
       "      <td>2021-07-06</td>\n",
       "      <td>07:49:10Z</td>\n",
       "      <td>1</td>\n",
       "    </tr>\n",
       "    <tr>\n",
       "      <th>7</th>\n",
       "      <td>SmartOptions® Unusual Activity Alert\\n(Delayed...</td>\n",
       "      <td>2021-07-06</td>\n",
       "      <td>07:44:42Z</td>\n",
       "      <td>0</td>\n",
       "    </tr>\n",
       "    <tr>\n",
       "      <th>11</th>\n",
       "      <td>$AAPL when is  the time for covered calls? I t...</td>\n",
       "      <td>2021-07-06</td>\n",
       "      <td>07:38:41Z</td>\n",
       "      <td>1</td>\n",
       "    </tr>\n",
       "  </tbody>\n",
       "</table>\n",
       "</div>"
      ],
      "text/plain": [
       "                                              Message        Date       Time  \\\n",
       "0              $AAPL time to take it to 150 in 1 week  2021-07-06  08:03:11Z   \n",
       "4                              $AAPL  Slowly going up  2021-07-06  07:57:34Z   \n",
       "6   $SNDL \\nSo many things\\n- about a BILLION in t...  2021-07-06  07:49:10Z   \n",
       "7   SmartOptions® Unusual Activity Alert\\n(Delayed...  2021-07-06  07:44:42Z   \n",
       "11  $AAPL when is  the time for covered calls? I t...  2021-07-06  07:38:41Z   \n",
       "\n",
       "   Sentiment  \n",
       "0          1  \n",
       "4          1  \n",
       "6          1  \n",
       "7          0  \n",
       "11         1  "
      ]
     },
     "execution_count": 317,
     "metadata": {},
     "output_type": "execute_result"
    }
   ],
   "source": [
    "data[\"Sentiment\"].replace({\"Bullish\": \"1\", \"Bearish\": \"0\"}, inplace=True)\n",
    "data.head()"
   ]
  },
  {
   "cell_type": "code",
   "execution_count": 318,
   "metadata": {},
   "outputs": [
    {
     "data": {
      "text/plain": [
       "Message      object\n",
       "Date         object\n",
       "Time         object\n",
       "Sentiment     int32\n",
       "dtype: object"
      ]
     },
     "execution_count": 318,
     "metadata": {},
     "output_type": "execute_result"
    }
   ],
   "source": [
    "data = data.astype({'Sentiment': 'int32'})\n",
    "data.dtypes"
   ]
  },
  {
   "cell_type": "code",
   "execution_count": 319,
   "metadata": {},
   "outputs": [
    {
     "data": {
      "text/html": [
       "<div>\n",
       "<style scoped>\n",
       "    .dataframe tbody tr th:only-of-type {\n",
       "        vertical-align: middle;\n",
       "    }\n",
       "\n",
       "    .dataframe tbody tr th {\n",
       "        vertical-align: top;\n",
       "    }\n",
       "\n",
       "    .dataframe thead th {\n",
       "        text-align: right;\n",
       "    }\n",
       "</style>\n",
       "<table border=\"1\" class=\"dataframe\">\n",
       "  <thead>\n",
       "    <tr style=\"text-align: right;\">\n",
       "      <th></th>\n",
       "      <th>Message</th>\n",
       "      <th>Date</th>\n",
       "      <th>Time</th>\n",
       "      <th>Sentiment</th>\n",
       "    </tr>\n",
       "  </thead>\n",
       "  <tbody>\n",
       "    <tr>\n",
       "      <th>0</th>\n",
       "      <td>$AAPL time to take it to 150 in 1 week</td>\n",
       "      <td>2021-07-06</td>\n",
       "      <td>08:03:11Z</td>\n",
       "      <td>1</td>\n",
       "    </tr>\n",
       "    <tr>\n",
       "      <th>4</th>\n",
       "      <td>$AAPL  Slowly going up</td>\n",
       "      <td>2021-07-06</td>\n",
       "      <td>07:57:34Z</td>\n",
       "      <td>1</td>\n",
       "    </tr>\n",
       "    <tr>\n",
       "      <th>6</th>\n",
       "      <td>$SNDL \\nSo many things\\n- about a BILLION in t...</td>\n",
       "      <td>2021-07-06</td>\n",
       "      <td>07:49:10Z</td>\n",
       "      <td>1</td>\n",
       "    </tr>\n",
       "    <tr>\n",
       "      <th>7</th>\n",
       "      <td>SmartOptions® Unusual Activity Alert\\n(Delayed...</td>\n",
       "      <td>2021-07-06</td>\n",
       "      <td>07:44:42Z</td>\n",
       "      <td>0</td>\n",
       "    </tr>\n",
       "    <tr>\n",
       "      <th>11</th>\n",
       "      <td>$AAPL when is  the time for covered calls? I t...</td>\n",
       "      <td>2021-07-06</td>\n",
       "      <td>07:38:41Z</td>\n",
       "      <td>1</td>\n",
       "    </tr>\n",
       "  </tbody>\n",
       "</table>\n",
       "</div>"
      ],
      "text/plain": [
       "                                              Message       Date       Time  \\\n",
       "0              $AAPL time to take it to 150 in 1 week 2021-07-06  08:03:11Z   \n",
       "4                              $AAPL  Slowly going up 2021-07-06  07:57:34Z   \n",
       "6   $SNDL \\nSo many things\\n- about a BILLION in t... 2021-07-06  07:49:10Z   \n",
       "7   SmartOptions® Unusual Activity Alert\\n(Delayed... 2021-07-06  07:44:42Z   \n",
       "11  $AAPL when is  the time for covered calls? I t... 2021-07-06  07:38:41Z   \n",
       "\n",
       "    Sentiment  \n",
       "0           1  \n",
       "4           1  \n",
       "6           1  \n",
       "7           0  \n",
       "11          1  "
      ]
     },
     "execution_count": 319,
     "metadata": {},
     "output_type": "execute_result"
    }
   ],
   "source": [
    "data['Date'] = pd.to_datetime(data['Date'])\n",
    "#data = data[(data['timestamp'] >= '2017-01-01')]\n",
    "data.head()"
   ]
  },
  {
   "cell_type": "code",
   "execution_count": 320,
   "metadata": {
    "execution": {
     "iopub.execute_input": "2021-05-19T15:11:38.672752Z",
     "iopub.status.busy": "2021-05-19T15:11:38.671763Z",
     "iopub.status.idle": "2021-05-19T15:11:38.676067Z",
     "shell.execute_reply": "2021-05-19T15:11:38.675555Z"
    },
    "papermill": {
     "duration": 0.027524,
     "end_time": "2021-05-19T15:11:38.676201",
     "exception": false,
     "start_time": "2021-05-19T15:11:38.648677",
     "status": "completed"
    },
    "scrolled": true,
    "tags": []
   },
   "outputs": [
    {
     "name": "stdout",
     "output_type": "stream",
     "text": [
      "$AAPL  Slowly going up\n"
     ]
    }
   ],
   "source": [
    "tweets = data['Message']\n",
    "print(tweets[4])"
   ]
  },
  {
   "cell_type": "code",
   "execution_count": 28,
   "metadata": {
    "execution": {
     "iopub.execute_input": "2021-05-19T15:11:38.719050Z",
     "iopub.status.busy": "2021-05-19T15:11:38.718306Z",
     "iopub.status.idle": "2021-05-19T15:11:50.046716Z",
     "shell.execute_reply": "2021-05-19T15:11:50.046140Z"
    },
    "papermill": {
     "duration": 11.351199,
     "end_time": "2021-05-19T15:11:50.046842",
     "exception": false,
     "start_time": "2021-05-19T15:11:38.695643",
     "status": "completed"
    },
    "scrolled": false,
    "tags": []
   },
   "outputs": [
    {
     "name": "stdout",
     "output_type": "stream",
     "text": [
      "Collecting langdetect\n",
      "  Downloading langdetect-1.0.9.tar.gz (981 kB)\n",
      "Requirement already satisfied: six in c:\\users\\harshul\\anaconda3\\lib\\site-packages (from langdetect) (1.15.0)\n",
      "Building wheels for collected packages: langdetect\n",
      "  Building wheel for langdetect (setup.py): started\n",
      "  Building wheel for langdetect (setup.py): finished with status 'done'\n",
      "  Created wheel for langdetect: filename=langdetect-1.0.9-py3-none-any.whl size=993227 sha256=8e249feb667af40e3b3f8785c073139ce096342c33a1b8f4aaaf7203f0fe1420\n",
      "  Stored in directory: c:\\users\\harshul\\appdata\\local\\pip\\cache\\wheels\\13\\c7\\b0\\79f66658626032e78fc1a83103690ef6797d551cb22e56e734\n",
      "Successfully built langdetect\n",
      "Installing collected packages: langdetect\n",
      "Successfully installed langdetect-1.0.9\n",
      "Note: you may need to restart the kernel to use updated packages.\n"
     ]
    }
   ],
   "source": [
    "pip install langdetect"
   ]
  },
  {
   "cell_type": "code",
   "execution_count": 321,
   "metadata": {
    "execution": {
     "iopub.execute_input": "2021-05-19T15:11:50.484995Z",
     "iopub.status.busy": "2021-05-19T15:11:50.484056Z",
     "iopub.status.idle": "2021-05-19T15:11:50.756853Z",
     "shell.execute_reply": "2021-05-19T15:11:50.756252Z"
    },
    "papermill": {
     "duration": 0.312531,
     "end_time": "2021-05-19T15:11:50.756980",
     "exception": false,
     "start_time": "2021-05-19T15:11:50.444449",
     "status": "completed"
    },
    "tags": []
   },
   "outputs": [
    {
     "data": {
      "text/html": [
       "<div>\n",
       "<style scoped>\n",
       "    .dataframe tbody tr th:only-of-type {\n",
       "        vertical-align: middle;\n",
       "    }\n",
       "\n",
       "    .dataframe tbody tr th {\n",
       "        vertical-align: top;\n",
       "    }\n",
       "\n",
       "    .dataframe thead th {\n",
       "        text-align: right;\n",
       "    }\n",
       "</style>\n",
       "<table border=\"1\" class=\"dataframe\">\n",
       "  <thead>\n",
       "    <tr style=\"text-align: right;\">\n",
       "      <th></th>\n",
       "      <th>Message</th>\n",
       "      <th>Date</th>\n",
       "      <th>Time</th>\n",
       "      <th>Sentiment</th>\n",
       "    </tr>\n",
       "  </thead>\n",
       "  <tbody>\n",
       "    <tr>\n",
       "      <th>76255</th>\n",
       "      <td>told aapl</td>\n",
       "      <td>2021-04-28</td>\n",
       "      <td>20:46:21Z</td>\n",
       "      <td>1</td>\n",
       "    </tr>\n",
       "    <tr>\n",
       "      <th>147173</th>\n",
       "      <td>aapl gosh please help apple follow trend</td>\n",
       "      <td>2021-03-08</td>\n",
       "      <td>14:05:50Z</td>\n",
       "      <td>1</td>\n",
       "    </tr>\n",
       "    <tr>\n",
       "      <th>21523</th>\n",
       "      <td>gm aapl flight apple shares either way flight ...</td>\n",
       "      <td>2021-06-16</td>\n",
       "      <td>17:05:12Z</td>\n",
       "      <td>1</td>\n",
       "    </tr>\n",
       "  </tbody>\n",
       "</table>\n",
       "</div>"
      ],
      "text/plain": [
       "                                                  Message       Date  \\\n",
       "76255                                           told aapl 2021-04-28   \n",
       "147173           aapl gosh please help apple follow trend 2021-03-08   \n",
       "21523   gm aapl flight apple shares either way flight ... 2021-06-16   \n",
       "\n",
       "             Time  Sentiment  \n",
       "76255   20:46:21Z          1  \n",
       "147173  14:05:50Z          1  \n",
       "21523   17:05:12Z          1  "
      ]
     },
     "execution_count": 321,
     "metadata": {},
     "output_type": "execute_result"
    }
   ],
   "source": [
    "import nltk\n",
    "import re\n",
    "from nltk.corpus import stopwords\n",
    "\n",
    "def text_cleaning(text):\n",
    "    forbidden_words = set(stopwords.words('english'))\n",
    "    text = ' '.join(text.split('.'))\n",
    "    text = re.sub('\\/',' ',text)\n",
    "    text = text.strip('\\'\"')\n",
    "    text = re.sub(r'@([^\\s]+)',r'\\1',text)\n",
    "    text = re.sub(r'\\\\',' ',text)\n",
    "    text = text.lower()\n",
    "    text = re.sub('[\\s]+', ' ', text)\n",
    "    text = re.sub(r'#([^\\s]+)', r'\\1', text)\n",
    "    text = re.sub('((www\\.[^\\s]+)|(https?://[^\\s]+))',' ',text)\n",
    "    text = re.sub(r'((http)\\S+)','',text)\n",
    "    text = re.sub(r'\\s+', ' ', re.sub('[^A-Za-z]', ' ', text.strip().lower())).strip()\n",
    "    text = re.sub(r'\\W+', ' ', text.strip().lower()).strip()\n",
    "    text = [word for word in text.split() if word not in forbidden_words]\n",
    "    return ' '.join(text)\n",
    "\n",
    "data['Message'] = data['Message'].apply(lambda text: text_cleaning(text))\n",
    "data.sample(3)"
   ]
  },
  {
   "cell_type": "code",
   "execution_count": 325,
   "metadata": {},
   "outputs": [
    {
     "data": {
      "text/html": [
       "<div>\n",
       "<style scoped>\n",
       "    .dataframe tbody tr th:only-of-type {\n",
       "        vertical-align: middle;\n",
       "    }\n",
       "\n",
       "    .dataframe tbody tr th {\n",
       "        vertical-align: top;\n",
       "    }\n",
       "\n",
       "    .dataframe thead th {\n",
       "        text-align: right;\n",
       "    }\n",
       "</style>\n",
       "<table border=\"1\" class=\"dataframe\">\n",
       "  <thead>\n",
       "    <tr style=\"text-align: right;\">\n",
       "      <th></th>\n",
       "      <th>Message</th>\n",
       "      <th>Date</th>\n",
       "      <th>Time</th>\n",
       "      <th>Sentiment</th>\n",
       "      <th>lang</th>\n",
       "    </tr>\n",
       "  </thead>\n",
       "  <tbody>\n",
       "    <tr>\n",
       "      <th>0</th>\n",
       "      <td>aapl time take week</td>\n",
       "      <td>2021-07-06</td>\n",
       "      <td>08:03:11Z</td>\n",
       "      <td>1</td>\n",
       "      <td>af</td>\n",
       "    </tr>\n",
       "    <tr>\n",
       "      <th>4</th>\n",
       "      <td>aapl slowly going</td>\n",
       "      <td>2021-07-06</td>\n",
       "      <td>07:57:34Z</td>\n",
       "      <td>1</td>\n",
       "      <td>en</td>\n",
       "    </tr>\n",
       "    <tr>\n",
       "      <th>6</th>\n",
       "      <td>sndl many things billion bank debt free cannab...</td>\n",
       "      <td>2021-07-06</td>\n",
       "      <td>07:49:10Z</td>\n",
       "      <td>1</td>\n",
       "      <td>en</td>\n",
       "    </tr>\n",
       "    <tr>\n",
       "      <th>7</th>\n",
       "      <td>smartoptions unusual activity alert delayed aa...</td>\n",
       "      <td>2021-07-06</td>\n",
       "      <td>07:44:42Z</td>\n",
       "      <td>0</td>\n",
       "      <td>en</td>\n",
       "    </tr>\n",
       "    <tr>\n",
       "      <th>11</th>\n",
       "      <td>aapl time covered calls think reaching cautious</td>\n",
       "      <td>2021-07-06</td>\n",
       "      <td>07:38:41Z</td>\n",
       "      <td>1</td>\n",
       "      <td>en</td>\n",
       "    </tr>\n",
       "  </tbody>\n",
       "</table>\n",
       "</div>"
      ],
      "text/plain": [
       "                                              Message       Date       Time  \\\n",
       "0                                 aapl time take week 2021-07-06  08:03:11Z   \n",
       "4                                   aapl slowly going 2021-07-06  07:57:34Z   \n",
       "6   sndl many things billion bank debt free cannab... 2021-07-06  07:49:10Z   \n",
       "7   smartoptions unusual activity alert delayed aa... 2021-07-06  07:44:42Z   \n",
       "11    aapl time covered calls think reaching cautious 2021-07-06  07:38:41Z   \n",
       "\n",
       "    Sentiment lang  \n",
       "0           1   af  \n",
       "4           1   en  \n",
       "6           1   en  \n",
       "7           0   en  \n",
       "11          1   en  "
      ]
     },
     "execution_count": 325,
     "metadata": {},
     "output_type": "execute_result"
    }
   ],
   "source": [
    "from langdetect import detect, DetectorFactory\n",
    "DetectorFactory.seed = 0\n",
    "#detect(\"War doesn't show who's right, just who's left.\")\n",
    "\n",
    "L=[]\n",
    "for row in data['Message']:\n",
    "    if len(row) >= 3:\n",
    "        L.append(detect(row))\n",
    "    else:\n",
    "        L.append(None)\n",
    "\n",
    "data['lang'] = L\n",
    "data.head()"
   ]
  },
  {
   "cell_type": "code",
   "execution_count": 326,
   "metadata": {
    "scrolled": false
   },
   "outputs": [
    {
     "data": {
      "text/html": [
       "<div>\n",
       "<style scoped>\n",
       "    .dataframe tbody tr th:only-of-type {\n",
       "        vertical-align: middle;\n",
       "    }\n",
       "\n",
       "    .dataframe tbody tr th {\n",
       "        vertical-align: top;\n",
       "    }\n",
       "\n",
       "    .dataframe thead th {\n",
       "        text-align: right;\n",
       "    }\n",
       "</style>\n",
       "<table border=\"1\" class=\"dataframe\">\n",
       "  <thead>\n",
       "    <tr style=\"text-align: right;\">\n",
       "      <th></th>\n",
       "      <th>Message</th>\n",
       "      <th>Date</th>\n",
       "      <th>Time</th>\n",
       "      <th>Sentiment</th>\n",
       "      <th>lang</th>\n",
       "    </tr>\n",
       "  </thead>\n",
       "  <tbody>\n",
       "    <tr>\n",
       "      <th>4</th>\n",
       "      <td>aapl slowly going</td>\n",
       "      <td>2021-07-06</td>\n",
       "      <td>07:57:34Z</td>\n",
       "      <td>1</td>\n",
       "      <td>en</td>\n",
       "    </tr>\n",
       "    <tr>\n",
       "      <th>6</th>\n",
       "      <td>sndl many things billion bank debt free cannab...</td>\n",
       "      <td>2021-07-06</td>\n",
       "      <td>07:49:10Z</td>\n",
       "      <td>1</td>\n",
       "      <td>en</td>\n",
       "    </tr>\n",
       "    <tr>\n",
       "      <th>7</th>\n",
       "      <td>smartoptions unusual activity alert delayed aa...</td>\n",
       "      <td>2021-07-06</td>\n",
       "      <td>07:44:42Z</td>\n",
       "      <td>0</td>\n",
       "      <td>en</td>\n",
       "    </tr>\n",
       "    <tr>\n",
       "      <th>11</th>\n",
       "      <td>aapl time covered calls think reaching cautious</td>\n",
       "      <td>2021-07-06</td>\n",
       "      <td>07:38:41Z</td>\n",
       "      <td>1</td>\n",
       "      <td>en</td>\n",
       "    </tr>\n",
       "    <tr>\n",
       "      <th>12</th>\n",
       "      <td>smartoptions unusual activity alert delayed aa...</td>\n",
       "      <td>2021-07-06</td>\n",
       "      <td>07:38:31Z</td>\n",
       "      <td>0</td>\n",
       "      <td>en</td>\n",
       "    </tr>\n",
       "  </tbody>\n",
       "</table>\n",
       "</div>"
      ],
      "text/plain": [
       "                                              Message       Date       Time  \\\n",
       "4                                   aapl slowly going 2021-07-06  07:57:34Z   \n",
       "6   sndl many things billion bank debt free cannab... 2021-07-06  07:49:10Z   \n",
       "7   smartoptions unusual activity alert delayed aa... 2021-07-06  07:44:42Z   \n",
       "11    aapl time covered calls think reaching cautious 2021-07-06  07:38:41Z   \n",
       "12  smartoptions unusual activity alert delayed aa... 2021-07-06  07:38:31Z   \n",
       "\n",
       "    Sentiment lang  \n",
       "4           1   en  \n",
       "6           1   en  \n",
       "7           0   en  \n",
       "11          1   en  \n",
       "12          0   en  "
      ]
     },
     "execution_count": 326,
     "metadata": {},
     "output_type": "execute_result"
    }
   ],
   "source": [
    "data = data[data[\"lang\"] == 'en']\n",
    "data.head()"
   ]
  },
  {
   "cell_type": "code",
   "execution_count": 328,
   "metadata": {},
   "outputs": [
    {
     "data": {
      "text/html": [
       "<div>\n",
       "<style scoped>\n",
       "    .dataframe tbody tr th:only-of-type {\n",
       "        vertical-align: middle;\n",
       "    }\n",
       "\n",
       "    .dataframe tbody tr th {\n",
       "        vertical-align: top;\n",
       "    }\n",
       "\n",
       "    .dataframe thead th {\n",
       "        text-align: right;\n",
       "    }\n",
       "</style>\n",
       "<table border=\"1\" class=\"dataframe\">\n",
       "  <thead>\n",
       "    <tr style=\"text-align: right;\">\n",
       "      <th></th>\n",
       "      <th>Sentiment</th>\n",
       "    </tr>\n",
       "  </thead>\n",
       "  <tbody>\n",
       "    <tr>\n",
       "      <th>count</th>\n",
       "      <td>110980.000000</td>\n",
       "    </tr>\n",
       "    <tr>\n",
       "      <th>mean</th>\n",
       "      <td>0.719724</td>\n",
       "    </tr>\n",
       "    <tr>\n",
       "      <th>std</th>\n",
       "      <td>0.449136</td>\n",
       "    </tr>\n",
       "    <tr>\n",
       "      <th>min</th>\n",
       "      <td>0.000000</td>\n",
       "    </tr>\n",
       "    <tr>\n",
       "      <th>25%</th>\n",
       "      <td>0.000000</td>\n",
       "    </tr>\n",
       "    <tr>\n",
       "      <th>50%</th>\n",
       "      <td>1.000000</td>\n",
       "    </tr>\n",
       "    <tr>\n",
       "      <th>75%</th>\n",
       "      <td>1.000000</td>\n",
       "    </tr>\n",
       "    <tr>\n",
       "      <th>max</th>\n",
       "      <td>1.000000</td>\n",
       "    </tr>\n",
       "  </tbody>\n",
       "</table>\n",
       "</div>"
      ],
      "text/plain": [
       "           Sentiment\n",
       "count  110980.000000\n",
       "mean        0.719724\n",
       "std         0.449136\n",
       "min         0.000000\n",
       "25%         0.000000\n",
       "50%         1.000000\n",
       "75%         1.000000\n",
       "max         1.000000"
      ]
     },
     "execution_count": 328,
     "metadata": {},
     "output_type": "execute_result"
    }
   ],
   "source": [
    "data.describe()"
   ]
  },
  {
   "cell_type": "code",
   "execution_count": 327,
   "metadata": {
    "execution": {
     "iopub.execute_input": "2021-05-19T15:11:50.816396Z",
     "iopub.status.busy": "2021-05-19T15:11:50.815234Z",
     "iopub.status.idle": "2021-05-19T15:11:51.125986Z",
     "shell.execute_reply": "2021-05-19T15:11:51.125358Z"
    },
    "papermill": {
     "duration": 0.343967,
     "end_time": "2021-05-19T15:11:51.126131",
     "exception": false,
     "start_time": "2021-05-19T15:11:50.782164",
     "status": "completed"
    },
    "tags": []
   },
   "outputs": [
    {
     "data": {
      "text/plain": [
       "79875"
      ]
     },
     "execution_count": 327,
     "metadata": {},
     "output_type": "execute_result"
    }
   ],
   "source": [
    "data['Sentiment'].astype('int64').sum()"
   ]
  },
  {
   "cell_type": "code",
   "execution_count": 3,
   "metadata": {
    "execution": {
     "iopub.execute_input": "2021-05-19T15:11:51.184834Z",
     "iopub.status.busy": "2021-05-19T15:11:51.183773Z",
     "iopub.status.idle": "2021-05-19T15:11:51.505749Z",
     "shell.execute_reply": "2021-05-19T15:11:51.506272Z"
    },
    "papermill": {
     "duration": 0.354438,
     "end_time": "2021-05-19T15:11:51.506448",
     "exception": false,
     "start_time": "2021-05-19T15:11:51.152010",
     "status": "completed"
    },
    "tags": []
   },
   "outputs": [
    {
     "data": {
      "text/html": [
       "<div>\n",
       "<style scoped>\n",
       "    .dataframe tbody tr th:only-of-type {\n",
       "        vertical-align: middle;\n",
       "    }\n",
       "\n",
       "    .dataframe tbody tr th {\n",
       "        vertical-align: top;\n",
       "    }\n",
       "\n",
       "    .dataframe thead th {\n",
       "        text-align: right;\n",
       "    }\n",
       "</style>\n",
       "<table border=\"1\" class=\"dataframe\">\n",
       "  <thead>\n",
       "    <tr style=\"text-align: right;\">\n",
       "      <th></th>\n",
       "      <th>Message</th>\n",
       "      <th>Date</th>\n",
       "      <th>Sentiment</th>\n",
       "      <th>lang</th>\n",
       "    </tr>\n",
       "  </thead>\n",
       "  <tbody>\n",
       "    <tr>\n",
       "      <th>17034</th>\n",
       "      <td>aapl timbercorp timber crap</td>\n",
       "      <td>2021-05-19</td>\n",
       "      <td>0</td>\n",
       "      <td>en</td>\n",
       "    </tr>\n",
       "    <tr>\n",
       "      <th>6640</th>\n",
       "      <td>aapl told bears secure profits yesterday</td>\n",
       "      <td>2021-06-17</td>\n",
       "      <td>1</td>\n",
       "      <td>en</td>\n",
       "    </tr>\n",
       "    <tr>\n",
       "      <th>45932</th>\n",
       "      <td>tsla yields rising fyi aapl tell lot tsla big ...</td>\n",
       "      <td>2021-03-11</td>\n",
       "      <td>0</td>\n",
       "      <td>en</td>\n",
       "    </tr>\n",
       "    <tr>\n",
       "      <th>18720</th>\n",
       "      <td>edtk super undervalued valuation holding till ...</td>\n",
       "      <td>2021-05-13</td>\n",
       "      <td>1</td>\n",
       "      <td>en</td>\n",
       "    </tr>\n",
       "    <tr>\n",
       "      <th>31167</th>\n",
       "      <td>aapl come guys got friday cook calls get anymo...</td>\n",
       "      <td>2021-04-20</td>\n",
       "      <td>1</td>\n",
       "      <td>en</td>\n",
       "    </tr>\n",
       "    <tr>\n",
       "      <th>19185</th>\n",
       "      <td>qqq cant even bounce cents timbercorp aapl</td>\n",
       "      <td>2021-05-12</td>\n",
       "      <td>0</td>\n",
       "      <td>en</td>\n",
       "    </tr>\n",
       "    <tr>\n",
       "      <th>21817</th>\n",
       "      <td>aapl amzn fb strong earnings companies true le...</td>\n",
       "      <td>2021-05-05</td>\n",
       "      <td>1</td>\n",
       "      <td>en</td>\n",
       "    </tr>\n",
       "    <tr>\n",
       "      <th>9140</th>\n",
       "      <td>aapl diabetic market huge pun intended adding ...</td>\n",
       "      <td>2021-06-14</td>\n",
       "      <td>1</td>\n",
       "      <td>en</td>\n",
       "    </tr>\n",
       "    <tr>\n",
       "      <th>14920</th>\n",
       "      <td>aapl fish smell like shower</td>\n",
       "      <td>2021-05-27</td>\n",
       "      <td>1</td>\n",
       "      <td>en</td>\n",
       "    </tr>\n",
       "    <tr>\n",
       "      <th>19230</th>\n",
       "      <td>market losing altitude much higher interest ra...</td>\n",
       "      <td>2021-05-12</td>\n",
       "      <td>0</td>\n",
       "      <td>en</td>\n",
       "    </tr>\n",
       "  </tbody>\n",
       "</table>\n",
       "</div>"
      ],
      "text/plain": [
       "                                                 Message        Date  \\\n",
       "17034                        aapl timbercorp timber crap  2021-05-19   \n",
       "6640            aapl told bears secure profits yesterday  2021-06-17   \n",
       "45932  tsla yields rising fyi aapl tell lot tsla big ...  2021-03-11   \n",
       "18720  edtk super undervalued valuation holding till ...  2021-05-13   \n",
       "31167  aapl come guys got friday cook calls get anymo...  2021-04-20   \n",
       "19185         qqq cant even bounce cents timbercorp aapl  2021-05-12   \n",
       "21817  aapl amzn fb strong earnings companies true le...  2021-05-05   \n",
       "9140   aapl diabetic market huge pun intended adding ...  2021-06-14   \n",
       "14920                        aapl fish smell like shower  2021-05-27   \n",
       "19230  market losing altitude much higher interest ra...  2021-05-12   \n",
       "\n",
       "       Sentiment lang  \n",
       "17034          0   en  \n",
       "6640           1   en  \n",
       "45932          0   en  \n",
       "18720          1   en  \n",
       "31167          1   en  \n",
       "19185          0   en  \n",
       "21817          1   en  \n",
       "9140           1   en  \n",
       "14920          1   en  \n",
       "19230          0   en  "
      ]
     },
     "execution_count": 3,
     "metadata": {},
     "output_type": "execute_result"
    }
   ],
   "source": [
    "data.to_csv('D:/BAIM Academic/Summer Mod 2/ML MGMT 590/my_clean_tweets.csv', sep = ',',index = False)\n",
    "\n",
    "tweets=pd.read_csv('/Users/saksheeagarwal/Downloads/my_clean_tweets.csv', sep=',')\n",
    "tweets.sample(10)"
   ]
  },
  {
   "cell_type": "markdown",
   "metadata": {
    "papermill": {
     "duration": 0.026164,
     "end_time": "2021-05-19T15:11:51.559760",
     "exception": false,
     "start_time": "2021-05-19T15:11:51.533596",
     "status": "completed"
    },
    "tags": []
   },
   "source": [
    "On divise ensuite le data set data en test et train \n",
    "- train size 80%\n",
    "- test size 20%"
   ]
  },
  {
   "cell_type": "code",
   "execution_count": 4,
   "metadata": {
    "execution": {
     "iopub.execute_input": "2021-05-19T15:11:51.622308Z",
     "iopub.status.busy": "2021-05-19T15:11:51.621597Z",
     "iopub.status.idle": "2021-05-19T15:11:51.630962Z",
     "shell.execute_reply": "2021-05-19T15:11:51.630233Z"
    },
    "papermill": {
     "duration": 0.044705,
     "end_time": "2021-05-19T15:11:51.631095",
     "exception": false,
     "start_time": "2021-05-19T15:11:51.586390",
     "status": "completed"
    },
    "scrolled": true,
    "tags": []
   },
   "outputs": [
    {
     "name": "stdout",
     "output_type": "stream",
     "text": [
      "Size of training data: 39762\n",
      "Size of test data: 9940\n"
     ]
    }
   ],
   "source": [
    "from numpy.random import RandomState\n",
    "\n",
    "rng = RandomState()\n",
    "train_data = tweets.sample(frac=0.8, random_state=rng)\n",
    "test_data = tweets.loc[~tweets.index.isin(train_data.index)]\n",
    "print('Size of training data:',len(train_data))\n",
    "print('Size of test data:',len(test_data))"
   ]
  },
  {
   "cell_type": "markdown",
   "metadata": {
    "papermill": {
     "duration": 0.026775,
     "end_time": "2021-05-19T15:11:51.684964",
     "exception": false,
     "start_time": "2021-05-19T15:11:51.658189",
     "status": "completed"
    },
    "tags": []
   },
   "source": [
    "#  Model Training - BiDirectional LSTM"
   ]
  },
  {
   "cell_type": "code",
   "execution_count": 5,
   "metadata": {
    "execution": {
     "iopub.execute_input": "2021-05-19T15:11:51.745989Z",
     "iopub.status.busy": "2021-05-19T15:11:51.745200Z",
     "iopub.status.idle": "2021-05-19T15:11:57.156013Z",
     "shell.execute_reply": "2021-05-19T15:11:57.155331Z"
    },
    "papermill": {
     "duration": 5.443825,
     "end_time": "2021-05-19T15:11:57.156155",
     "exception": false,
     "start_time": "2021-05-19T15:11:51.712330",
     "status": "completed"
    },
    "tags": []
   },
   "outputs": [],
   "source": [
    "import keras\n",
    "import tensorflow as tf\n",
    "from keras.models import Sequential\n",
    "from keras.layers import Dense,LSTM,Dropout,Activation,Embedding,Bidirectional\n",
    "from tensorflow.keras import optimizers"
   ]
  },
  {
   "cell_type": "code",
   "execution_count": 6,
   "metadata": {
    "execution": {
     "iopub.execute_input": "2021-05-19T15:11:57.216439Z",
     "iopub.status.busy": "2021-05-19T15:11:57.215767Z",
     "iopub.status.idle": "2021-05-19T15:11:57.219008Z",
     "shell.execute_reply": "2021-05-19T15:11:57.218400Z"
    },
    "papermill": {
     "duration": 0.03517,
     "end_time": "2021-05-19T15:11:57.219149",
     "exception": false,
     "start_time": "2021-05-19T15:11:57.183979",
     "status": "completed"
    },
    "tags": []
   },
   "outputs": [],
   "source": [
    "max_features = 20000  # Only consider the top 20k words\n",
    "maxlen = 200"
   ]
  },
  {
   "cell_type": "code",
   "execution_count": 7,
   "metadata": {
    "execution": {
     "iopub.execute_input": "2021-05-19T15:11:57.296331Z",
     "iopub.status.busy": "2021-05-19T15:11:57.295611Z",
     "iopub.status.idle": "2021-05-19T15:11:57.301172Z",
     "shell.execute_reply": "2021-05-19T15:11:57.301646Z"
    },
    "papermill": {
     "duration": 0.054871,
     "end_time": "2021-05-19T15:11:57.301827",
     "exception": false,
     "start_time": "2021-05-19T15:11:57.246956",
     "status": "completed"
    },
    "scrolled": true,
    "tags": []
   },
   "outputs": [
    {
     "name": "stderr",
     "output_type": "stream",
     "text": [
      "<ipython-input-7-a9cd6a1b42ff>:2: SettingWithCopyWarning: \n",
      "A value is trying to be set on a copy of a slice from a DataFrame.\n",
      "Try using .loc[row_indexer,col_indexer] = value instead\n",
      "\n",
      "See the caveats in the documentation: https://pandas.pydata.org/pandas-docs/stable/user_guide/indexing.html#returning-a-view-versus-a-copy\n",
      "  test_data['flag'] = 'TEST'\n"
     ]
    },
    {
     "data": {
      "text/html": [
       "<div>\n",
       "<style scoped>\n",
       "    .dataframe tbody tr th:only-of-type {\n",
       "        vertical-align: middle;\n",
       "    }\n",
       "\n",
       "    .dataframe tbody tr th {\n",
       "        vertical-align: top;\n",
       "    }\n",
       "\n",
       "    .dataframe thead th {\n",
       "        text-align: right;\n",
       "    }\n",
       "</style>\n",
       "<table border=\"1\" class=\"dataframe\">\n",
       "  <thead>\n",
       "    <tr style=\"text-align: right;\">\n",
       "      <th></th>\n",
       "      <th>Message</th>\n",
       "      <th>Date</th>\n",
       "      <th>Sentiment</th>\n",
       "      <th>lang</th>\n",
       "      <th>flag</th>\n",
       "    </tr>\n",
       "  </thead>\n",
       "  <tbody>\n",
       "    <tr>\n",
       "      <th>36783</th>\n",
       "      <td>aapl june china time alibaba mid year shopping...</td>\n",
       "      <td>2021-06-16</td>\n",
       "      <td>1</td>\n",
       "      <td>en</td>\n",
       "      <td>TRAIN</td>\n",
       "    </tr>\n",
       "    <tr>\n",
       "      <th>39126</th>\n",
       "      <td>aapl small differnece pump amp dump rally usua...</td>\n",
       "      <td>2021-06-28</td>\n",
       "      <td>0</td>\n",
       "      <td>en</td>\n",
       "      <td>TRAIN</td>\n",
       "    </tr>\n",
       "    <tr>\n",
       "      <th>26565</th>\n",
       "      <td>aapl heard rumor brokerages advised exercise m...</td>\n",
       "      <td>2021-03-08</td>\n",
       "      <td>1</td>\n",
       "      <td>en</td>\n",
       "      <td>TRAIN</td>\n",
       "    </tr>\n",
       "    <tr>\n",
       "      <th>1144</th>\n",
       "      <td>aapl due bounce back</td>\n",
       "      <td>2021-04-20</td>\n",
       "      <td>1</td>\n",
       "      <td>en</td>\n",
       "      <td>TRAIN</td>\n",
       "    </tr>\n",
       "    <tr>\n",
       "      <th>16192</th>\n",
       "      <td>anyone pick aapl week easy money yesterday gre...</td>\n",
       "      <td>2021-03-11</td>\n",
       "      <td>1</td>\n",
       "      <td>en</td>\n",
       "      <td>TRAIN</td>\n",
       "    </tr>\n",
       "    <tr>\n",
       "      <th>7766</th>\n",
       "      <td>qcom aapl guarantee go red today</td>\n",
       "      <td>2021-05-13</td>\n",
       "      <td>0</td>\n",
       "      <td>en</td>\n",
       "      <td>TRAIN</td>\n",
       "    </tr>\n",
       "    <tr>\n",
       "      <th>31967</th>\n",
       "      <td>aapl trillion dollar company prints money tim ...</td>\n",
       "      <td>2021-04-30</td>\n",
       "      <td>1</td>\n",
       "      <td>en</td>\n",
       "      <td>TRAIN</td>\n",
       "    </tr>\n",
       "    <tr>\n",
       "      <th>14322</th>\n",
       "      <td>aapl ready buy signal anything around bit lowe...</td>\n",
       "      <td>2021-04-21</td>\n",
       "      <td>1</td>\n",
       "      <td>en</td>\n",
       "      <td>TRAIN</td>\n",
       "    </tr>\n",
       "    <tr>\n",
       "      <th>26494</th>\n",
       "      <td>aapl best stock times time touching small news...</td>\n",
       "      <td>2021-04-07</td>\n",
       "      <td>1</td>\n",
       "      <td>en</td>\n",
       "      <td>TRAIN</td>\n",
       "    </tr>\n",
       "    <tr>\n",
       "      <th>42371</th>\n",
       "      <td>aapl clown claiming today</td>\n",
       "      <td>2021-06-02</td>\n",
       "      <td>1</td>\n",
       "      <td>en</td>\n",
       "      <td>TEST</td>\n",
       "    </tr>\n",
       "  </tbody>\n",
       "</table>\n",
       "</div>"
      ],
      "text/plain": [
       "                                                 Message        Date  \\\n",
       "36783  aapl june china time alibaba mid year shopping...  2021-06-16   \n",
       "39126  aapl small differnece pump amp dump rally usua...  2021-06-28   \n",
       "26565  aapl heard rumor brokerages advised exercise m...  2021-03-08   \n",
       "1144                                aapl due bounce back  2021-04-20   \n",
       "16192  anyone pick aapl week easy money yesterday gre...  2021-03-11   \n",
       "7766                    qcom aapl guarantee go red today  2021-05-13   \n",
       "31967  aapl trillion dollar company prints money tim ...  2021-04-30   \n",
       "14322  aapl ready buy signal anything around bit lowe...  2021-04-21   \n",
       "26494  aapl best stock times time touching small news...  2021-04-07   \n",
       "42371                          aapl clown claiming today  2021-06-02   \n",
       "\n",
       "       Sentiment lang   flag  \n",
       "36783          1   en  TRAIN  \n",
       "39126          0   en  TRAIN  \n",
       "26565          1   en  TRAIN  \n",
       "1144           1   en  TRAIN  \n",
       "16192          1   en  TRAIN  \n",
       "7766           0   en  TRAIN  \n",
       "31967          1   en  TRAIN  \n",
       "14322          1   en  TRAIN  \n",
       "26494          1   en  TRAIN  \n",
       "42371          1   en   TEST  "
      ]
     },
     "execution_count": 7,
     "metadata": {},
     "output_type": "execute_result"
    }
   ],
   "source": [
    "train_data['flag'] = 'TRAIN'\n",
    "test_data['flag'] = 'TEST'\n",
    "\n",
    "\n",
    "total_docs = pd.concat([train_data,test_data],axis = 0,ignore_index = True)\n",
    "phrases = total_docs['Message'].tolist()\n",
    "\n",
    "total_docs.sample(10)"
   ]
  },
  {
   "cell_type": "code",
   "execution_count": 8,
   "metadata": {
    "execution": {
     "iopub.execute_input": "2021-05-19T15:11:57.366331Z",
     "iopub.status.busy": "2021-05-19T15:11:57.365581Z",
     "iopub.status.idle": "2021-05-19T15:11:57.392903Z",
     "shell.execute_reply": "2021-05-19T15:11:57.392080Z"
    },
    "papermill": {
     "duration": 0.063101,
     "end_time": "2021-05-19T15:11:57.393037",
     "exception": false,
     "start_time": "2021-05-19T15:11:57.329936",
     "status": "completed"
    },
    "tags": []
   },
   "outputs": [],
   "source": [
    "from keras.preprocessing.text import one_hot\n",
    "vocab_size = 20000\n",
    "encoded_phrases = [one_hot(d, vocab_size) for d in phrases]\n",
    "total_docs['Phrase'] = encoded_phrases\n",
    "train_data = total_docs[total_docs['flag'] == 'TRAIN']\n",
    "test_data = total_docs[total_docs['flag'] == 'TEST']\n",
    "x_train = train_data['Phrase']\n",
    "y_train = train_data['Sentiment']\n",
    "x_val = test_data['Phrase']\n",
    "y_val = test_data['Sentiment']"
   ]
  },
  {
   "cell_type": "markdown",
   "metadata": {
    "papermill": {
     "duration": 0.02882,
     "end_time": "2021-05-19T15:11:57.451033",
     "exception": false,
     "start_time": "2021-05-19T15:11:57.422213",
     "status": "completed"
    },
    "tags": []
   },
   "source": [
    "We converted the sentence into numbers"
   ]
  },
  {
   "cell_type": "code",
   "execution_count": 9,
   "metadata": {
    "execution": {
     "iopub.execute_input": "2021-05-19T15:11:57.515009Z",
     "iopub.status.busy": "2021-05-19T15:11:57.514271Z",
     "iopub.status.idle": "2021-05-19T15:11:57.518417Z",
     "shell.execute_reply": "2021-05-19T15:11:57.517776Z"
    },
    "papermill": {
     "duration": 0.038595,
     "end_time": "2021-05-19T15:11:57.518569",
     "exception": false,
     "start_time": "2021-05-19T15:11:57.479974",
     "status": "completed"
    },
    "scrolled": true,
    "tags": []
   },
   "outputs": [
    {
     "name": "stdout",
     "output_type": "stream",
     "text": [
      "[13441, 17350, 9984, 9813, 13232]\n"
     ]
    }
   ],
   "source": [
    "print(total_docs['Phrase'][23])"
   ]
  },
  {
   "cell_type": "code",
   "execution_count": 10,
   "metadata": {
    "execution": {
     "iopub.execute_input": "2021-05-19T15:11:57.583105Z",
     "iopub.status.busy": "2021-05-19T15:11:57.582454Z",
     "iopub.status.idle": "2021-05-19T15:11:57.596930Z",
     "shell.execute_reply": "2021-05-19T15:11:57.596273Z"
    },
    "papermill": {
     "duration": 0.049282,
     "end_time": "2021-05-19T15:11:57.597055",
     "exception": false,
     "start_time": "2021-05-19T15:11:57.547773",
     "status": "completed"
    },
    "tags": []
   },
   "outputs": [],
   "source": [
    "x_train = keras.preprocessing.sequence.pad_sequences(x_train, maxlen=maxlen)\n",
    "x_val = keras.preprocessing.sequence.pad_sequences(x_val, maxlen=maxlen)"
   ]
  },
  {
   "cell_type": "code",
   "execution_count": 11,
   "metadata": {
    "execution": {
     "iopub.execute_input": "2021-05-19T15:11:57.664780Z",
     "iopub.status.busy": "2021-05-19T15:11:57.663549Z",
     "iopub.status.idle": "2021-05-19T15:11:58.580561Z",
     "shell.execute_reply": "2021-05-19T15:11:58.579818Z"
    },
    "papermill": {
     "duration": 0.954031,
     "end_time": "2021-05-19T15:11:58.580680",
     "exception": false,
     "start_time": "2021-05-19T15:11:57.626649",
     "status": "completed"
    },
    "tags": []
   },
   "outputs": [
    {
     "name": "stdout",
     "output_type": "stream",
     "text": [
      "Model: \"sequential\"\n",
      "_________________________________________________________________\n",
      "Layer (type)                 Output Shape              Param #   \n",
      "=================================================================\n",
      "embedding (Embedding)        (None, None, 16)          320000    \n",
      "_________________________________________________________________\n",
      "bidirectional (Bidirectional (None, 256)               148480    \n",
      "_________________________________________________________________\n",
      "dense (Dense)                (None, 1)                 257       \n",
      "=================================================================\n",
      "Total params: 468,737\n",
      "Trainable params: 468,737\n",
      "Non-trainable params: 0\n",
      "_________________________________________________________________\n"
     ]
    }
   ],
   "source": [
    "model = keras.Sequential()\n",
    "# Embedding layer turns vectors of integers into dense real vectors of fixed size\n",
    "model.add(Embedding(max_features, 16))\n",
    "model.add(Bidirectional(LSTM(128, return_sequences=False, dropout=0.2, recurrent_dropout=0.2)))\n",
    "model.add(Dense(1, activation='sigmoid'))\n",
    "\n",
    "model.compile(loss='binary_crossentropy',\n",
    "              optimizer='rmsprop',\n",
    "              metrics=['accuracy'])\n",
    "model.summary()"
   ]
  },
  {
   "cell_type": "code",
   "execution_count": 12,
   "metadata": {
    "execution": {
     "iopub.execute_input": "2021-05-19T15:11:58.657434Z",
     "iopub.status.busy": "2021-05-19T15:11:58.656197Z",
     "iopub.status.idle": "2021-05-19T15:12:32.053977Z",
     "shell.execute_reply": "2021-05-19T15:12:32.053379Z"
    },
    "papermill": {
     "duration": 33.443215,
     "end_time": "2021-05-19T15:12:32.054116",
     "exception": false,
     "start_time": "2021-05-19T15:11:58.610901",
     "status": "completed"
    },
    "tags": []
   },
   "outputs": [
    {
     "name": "stdout",
     "output_type": "stream",
     "text": [
      "Epoch 1/32\n",
      "311/311 [==============================] - 234s 671ms/step - loss: 0.5558 - accuracy: 0.7534 - val_loss: 0.4122 - val_accuracy: 0.8184\n",
      "Epoch 2/32\n",
      "311/311 [==============================] - 220s 707ms/step - loss: 0.3927 - accuracy: 0.8312 - val_loss: 0.3792 - val_accuracy: 0.8407\n",
      "Epoch 3/32\n",
      "311/311 [==============================] - 223s 715ms/step - loss: 0.3556 - accuracy: 0.8498 - val_loss: 0.3728 - val_accuracy: 0.8431\n",
      "Epoch 4/32\n",
      "311/311 [==============================] - 232s 746ms/step - loss: 0.3436 - accuracy: 0.8550 - val_loss: 0.3721 - val_accuracy: 0.8416\n",
      "Epoch 5/32\n",
      "311/311 [==============================] - 257s 825ms/step - loss: 0.3326 - accuracy: 0.8604 - val_loss: 0.3689 - val_accuracy: 0.8410\n",
      "Epoch 6/32\n",
      "311/311 [==============================] - 251s 808ms/step - loss: 0.3238 - accuracy: 0.8638 - val_loss: 0.3679 - val_accuracy: 0.8416\n",
      "Epoch 7/32\n",
      "311/311 [==============================] - 281s 901ms/step - loss: 0.3185 - accuracy: 0.8678 - val_loss: 0.3730 - val_accuracy: 0.8412\n",
      "Epoch 8/32\n",
      "311/311 [==============================] - 438s 1s/step - loss: 0.3048 - accuracy: 0.8713 - val_loss: 0.3692 - val_accuracy: 0.8466\n"
     ]
    },
    {
     "data": {
      "text/plain": [
       "<keras.callbacks.History at 0x11be04820>"
      ]
     },
     "execution_count": 12,
     "metadata": {},
     "output_type": "execute_result"
    }
   ],
   "source": [
    "EPOCHS = 32\n",
    "BATCH = 128\n",
    "\n",
    "early_stop = keras.callbacks.EarlyStopping(monitor='val_loss', patience=2)\n",
    "\n",
    "model.fit(x_train, y_train,\n",
    "          batch_size=BATCH,\n",
    "          epochs=EPOCHS,\n",
    "          validation_data=(x_val, y_val),\n",
    "          verbose = 1,\n",
    "          callbacks = [early_stop])"
   ]
  },
  {
   "cell_type": "code",
   "execution_count": 13,
   "metadata": {
    "scrolled": false
   },
   "outputs": [
    {
     "name": "stdout",
     "output_type": "stream",
     "text": [
      "[[    0     0     0 ...  7653  2421 11528]\n",
      " [    0     0     0 ... 19876 17549 16615]\n",
      " [    0     0     0 ...  1441  3546 12920]\n",
      " ...\n",
      " [    0     0     0 ... 18168 13507  8631]\n",
      " [    0     0     0 ...  2650 11709   353]\n",
      " [    0     0     0 ...  9025  1911 17915]]\n"
     ]
    },
    {
     "data": {
      "text/plain": [
       "(39762, 200)"
      ]
     },
     "execution_count": 13,
     "metadata": {},
     "output_type": "execute_result"
    }
   ],
   "source": [
    "print(x_train)\n",
    "x_train.shape"
   ]
  },
  {
   "cell_type": "code",
   "execution_count": 14,
   "metadata": {
    "scrolled": true
   },
   "outputs": [
    {
     "name": "stdout",
     "output_type": "stream",
     "text": [
      "0        0\n",
      "1        1\n",
      "2        1\n",
      "3        1\n",
      "4        1\n",
      "        ..\n",
      "39757    1\n",
      "39758    1\n",
      "39759    1\n",
      "39760    0\n",
      "39761    0\n",
      "Name: Sentiment, Length: 39762, dtype: int64\n"
     ]
    },
    {
     "data": {
      "text/plain": [
       "(39762,)"
      ]
     },
     "execution_count": 14,
     "metadata": {},
     "output_type": "execute_result"
    }
   ],
   "source": [
    "print(y_train)\n",
    "y_train.shape"
   ]
  },
  {
   "cell_type": "code",
   "execution_count": 15,
   "metadata": {
    "execution": {
     "iopub.execute_input": "2021-05-19T15:12:32.227580Z",
     "iopub.status.busy": "2021-05-19T15:12:32.226829Z",
     "iopub.status.idle": "2021-05-19T15:12:33.272716Z",
     "shell.execute_reply": "2021-05-19T15:12:33.272021Z"
    },
    "papermill": {
     "duration": 1.136194,
     "end_time": "2021-05-19T15:12:33.272852",
     "exception": false,
     "start_time": "2021-05-19T15:12:32.136658",
     "status": "completed"
    },
    "tags": []
   },
   "outputs": [
    {
     "name": "stdout",
     "output_type": "stream",
     "text": [
      "311/311 [==============================] - 25s 81ms/step - loss: 0.3692 - accuracy: 0.8466\n",
      "Test Loss: 0.369210422039032\n",
      "Test Accuracy: 0.8465794920921326\n"
     ]
    }
   ],
   "source": [
    "from keras.preprocessing.text import one_hot\n",
    "\n",
    "test_loss, test_acc = model.evaluate(x=x_val, y=y_val)\n",
    "\n",
    "print('Test Loss: {}'.format(test_loss))\n",
    "print('Test Accuracy: {}'.format(test_acc))\n",
    "\n"
   ]
  },
  {
   "cell_type": "markdown",
   "metadata": {},
   "source": [
    "# Prediction "
   ]
  },
  {
   "cell_type": "code",
   "execution_count": 16,
   "metadata": {},
   "outputs": [
    {
     "data": {
      "text/html": [
       "<div>\n",
       "<style scoped>\n",
       "    .dataframe tbody tr th:only-of-type {\n",
       "        vertical-align: middle;\n",
       "    }\n",
       "\n",
       "    .dataframe tbody tr th {\n",
       "        vertical-align: top;\n",
       "    }\n",
       "\n",
       "    .dataframe thead th {\n",
       "        text-align: right;\n",
       "    }\n",
       "</style>\n",
       "<table border=\"1\" class=\"dataframe\">\n",
       "  <thead>\n",
       "    <tr style=\"text-align: right;\">\n",
       "      <th></th>\n",
       "      <th>Message</th>\n",
       "      <th>Date</th>\n",
       "      <th>Time</th>\n",
       "      <th>Sentiment</th>\n",
       "    </tr>\n",
       "  </thead>\n",
       "  <tbody>\n",
       "    <tr>\n",
       "      <th>3</th>\n",
       "      <td>$SPY $TSLA \\n\\nhttps://mobile.twitter.com/Clar...</td>\n",
       "      <td>2021-07-07</td>\n",
       "      <td>01:02:26Z</td>\n",
       "      <td>Bearish</td>\n",
       "    </tr>\n",
       "    <tr>\n",
       "      <th>4</th>\n",
       "      <td>$AMC For change you have to work together.\\n-T...</td>\n",
       "      <td>2021-07-07</td>\n",
       "      <td>00:59:51Z</td>\n",
       "      <td>Bullish</td>\n",
       "    </tr>\n",
       "    <tr>\n",
       "      <th>6</th>\n",
       "      <td>SmartOptions® Unusual Activity Alert\\n(Delayed...</td>\n",
       "      <td>2021-07-07</td>\n",
       "      <td>00:56:52Z</td>\n",
       "      <td>Bullish</td>\n",
       "    </tr>\n",
       "    <tr>\n",
       "      <th>7</th>\n",
       "      <td>$RIDE Your rear view mirror after buying a Lor...</td>\n",
       "      <td>2021-07-07</td>\n",
       "      <td>00:55:16Z</td>\n",
       "      <td>Bullish</td>\n",
       "    </tr>\n",
       "    <tr>\n",
       "      <th>10</th>\n",
       "      <td>$TSLA Look, I&amp;#39;m not Albert Einstein, but I...</td>\n",
       "      <td>2021-07-07</td>\n",
       "      <td>00:54:24Z</td>\n",
       "      <td>Bearish</td>\n",
       "    </tr>\n",
       "  </tbody>\n",
       "</table>\n",
       "</div>"
      ],
      "text/plain": [
       "                                              Message        Date       Time  \\\n",
       "3   $SPY $TSLA \\n\\nhttps://mobile.twitter.com/Clar...  2021-07-07  01:02:26Z   \n",
       "4   $AMC For change you have to work together.\\n-T...  2021-07-07  00:59:51Z   \n",
       "6   SmartOptions® Unusual Activity Alert\\n(Delayed...  2021-07-07  00:56:52Z   \n",
       "7   $RIDE Your rear view mirror after buying a Lor...  2021-07-07  00:55:16Z   \n",
       "10  $TSLA Look, I&#39;m not Albert Einstein, but I...  2021-07-07  00:54:24Z   \n",
       "\n",
       "   Sentiment  \n",
       "3    Bearish  \n",
       "4    Bullish  \n",
       "6    Bullish  \n",
       "7    Bullish  \n",
       "10   Bearish  "
      ]
     },
     "execution_count": 16,
     "metadata": {},
     "output_type": "execute_result"
    }
   ],
   "source": [
    "file = '/Users/saksheeagarwal/Downloads/TSLA_to_pred_data.csv'\n",
    "df = pd.read_csv(file, sep=',')\n",
    "data_predict = df.drop(['User_id','Unnamed: 0'],axis = 1)\n",
    "data_predict.reset_index(drop=True, inplace=True)\n",
    "data_predict.dropna(inplace=True)\n",
    "data_predict.head()"
   ]
  },
  {
   "cell_type": "code",
   "execution_count": 19,
   "metadata": {},
   "outputs": [
    {
     "data": {
      "text/html": [
       "<div>\n",
       "<style scoped>\n",
       "    .dataframe tbody tr th:only-of-type {\n",
       "        vertical-align: middle;\n",
       "    }\n",
       "\n",
       "    .dataframe tbody tr th {\n",
       "        vertical-align: top;\n",
       "    }\n",
       "\n",
       "    .dataframe thead th {\n",
       "        text-align: right;\n",
       "    }\n",
       "</style>\n",
       "<table border=\"1\" class=\"dataframe\">\n",
       "  <thead>\n",
       "    <tr style=\"text-align: right;\">\n",
       "      <th></th>\n",
       "      <th>Message</th>\n",
       "      <th>Date</th>\n",
       "      <th>Time</th>\n",
       "      <th>Sentiment</th>\n",
       "    </tr>\n",
       "  </thead>\n",
       "  <tbody>\n",
       "    <tr>\n",
       "      <th>75455</th>\n",
       "      <td>tsla sell tesla spy car china many cars car ac...</td>\n",
       "      <td>2021-06-02</td>\n",
       "      <td>16:37:03Z</td>\n",
       "      <td>Bearish</td>\n",
       "    </tr>\n",
       "    <tr>\n",
       "      <th>78701</th>\n",
       "      <td>bubble shit pop like question question tsla gm...</td>\n",
       "      <td>2021-06-01</td>\n",
       "      <td>02:22:57Z</td>\n",
       "      <td>Bearish</td>\n",
       "    </tr>\n",
       "    <tr>\n",
       "      <th>30026</th>\n",
       "      <td>tsla could today</td>\n",
       "      <td>2021-06-23</td>\n",
       "      <td>15:03:15Z</td>\n",
       "      <td>Bullish</td>\n",
       "    </tr>\n",
       "  </tbody>\n",
       "</table>\n",
       "</div>"
      ],
      "text/plain": [
       "                                                 Message        Date  \\\n",
       "75455  tsla sell tesla spy car china many cars car ac...  2021-06-02   \n",
       "78701  bubble shit pop like question question tsla gm...  2021-06-01   \n",
       "30026                                   tsla could today  2021-06-23   \n",
       "\n",
       "            Time Sentiment  \n",
       "75455  16:37:03Z   Bearish  \n",
       "78701  02:22:57Z   Bearish  \n",
       "30026  15:03:15Z   Bullish  "
      ]
     },
     "execution_count": 19,
     "metadata": {},
     "output_type": "execute_result"
    }
   ],
   "source": [
    "import nltk\n",
    "import re\n",
    "from nltk.corpus import stopwords\n",
    "\n",
    "def text_cleaning(text):\n",
    "    forbidden_words = set(stopwords.words('english'))\n",
    "    text = ' '.join(text.split('.'))\n",
    "    text = re.sub('\\/',' ',text)\n",
    "    text = text.strip('\\'\"')\n",
    "    text = re.sub(r'@([^\\s]+)',r'\\1',text)\n",
    "    text = re.sub(r'\\\\',' ',text)\n",
    "    text = text.lower()\n",
    "    text = re.sub('[\\s]+', ' ', text)\n",
    "    text = re.sub(r'#([^\\s]+)', r'\\1', text)\n",
    "    text = re.sub('((www\\.[^\\s]+)|(https?://[^\\s]+))',' ',text)\n",
    "    text = re.sub(r'((http)\\S+)','',text)\n",
    "    text = re.sub(r'\\s+', ' ', re.sub('[^A-Za-z]', ' ', text.strip().lower())).strip()\n",
    "    text = re.sub(r'\\W+', ' ', text.strip().lower()).strip()\n",
    "    text = [word for word in text.split() if word not in forbidden_words]\n",
    "    return ' '.join(text)\n",
    "\n",
    "data_predict['Message'] = data_predict['Message'].apply(lambda text: text_cleaning(text))\n",
    "data_predict.dropna(inplace=True)\n",
    "data_predict.sample(3)"
   ]
  },
  {
   "cell_type": "code",
   "execution_count": 20,
   "metadata": {},
   "outputs": [
    {
     "data": {
      "text/html": [
       "<div>\n",
       "<style scoped>\n",
       "    .dataframe tbody tr th:only-of-type {\n",
       "        vertical-align: middle;\n",
       "    }\n",
       "\n",
       "    .dataframe tbody tr th {\n",
       "        vertical-align: top;\n",
       "    }\n",
       "\n",
       "    .dataframe thead th {\n",
       "        text-align: right;\n",
       "    }\n",
       "</style>\n",
       "<table border=\"1\" class=\"dataframe\">\n",
       "  <thead>\n",
       "    <tr style=\"text-align: right;\">\n",
       "      <th></th>\n",
       "      <th>Message</th>\n",
       "      <th>Date</th>\n",
       "      <th>Time</th>\n",
       "      <th>Sentiment</th>\n",
       "      <th>lang</th>\n",
       "    </tr>\n",
       "  </thead>\n",
       "  <tbody>\n",
       "    <tr>\n",
       "      <th>3</th>\n",
       "      <td>spy tsla mobile twitter com clarkemicah status...</td>\n",
       "      <td>2021-07-07</td>\n",
       "      <td>01:02:26Z</td>\n",
       "      <td>Bearish</td>\n",
       "      <td>en</td>\n",
       "    </tr>\n",
       "    <tr>\n",
       "      <th>4</th>\n",
       "      <td>amc change work together greed puts mm sneaky ...</td>\n",
       "      <td>2021-07-07</td>\n",
       "      <td>00:59:51Z</td>\n",
       "      <td>Bullish</td>\n",
       "      <td>en</td>\n",
       "    </tr>\n",
       "    <tr>\n",
       "      <th>6</th>\n",
       "      <td>smartoptions unusual activity alert delayed ts...</td>\n",
       "      <td>2021-07-07</td>\n",
       "      <td>00:56:52Z</td>\n",
       "      <td>Bullish</td>\n",
       "      <td>en</td>\n",
       "    </tr>\n",
       "    <tr>\n",
       "      <th>7</th>\n",
       "      <td>ride rear view mirror buying lordstown enduran...</td>\n",
       "      <td>2021-07-07</td>\n",
       "      <td>00:55:16Z</td>\n",
       "      <td>Bullish</td>\n",
       "      <td>en</td>\n",
       "    </tr>\n",
       "    <tr>\n",
       "      <th>10</th>\n",
       "      <td>tsla look albert einstein good follow anyone w...</td>\n",
       "      <td>2021-07-07</td>\n",
       "      <td>00:54:24Z</td>\n",
       "      <td>Bearish</td>\n",
       "      <td>en</td>\n",
       "    </tr>\n",
       "  </tbody>\n",
       "</table>\n",
       "</div>"
      ],
      "text/plain": [
       "                                              Message        Date       Time  \\\n",
       "3   spy tsla mobile twitter com clarkemicah status...  2021-07-07  01:02:26Z   \n",
       "4   amc change work together greed puts mm sneaky ...  2021-07-07  00:59:51Z   \n",
       "6   smartoptions unusual activity alert delayed ts...  2021-07-07  00:56:52Z   \n",
       "7   ride rear view mirror buying lordstown enduran...  2021-07-07  00:55:16Z   \n",
       "10  tsla look albert einstein good follow anyone w...  2021-07-07  00:54:24Z   \n",
       "\n",
       "   Sentiment lang  \n",
       "3    Bearish   en  \n",
       "4    Bullish   en  \n",
       "6    Bullish   en  \n",
       "7    Bullish   en  \n",
       "10   Bearish   en  "
      ]
     },
     "execution_count": 20,
     "metadata": {},
     "output_type": "execute_result"
    }
   ],
   "source": [
    "from langdetect import detect, DetectorFactory\n",
    "DetectorFactory.seed = 0\n",
    "\n",
    "L=[]\n",
    "for row in data_predict['Message']:\n",
    "    if len(row) >= 3:\n",
    "        L.append(detect(row))\n",
    "    else:\n",
    "        L.append(None)\n",
    "\n",
    "data_predict['lang'] = L\n",
    "data_predict.head()"
   ]
  },
  {
   "cell_type": "code",
   "execution_count": 34,
   "metadata": {},
   "outputs": [
    {
     "data": {
      "text/html": [
       "<div>\n",
       "<style scoped>\n",
       "    .dataframe tbody tr th:only-of-type {\n",
       "        vertical-align: middle;\n",
       "    }\n",
       "\n",
       "    .dataframe tbody tr th {\n",
       "        vertical-align: top;\n",
       "    }\n",
       "\n",
       "    .dataframe thead th {\n",
       "        text-align: right;\n",
       "    }\n",
       "</style>\n",
       "<table border=\"1\" class=\"dataframe\">\n",
       "  <thead>\n",
       "    <tr style=\"text-align: right;\">\n",
       "      <th></th>\n",
       "      <th>Message</th>\n",
       "      <th>Date</th>\n",
       "      <th>Time</th>\n",
       "      <th>Sentiment</th>\n",
       "      <th>lang</th>\n",
       "      <th>Phrase</th>\n",
       "      <th>probability</th>\n",
       "    </tr>\n",
       "  </thead>\n",
       "  <tbody>\n",
       "    <tr>\n",
       "      <th>3</th>\n",
       "      <td>spy tsla mobile twitter com clarkemicah status...</td>\n",
       "      <td>2021-07-07</td>\n",
       "      <td>01:02:26Z</td>\n",
       "      <td>Bearish</td>\n",
       "      <td>en</td>\n",
       "      <td>[13507, 10143, 668, 18136, 8620, 17963, 10677,...</td>\n",
       "      <td>0.047542</td>\n",
       "    </tr>\n",
       "    <tr>\n",
       "      <th>4</th>\n",
       "      <td>amc change work together greed puts mm sneaky ...</td>\n",
       "      <td>2021-07-07</td>\n",
       "      <td>00:59:51Z</td>\n",
       "      <td>Bullish</td>\n",
       "      <td>en</td>\n",
       "      <td>[13917, 10648, 10337, 1704, 1936, 15718, 14380...</td>\n",
       "      <td>0.933919</td>\n",
       "    </tr>\n",
       "    <tr>\n",
       "      <th>6</th>\n",
       "      <td>smartoptions unusual activity alert delayed ts...</td>\n",
       "      <td>2021-07-07</td>\n",
       "      <td>00:56:52Z</td>\n",
       "      <td>Bullish</td>\n",
       "      <td>en</td>\n",
       "      <td>[13818, 17154, 16429, 4662, 10298, 10143, 8227...</td>\n",
       "      <td>0.991538</td>\n",
       "    </tr>\n",
       "    <tr>\n",
       "      <th>7</th>\n",
       "      <td>ride rear view mirror buying lordstown enduran...</td>\n",
       "      <td>2021-07-07</td>\n",
       "      <td>00:55:16Z</td>\n",
       "      <td>Bullish</td>\n",
       "      <td>en</td>\n",
       "      <td>[17915, 16861, 2, 10289, 5149, 6857, 10150, 56...</td>\n",
       "      <td>0.967735</td>\n",
       "    </tr>\n",
       "    <tr>\n",
       "      <th>10</th>\n",
       "      <td>tsla look albert einstein good follow anyone w...</td>\n",
       "      <td>2021-07-07</td>\n",
       "      <td>00:54:24Z</td>\n",
       "      <td>Bearish</td>\n",
       "      <td>en</td>\n",
       "      <td>[10143, 1486, 11244, 50, 14706, 17051, 13068, ...</td>\n",
       "      <td>0.824101</td>\n",
       "    </tr>\n",
       "  </tbody>\n",
       "</table>\n",
       "</div>"
      ],
      "text/plain": [
       "                                              Message        Date       Time  \\\n",
       "3   spy tsla mobile twitter com clarkemicah status...  2021-07-07  01:02:26Z   \n",
       "4   amc change work together greed puts mm sneaky ...  2021-07-07  00:59:51Z   \n",
       "6   smartoptions unusual activity alert delayed ts...  2021-07-07  00:56:52Z   \n",
       "7   ride rear view mirror buying lordstown enduran...  2021-07-07  00:55:16Z   \n",
       "10  tsla look albert einstein good follow anyone w...  2021-07-07  00:54:24Z   \n",
       "\n",
       "   Sentiment lang                                             Phrase  \\\n",
       "3    Bearish   en  [13507, 10143, 668, 18136, 8620, 17963, 10677,...   \n",
       "4    Bullish   en  [13917, 10648, 10337, 1704, 1936, 15718, 14380...   \n",
       "6    Bullish   en  [13818, 17154, 16429, 4662, 10298, 10143, 8227...   \n",
       "7    Bullish   en  [17915, 16861, 2, 10289, 5149, 6857, 10150, 56...   \n",
       "10   Bearish   en  [10143, 1486, 11244, 50, 14706, 17051, 13068, ...   \n",
       "\n",
       "    probability  \n",
       "3      0.047542  \n",
       "4      0.933919  \n",
       "6      0.991538  \n",
       "7      0.967735  \n",
       "10     0.824101  "
      ]
     },
     "execution_count": 34,
     "metadata": {},
     "output_type": "execute_result"
    }
   ],
   "source": [
    "data_predict = data_predict[data_predict[\"lang\"] == 'en']\n",
    "data_predict.to_csv('/Users/saksheeagarwal/Downloads/topredict.csv', sep = ',',index = False)\n",
    "data_predict.head()"
   ]
  },
  {
   "cell_type": "code",
   "execution_count": 22,
   "metadata": {},
   "outputs": [],
   "source": [
    "phrases_pred = data_predict['Message'].tolist()\n",
    "vocab_size = 20000\n",
    "encoded_phrases_pred = [one_hot(d, vocab_size) for d in phrases_pred]\n",
    "data_predict['Phrase'] = encoded_phrases_pred\n",
    "#train_data = total_docs[total_docs['flag'] == 'TRAIN']\n",
    "#test_data = total_docs[total_docs['flag'] == 'TEST']\n",
    "x_pred = data_predict['Phrase']"
   ]
  },
  {
   "cell_type": "code",
   "execution_count": 23,
   "metadata": {},
   "outputs": [],
   "source": [
    "x_pred = keras.preprocessing.sequence.pad_sequences(x_pred, maxlen=maxlen)"
   ]
  },
  {
   "cell_type": "code",
   "execution_count": 24,
   "metadata": {
    "scrolled": false
   },
   "outputs": [
    {
     "data": {
      "text/html": [
       "<div>\n",
       "<style scoped>\n",
       "    .dataframe tbody tr th:only-of-type {\n",
       "        vertical-align: middle;\n",
       "    }\n",
       "\n",
       "    .dataframe tbody tr th {\n",
       "        vertical-align: top;\n",
       "    }\n",
       "\n",
       "    .dataframe thead th {\n",
       "        text-align: right;\n",
       "    }\n",
       "</style>\n",
       "<table border=\"1\" class=\"dataframe\">\n",
       "  <thead>\n",
       "    <tr style=\"text-align: right;\">\n",
       "      <th></th>\n",
       "      <th>Message</th>\n",
       "      <th>Date</th>\n",
       "      <th>Time</th>\n",
       "      <th>Sentiment</th>\n",
       "      <th>lang</th>\n",
       "      <th>Phrase</th>\n",
       "      <th>probability</th>\n",
       "    </tr>\n",
       "  </thead>\n",
       "  <tbody>\n",
       "    <tr>\n",
       "      <th>3</th>\n",
       "      <td>spy tsla mobile twitter com clarkemicah status...</td>\n",
       "      <td>2021-07-07</td>\n",
       "      <td>01:02:26Z</td>\n",
       "      <td>Bearish</td>\n",
       "      <td>en</td>\n",
       "      <td>[13507, 10143, 668, 18136, 8620, 17963, 10677,...</td>\n",
       "      <td>0.047542</td>\n",
       "    </tr>\n",
       "    <tr>\n",
       "      <th>4</th>\n",
       "      <td>amc change work together greed puts mm sneaky ...</td>\n",
       "      <td>2021-07-07</td>\n",
       "      <td>00:59:51Z</td>\n",
       "      <td>Bullish</td>\n",
       "      <td>en</td>\n",
       "      <td>[13917, 10648, 10337, 1704, 1936, 15718, 14380...</td>\n",
       "      <td>0.933919</td>\n",
       "    </tr>\n",
       "    <tr>\n",
       "      <th>6</th>\n",
       "      <td>smartoptions unusual activity alert delayed ts...</td>\n",
       "      <td>2021-07-07</td>\n",
       "      <td>00:56:52Z</td>\n",
       "      <td>Bullish</td>\n",
       "      <td>en</td>\n",
       "      <td>[13818, 17154, 16429, 4662, 10298, 10143, 8227...</td>\n",
       "      <td>0.991538</td>\n",
       "    </tr>\n",
       "    <tr>\n",
       "      <th>7</th>\n",
       "      <td>ride rear view mirror buying lordstown enduran...</td>\n",
       "      <td>2021-07-07</td>\n",
       "      <td>00:55:16Z</td>\n",
       "      <td>Bullish</td>\n",
       "      <td>en</td>\n",
       "      <td>[17915, 16861, 2, 10289, 5149, 6857, 10150, 56...</td>\n",
       "      <td>0.967735</td>\n",
       "    </tr>\n",
       "    <tr>\n",
       "      <th>10</th>\n",
       "      <td>tsla look albert einstein good follow anyone w...</td>\n",
       "      <td>2021-07-07</td>\n",
       "      <td>00:54:24Z</td>\n",
       "      <td>Bearish</td>\n",
       "      <td>en</td>\n",
       "      <td>[10143, 1486, 11244, 50, 14706, 17051, 13068, ...</td>\n",
       "      <td>0.824101</td>\n",
       "    </tr>\n",
       "  </tbody>\n",
       "</table>\n",
       "</div>"
      ],
      "text/plain": [
       "                                              Message        Date       Time  \\\n",
       "3   spy tsla mobile twitter com clarkemicah status...  2021-07-07  01:02:26Z   \n",
       "4   amc change work together greed puts mm sneaky ...  2021-07-07  00:59:51Z   \n",
       "6   smartoptions unusual activity alert delayed ts...  2021-07-07  00:56:52Z   \n",
       "7   ride rear view mirror buying lordstown enduran...  2021-07-07  00:55:16Z   \n",
       "10  tsla look albert einstein good follow anyone w...  2021-07-07  00:54:24Z   \n",
       "\n",
       "   Sentiment lang                                             Phrase  \\\n",
       "3    Bearish   en  [13507, 10143, 668, 18136, 8620, 17963, 10677,...   \n",
       "4    Bullish   en  [13917, 10648, 10337, 1704, 1936, 15718, 14380...   \n",
       "6    Bullish   en  [13818, 17154, 16429, 4662, 10298, 10143, 8227...   \n",
       "7    Bullish   en  [17915, 16861, 2, 10289, 5149, 6857, 10150, 56...   \n",
       "10   Bearish   en  [10143, 1486, 11244, 50, 14706, 17051, 13068, ...   \n",
       "\n",
       "    probability  \n",
       "3      0.047542  \n",
       "4      0.933919  \n",
       "6      0.991538  \n",
       "7      0.967735  \n",
       "10     0.824101  "
      ]
     },
     "execution_count": 24,
     "metadata": {},
     "output_type": "execute_result"
    }
   ],
   "source": [
    "data_predict['probability'] = model.predict(x_pred)\n",
    "data_predict.head()"
   ]
  },
  {
   "cell_type": "code",
   "execution_count": 25,
   "metadata": {},
   "outputs": [],
   "source": [
    "data_predict.to_csv('/Users/saksheeagarwal/Downloads/predicted_prob.csv', sep = ',',index = False)"
   ]
  },
  {
   "cell_type": "code",
   "execution_count": 26,
   "metadata": {
    "scrolled": true
   },
   "outputs": [
    {
     "data": {
      "text/html": [
       "<div>\n",
       "<style scoped>\n",
       "    .dataframe tbody tr th:only-of-type {\n",
       "        vertical-align: middle;\n",
       "    }\n",
       "\n",
       "    .dataframe tbody tr th {\n",
       "        vertical-align: top;\n",
       "    }\n",
       "\n",
       "    .dataframe thead th {\n",
       "        text-align: right;\n",
       "    }\n",
       "</style>\n",
       "<table border=\"1\" class=\"dataframe\">\n",
       "  <thead>\n",
       "    <tr style=\"text-align: right;\">\n",
       "      <th></th>\n",
       "      <th>Date</th>\n",
       "      <th>probability</th>\n",
       "    </tr>\n",
       "  </thead>\n",
       "  <tbody>\n",
       "    <tr>\n",
       "      <th>3</th>\n",
       "      <td>2021-07-07</td>\n",
       "      <td>0.047542</td>\n",
       "    </tr>\n",
       "    <tr>\n",
       "      <th>4</th>\n",
       "      <td>2021-07-07</td>\n",
       "      <td>0.933919</td>\n",
       "    </tr>\n",
       "    <tr>\n",
       "      <th>6</th>\n",
       "      <td>2021-07-07</td>\n",
       "      <td>0.991538</td>\n",
       "    </tr>\n",
       "    <tr>\n",
       "      <th>7</th>\n",
       "      <td>2021-07-07</td>\n",
       "      <td>0.967735</td>\n",
       "    </tr>\n",
       "    <tr>\n",
       "      <th>10</th>\n",
       "      <td>2021-07-07</td>\n",
       "      <td>0.824101</td>\n",
       "    </tr>\n",
       "  </tbody>\n",
       "</table>\n",
       "</div>"
      ],
      "text/plain": [
       "          Date  probability\n",
       "3   2021-07-07     0.047542\n",
       "4   2021-07-07     0.933919\n",
       "6   2021-07-07     0.991538\n",
       "7   2021-07-07     0.967735\n",
       "10  2021-07-07     0.824101"
      ]
     },
     "execution_count": 26,
     "metadata": {},
     "output_type": "execute_result"
    }
   ],
   "source": [
    "#data_predict['probability'].min()\n",
    "data_predict_clean = data_predict.drop(['Message','Sentiment','lang','Phrase','Time'],axis = 1)\n",
    "data_predict_clean.head()"
   ]
  },
  {
   "cell_type": "code",
   "execution_count": 27,
   "metadata": {
    "scrolled": true
   },
   "outputs": [
    {
     "data": {
      "text/html": [
       "<div>\n",
       "<style scoped>\n",
       "    .dataframe tbody tr th:only-of-type {\n",
       "        vertical-align: middle;\n",
       "    }\n",
       "\n",
       "    .dataframe tbody tr th {\n",
       "        vertical-align: top;\n",
       "    }\n",
       "\n",
       "    .dataframe thead th {\n",
       "        text-align: right;\n",
       "    }\n",
       "</style>\n",
       "<table border=\"1\" class=\"dataframe\">\n",
       "  <thead>\n",
       "    <tr style=\"text-align: right;\">\n",
       "      <th></th>\n",
       "      <th>Date</th>\n",
       "      <th>probability</th>\n",
       "    </tr>\n",
       "  </thead>\n",
       "  <tbody>\n",
       "    <tr>\n",
       "      <th>0</th>\n",
       "      <td>2021-06-01</td>\n",
       "      <td>0.830613</td>\n",
       "    </tr>\n",
       "    <tr>\n",
       "      <th>1</th>\n",
       "      <td>2021-06-02</td>\n",
       "      <td>0.811459</td>\n",
       "    </tr>\n",
       "    <tr>\n",
       "      <th>2</th>\n",
       "      <td>2021-06-03</td>\n",
       "      <td>0.772505</td>\n",
       "    </tr>\n",
       "    <tr>\n",
       "      <th>3</th>\n",
       "      <td>2021-06-04</td>\n",
       "      <td>0.799579</td>\n",
       "    </tr>\n",
       "    <tr>\n",
       "      <th>4</th>\n",
       "      <td>2021-06-05</td>\n",
       "      <td>0.847873</td>\n",
       "    </tr>\n",
       "  </tbody>\n",
       "</table>\n",
       "</div>"
      ],
      "text/plain": [
       "         Date  probability\n",
       "0  2021-06-01     0.830613\n",
       "1  2021-06-02     0.811459\n",
       "2  2021-06-03     0.772505\n",
       "3  2021-06-04     0.799579\n",
       "4  2021-06-05     0.847873"
      ]
     },
     "execution_count": 27,
     "metadata": {},
     "output_type": "execute_result"
    }
   ],
   "source": [
    "data_predict_summed = data_predict_clean.groupby(['Date'], as_index = False)[['probability']].mean()\n",
    "data_predict_summed.head()"
   ]
  },
  {
   "cell_type": "code",
   "execution_count": 28,
   "metadata": {
    "scrolled": true
   },
   "outputs": [
    {
     "data": {
      "text/html": [
       "<div>\n",
       "<style scoped>\n",
       "    .dataframe tbody tr th:only-of-type {\n",
       "        vertical-align: middle;\n",
       "    }\n",
       "\n",
       "    .dataframe tbody tr th {\n",
       "        vertical-align: top;\n",
       "    }\n",
       "\n",
       "    .dataframe thead th {\n",
       "        text-align: right;\n",
       "    }\n",
       "</style>\n",
       "<table border=\"1\" class=\"dataframe\">\n",
       "  <thead>\n",
       "    <tr style=\"text-align: right;\">\n",
       "      <th></th>\n",
       "      <th>Date</th>\n",
       "      <th>probability</th>\n",
       "    </tr>\n",
       "  </thead>\n",
       "  <tbody>\n",
       "    <tr>\n",
       "      <th>0</th>\n",
       "      <td>2021-06-01</td>\n",
       "      <td>0.830613</td>\n",
       "    </tr>\n",
       "    <tr>\n",
       "      <th>1</th>\n",
       "      <td>2021-06-02</td>\n",
       "      <td>0.811459</td>\n",
       "    </tr>\n",
       "    <tr>\n",
       "      <th>2</th>\n",
       "      <td>2021-06-03</td>\n",
       "      <td>0.772505</td>\n",
       "    </tr>\n",
       "    <tr>\n",
       "      <th>3</th>\n",
       "      <td>2021-06-04</td>\n",
       "      <td>0.799579</td>\n",
       "    </tr>\n",
       "    <tr>\n",
       "      <th>4</th>\n",
       "      <td>2021-06-05</td>\n",
       "      <td>0.847873</td>\n",
       "    </tr>\n",
       "    <tr>\n",
       "      <th>5</th>\n",
       "      <td>2021-06-06</td>\n",
       "      <td>0.844117</td>\n",
       "    </tr>\n",
       "    <tr>\n",
       "      <th>6</th>\n",
       "      <td>2021-06-07</td>\n",
       "      <td>0.818613</td>\n",
       "    </tr>\n",
       "    <tr>\n",
       "      <th>7</th>\n",
       "      <td>2021-06-08</td>\n",
       "      <td>0.813555</td>\n",
       "    </tr>\n",
       "    <tr>\n",
       "      <th>8</th>\n",
       "      <td>2021-06-09</td>\n",
       "      <td>0.819423</td>\n",
       "    </tr>\n",
       "    <tr>\n",
       "      <th>9</th>\n",
       "      <td>2021-06-10</td>\n",
       "      <td>0.820987</td>\n",
       "    </tr>\n",
       "    <tr>\n",
       "      <th>10</th>\n",
       "      <td>2021-06-11</td>\n",
       "      <td>0.834182</td>\n",
       "    </tr>\n",
       "    <tr>\n",
       "      <th>11</th>\n",
       "      <td>2021-06-12</td>\n",
       "      <td>0.798752</td>\n",
       "    </tr>\n",
       "    <tr>\n",
       "      <th>12</th>\n",
       "      <td>2021-06-13</td>\n",
       "      <td>0.819970</td>\n",
       "    </tr>\n",
       "    <tr>\n",
       "      <th>13</th>\n",
       "      <td>2021-06-14</td>\n",
       "      <td>0.821713</td>\n",
       "    </tr>\n",
       "    <tr>\n",
       "      <th>14</th>\n",
       "      <td>2021-06-15</td>\n",
       "      <td>0.807667</td>\n",
       "    </tr>\n",
       "    <tr>\n",
       "      <th>15</th>\n",
       "      <td>2021-06-16</td>\n",
       "      <td>0.799307</td>\n",
       "    </tr>\n",
       "    <tr>\n",
       "      <th>16</th>\n",
       "      <td>2021-06-17</td>\n",
       "      <td>0.818976</td>\n",
       "    </tr>\n",
       "    <tr>\n",
       "      <th>17</th>\n",
       "      <td>2021-06-18</td>\n",
       "      <td>0.825861</td>\n",
       "    </tr>\n",
       "    <tr>\n",
       "      <th>18</th>\n",
       "      <td>2021-06-19</td>\n",
       "      <td>0.856992</td>\n",
       "    </tr>\n",
       "    <tr>\n",
       "      <th>19</th>\n",
       "      <td>2021-06-20</td>\n",
       "      <td>0.869578</td>\n",
       "    </tr>\n",
       "    <tr>\n",
       "      <th>20</th>\n",
       "      <td>2021-06-21</td>\n",
       "      <td>0.821391</td>\n",
       "    </tr>\n",
       "    <tr>\n",
       "      <th>21</th>\n",
       "      <td>2021-06-22</td>\n",
       "      <td>0.808279</td>\n",
       "    </tr>\n",
       "    <tr>\n",
       "      <th>22</th>\n",
       "      <td>2021-06-23</td>\n",
       "      <td>0.826567</td>\n",
       "    </tr>\n",
       "    <tr>\n",
       "      <th>23</th>\n",
       "      <td>2021-06-24</td>\n",
       "      <td>0.826068</td>\n",
       "    </tr>\n",
       "    <tr>\n",
       "      <th>24</th>\n",
       "      <td>2021-06-25</td>\n",
       "      <td>0.819517</td>\n",
       "    </tr>\n",
       "    <tr>\n",
       "      <th>25</th>\n",
       "      <td>2021-06-26</td>\n",
       "      <td>0.813433</td>\n",
       "    </tr>\n",
       "    <tr>\n",
       "      <th>26</th>\n",
       "      <td>2021-06-27</td>\n",
       "      <td>0.771195</td>\n",
       "    </tr>\n",
       "    <tr>\n",
       "      <th>27</th>\n",
       "      <td>2021-06-28</td>\n",
       "      <td>0.826967</td>\n",
       "    </tr>\n",
       "    <tr>\n",
       "      <th>28</th>\n",
       "      <td>2021-06-29</td>\n",
       "      <td>0.823508</td>\n",
       "    </tr>\n",
       "    <tr>\n",
       "      <th>29</th>\n",
       "      <td>2021-06-30</td>\n",
       "      <td>0.818521</td>\n",
       "    </tr>\n",
       "    <tr>\n",
       "      <th>30</th>\n",
       "      <td>2021-07-01</td>\n",
       "      <td>0.827632</td>\n",
       "    </tr>\n",
       "    <tr>\n",
       "      <th>31</th>\n",
       "      <td>2021-07-02</td>\n",
       "      <td>0.830154</td>\n",
       "    </tr>\n",
       "    <tr>\n",
       "      <th>32</th>\n",
       "      <td>2021-07-03</td>\n",
       "      <td>0.846129</td>\n",
       "    </tr>\n",
       "    <tr>\n",
       "      <th>33</th>\n",
       "      <td>2021-07-04</td>\n",
       "      <td>0.863594</td>\n",
       "    </tr>\n",
       "    <tr>\n",
       "      <th>34</th>\n",
       "      <td>2021-07-05</td>\n",
       "      <td>0.869272</td>\n",
       "    </tr>\n",
       "    <tr>\n",
       "      <th>35</th>\n",
       "      <td>2021-07-06</td>\n",
       "      <td>0.811488</td>\n",
       "    </tr>\n",
       "    <tr>\n",
       "      <th>36</th>\n",
       "      <td>2021-07-07</td>\n",
       "      <td>0.832451</td>\n",
       "    </tr>\n",
       "  </tbody>\n",
       "</table>\n",
       "</div>"
      ],
      "text/plain": [
       "          Date  probability\n",
       "0   2021-06-01     0.830613\n",
       "1   2021-06-02     0.811459\n",
       "2   2021-06-03     0.772505\n",
       "3   2021-06-04     0.799579\n",
       "4   2021-06-05     0.847873\n",
       "5   2021-06-06     0.844117\n",
       "6   2021-06-07     0.818613\n",
       "7   2021-06-08     0.813555\n",
       "8   2021-06-09     0.819423\n",
       "9   2021-06-10     0.820987\n",
       "10  2021-06-11     0.834182\n",
       "11  2021-06-12     0.798752\n",
       "12  2021-06-13     0.819970\n",
       "13  2021-06-14     0.821713\n",
       "14  2021-06-15     0.807667\n",
       "15  2021-06-16     0.799307\n",
       "16  2021-06-17     0.818976\n",
       "17  2021-06-18     0.825861\n",
       "18  2021-06-19     0.856992\n",
       "19  2021-06-20     0.869578\n",
       "20  2021-06-21     0.821391\n",
       "21  2021-06-22     0.808279\n",
       "22  2021-06-23     0.826567\n",
       "23  2021-06-24     0.826068\n",
       "24  2021-06-25     0.819517\n",
       "25  2021-06-26     0.813433\n",
       "26  2021-06-27     0.771195\n",
       "27  2021-06-28     0.826967\n",
       "28  2021-06-29     0.823508\n",
       "29  2021-06-30     0.818521\n",
       "30  2021-07-01     0.827632\n",
       "31  2021-07-02     0.830154\n",
       "32  2021-07-03     0.846129\n",
       "33  2021-07-04     0.863594\n",
       "34  2021-07-05     0.869272\n",
       "35  2021-07-06     0.811488\n",
       "36  2021-07-07     0.832451"
      ]
     },
     "execution_count": 28,
     "metadata": {},
     "output_type": "execute_result"
    }
   ],
   "source": [
    "data_predict_summed"
   ]
  },
  {
   "cell_type": "code",
   "execution_count": 29,
   "metadata": {
    "scrolled": true
   },
   "outputs": [],
   "source": [
    "data_predict_summed.to_csv('/Users/saksheeagarwal/Downloads/data_predict_summed.csv', sep = ',',index = False)"
   ]
  },
  {
   "cell_type": "code",
   "execution_count": 30,
   "metadata": {},
   "outputs": [
    {
     "data": {
      "text/html": [
       "<div>\n",
       "<style scoped>\n",
       "    .dataframe tbody tr th:only-of-type {\n",
       "        vertical-align: middle;\n",
       "    }\n",
       "\n",
       "    .dataframe tbody tr th {\n",
       "        vertical-align: top;\n",
       "    }\n",
       "\n",
       "    .dataframe thead th {\n",
       "        text-align: right;\n",
       "    }\n",
       "</style>\n",
       "<table border=\"1\" class=\"dataframe\">\n",
       "  <thead>\n",
       "    <tr style=\"text-align: right;\">\n",
       "      <th></th>\n",
       "      <th>Date</th>\n",
       "      <th>Open</th>\n",
       "      <th>Close</th>\n",
       "    </tr>\n",
       "  </thead>\n",
       "  <tbody>\n",
       "    <tr>\n",
       "      <th>0</th>\n",
       "      <td>6/1/2021</td>\n",
       "      <td>627.799988</td>\n",
       "      <td>623.900024</td>\n",
       "    </tr>\n",
       "    <tr>\n",
       "      <th>1</th>\n",
       "      <td>6/2/2021</td>\n",
       "      <td>620.130005</td>\n",
       "      <td>605.119995</td>\n",
       "    </tr>\n",
       "    <tr>\n",
       "      <th>2</th>\n",
       "      <td>6/3/2021</td>\n",
       "      <td>601.799988</td>\n",
       "      <td>572.840027</td>\n",
       "    </tr>\n",
       "    <tr>\n",
       "      <th>3</th>\n",
       "      <td>6/4/2021</td>\n",
       "      <td>579.710022</td>\n",
       "      <td>599.049988</td>\n",
       "    </tr>\n",
       "    <tr>\n",
       "      <th>4</th>\n",
       "      <td>6/7/2021</td>\n",
       "      <td>591.830017</td>\n",
       "      <td>605.130005</td>\n",
       "    </tr>\n",
       "  </tbody>\n",
       "</table>\n",
       "</div>"
      ],
      "text/plain": [
       "       Date        Open       Close\n",
       "0  6/1/2021  627.799988  623.900024\n",
       "1  6/2/2021  620.130005  605.119995\n",
       "2  6/3/2021  601.799988  572.840027\n",
       "3  6/4/2021  579.710022  599.049988\n",
       "4  6/7/2021  591.830017  605.130005"
      ]
     },
     "execution_count": 30,
     "metadata": {},
     "output_type": "execute_result"
    }
   ],
   "source": [
    "file = '/Users/saksheeagarwal/Downloads/TSLAHist.csv'\n",
    "df = pd.read_csv(file, sep=',')\n",
    "data_hist = df.drop(['High','Low','Adj Close','Volume'],axis = 1)\n",
    "data_hist.reset_index(drop=True, inplace=True)\n",
    "data_hist.head()"
   ]
  },
  {
   "cell_type": "code",
   "execution_count": 31,
   "metadata": {},
   "outputs": [
    {
     "data": {
      "text/html": [
       "<div>\n",
       "<style scoped>\n",
       "    .dataframe tbody tr th:only-of-type {\n",
       "        vertical-align: middle;\n",
       "    }\n",
       "\n",
       "    .dataframe tbody tr th {\n",
       "        vertical-align: top;\n",
       "    }\n",
       "\n",
       "    .dataframe thead th {\n",
       "        text-align: right;\n",
       "    }\n",
       "</style>\n",
       "<table border=\"1\" class=\"dataframe\">\n",
       "  <thead>\n",
       "    <tr style=\"text-align: right;\">\n",
       "      <th></th>\n",
       "      <th>Date</th>\n",
       "      <th>Open</th>\n",
       "      <th>Close</th>\n",
       "      <th>probability</th>\n",
       "    </tr>\n",
       "  </thead>\n",
       "  <tbody>\n",
       "    <tr>\n",
       "      <th>0</th>\n",
       "      <td>2021-06-01</td>\n",
       "      <td>627.799988</td>\n",
       "      <td>623.900024</td>\n",
       "      <td>0.830613</td>\n",
       "    </tr>\n",
       "    <tr>\n",
       "      <th>1</th>\n",
       "      <td>2021-06-02</td>\n",
       "      <td>620.130005</td>\n",
       "      <td>605.119995</td>\n",
       "      <td>0.811459</td>\n",
       "    </tr>\n",
       "    <tr>\n",
       "      <th>2</th>\n",
       "      <td>2021-06-03</td>\n",
       "      <td>601.799988</td>\n",
       "      <td>572.840027</td>\n",
       "      <td>0.772505</td>\n",
       "    </tr>\n",
       "    <tr>\n",
       "      <th>3</th>\n",
       "      <td>2021-06-04</td>\n",
       "      <td>579.710022</td>\n",
       "      <td>599.049988</td>\n",
       "      <td>0.799579</td>\n",
       "    </tr>\n",
       "    <tr>\n",
       "      <th>4</th>\n",
       "      <td>2021-06-07</td>\n",
       "      <td>591.830017</td>\n",
       "      <td>605.130005</td>\n",
       "      <td>0.818613</td>\n",
       "    </tr>\n",
       "    <tr>\n",
       "      <th>5</th>\n",
       "      <td>2021-06-08</td>\n",
       "      <td>623.010010</td>\n",
       "      <td>603.590027</td>\n",
       "      <td>0.813555</td>\n",
       "    </tr>\n",
       "    <tr>\n",
       "      <th>6</th>\n",
       "      <td>2021-06-09</td>\n",
       "      <td>602.169983</td>\n",
       "      <td>598.780029</td>\n",
       "      <td>0.819423</td>\n",
       "    </tr>\n",
       "    <tr>\n",
       "      <th>7</th>\n",
       "      <td>2021-06-10</td>\n",
       "      <td>603.880005</td>\n",
       "      <td>610.119995</td>\n",
       "      <td>0.820987</td>\n",
       "    </tr>\n",
       "    <tr>\n",
       "      <th>8</th>\n",
       "      <td>2021-06-11</td>\n",
       "      <td>610.229980</td>\n",
       "      <td>609.890015</td>\n",
       "      <td>0.834182</td>\n",
       "    </tr>\n",
       "    <tr>\n",
       "      <th>9</th>\n",
       "      <td>2021-06-14</td>\n",
       "      <td>612.229980</td>\n",
       "      <td>617.690002</td>\n",
       "      <td>0.821713</td>\n",
       "    </tr>\n",
       "    <tr>\n",
       "      <th>10</th>\n",
       "      <td>2021-06-15</td>\n",
       "      <td>616.690002</td>\n",
       "      <td>599.359985</td>\n",
       "      <td>0.807667</td>\n",
       "    </tr>\n",
       "    <tr>\n",
       "      <th>11</th>\n",
       "      <td>2021-06-16</td>\n",
       "      <td>597.539978</td>\n",
       "      <td>604.869995</td>\n",
       "      <td>0.799307</td>\n",
       "    </tr>\n",
       "    <tr>\n",
       "      <th>12</th>\n",
       "      <td>2021-06-17</td>\n",
       "      <td>601.890015</td>\n",
       "      <td>616.599976</td>\n",
       "      <td>0.818976</td>\n",
       "    </tr>\n",
       "    <tr>\n",
       "      <th>13</th>\n",
       "      <td>2021-06-18</td>\n",
       "      <td>613.369995</td>\n",
       "      <td>623.309998</td>\n",
       "      <td>0.825861</td>\n",
       "    </tr>\n",
       "    <tr>\n",
       "      <th>14</th>\n",
       "      <td>2021-06-21</td>\n",
       "      <td>624.479980</td>\n",
       "      <td>620.830017</td>\n",
       "      <td>0.821391</td>\n",
       "    </tr>\n",
       "    <tr>\n",
       "      <th>15</th>\n",
       "      <td>2021-06-22</td>\n",
       "      <td>618.250000</td>\n",
       "      <td>623.710022</td>\n",
       "      <td>0.808279</td>\n",
       "    </tr>\n",
       "    <tr>\n",
       "      <th>16</th>\n",
       "      <td>2021-06-23</td>\n",
       "      <td>632.000000</td>\n",
       "      <td>656.570007</td>\n",
       "      <td>0.826567</td>\n",
       "    </tr>\n",
       "    <tr>\n",
       "      <th>17</th>\n",
       "      <td>2021-06-24</td>\n",
       "      <td>674.989990</td>\n",
       "      <td>679.820007</td>\n",
       "      <td>0.826068</td>\n",
       "    </tr>\n",
       "    <tr>\n",
       "      <th>18</th>\n",
       "      <td>2021-06-25</td>\n",
       "      <td>689.580017</td>\n",
       "      <td>671.869995</td>\n",
       "      <td>0.819517</td>\n",
       "    </tr>\n",
       "    <tr>\n",
       "      <th>19</th>\n",
       "      <td>2021-06-28</td>\n",
       "      <td>671.640015</td>\n",
       "      <td>688.719971</td>\n",
       "      <td>0.826967</td>\n",
       "    </tr>\n",
       "    <tr>\n",
       "      <th>20</th>\n",
       "      <td>2021-06-29</td>\n",
       "      <td>684.650024</td>\n",
       "      <td>680.760010</td>\n",
       "      <td>0.823508</td>\n",
       "    </tr>\n",
       "    <tr>\n",
       "      <th>21</th>\n",
       "      <td>2021-06-30</td>\n",
       "      <td>679.770020</td>\n",
       "      <td>679.700012</td>\n",
       "      <td>0.818521</td>\n",
       "    </tr>\n",
       "  </tbody>\n",
       "</table>\n",
       "</div>"
      ],
      "text/plain": [
       "         Date        Open       Close  probability\n",
       "0  2021-06-01  627.799988  623.900024     0.830613\n",
       "1  2021-06-02  620.130005  605.119995     0.811459\n",
       "2  2021-06-03  601.799988  572.840027     0.772505\n",
       "3  2021-06-04  579.710022  599.049988     0.799579\n",
       "4  2021-06-07  591.830017  605.130005     0.818613\n",
       "5  2021-06-08  623.010010  603.590027     0.813555\n",
       "6  2021-06-09  602.169983  598.780029     0.819423\n",
       "7  2021-06-10  603.880005  610.119995     0.820987\n",
       "8  2021-06-11  610.229980  609.890015     0.834182\n",
       "9  2021-06-14  612.229980  617.690002     0.821713\n",
       "10 2021-06-15  616.690002  599.359985     0.807667\n",
       "11 2021-06-16  597.539978  604.869995     0.799307\n",
       "12 2021-06-17  601.890015  616.599976     0.818976\n",
       "13 2021-06-18  613.369995  623.309998     0.825861\n",
       "14 2021-06-21  624.479980  620.830017     0.821391\n",
       "15 2021-06-22  618.250000  623.710022     0.808279\n",
       "16 2021-06-23  632.000000  656.570007     0.826567\n",
       "17 2021-06-24  674.989990  679.820007     0.826068\n",
       "18 2021-06-25  689.580017  671.869995     0.819517\n",
       "19 2021-06-28  671.640015  688.719971     0.826967\n",
       "20 2021-06-29  684.650024  680.760010     0.823508\n",
       "21 2021-06-30  679.770020  679.700012     0.818521"
      ]
     },
     "execution_count": 31,
     "metadata": {},
     "output_type": "execute_result"
    }
   ],
   "source": [
    "data_predict_summed['Date'] = pd.to_datetime(data_predict_summed['Date'])\n",
    "data_hist['Date'] = pd.to_datetime(data_hist['Date'])\n",
    "data_hist = pd.merge(data_hist, data_predict_summed, how=\"left\", on=\"Date\")\n",
    "data_hist.dropna(inplace=True)\n",
    "data_hist"
   ]
  },
  {
   "cell_type": "code",
   "execution_count": 33,
   "metadata": {},
   "outputs": [],
   "source": [
    "data_hist.to_csv('/Users/saksheeagarwal/Downloads/data_hist_cleand.csv', sep = ',',index = False)"
   ]
  }
 ],
 "metadata": {
  "kernelspec": {
   "display_name": "Python 3",
   "language": "python",
   "name": "python3"
  },
  "language_info": {
   "codemirror_mode": {
    "name": "ipython",
    "version": 3
   },
   "file_extension": ".py",
   "mimetype": "text/x-python",
   "name": "python",
   "nbconvert_exporter": "python",
   "pygments_lexer": "ipython3",
   "version": "3.8.5"
  },
  "papermill": {
   "duration": 61.693863,
   "end_time": "2021-05-19T15:12:33.634901",
   "environment_variables": {},
   "exception": null,
   "input_path": "__notebook__.ipynb",
   "output_path": "__notebook__.ipynb",
   "parameters": {},
   "start_time": "2021-05-19T15:11:31.941038",
   "version": "2.1.0"
  }
 },
 "nbformat": 4,
 "nbformat_minor": 4
}
